{
 "cells": [
  {
   "cell_type": "markdown",
   "id": "ed820c5c-e150-4bf1-a444-e7ece6cf8cbb",
   "metadata": {},
   "source": [
    "# Hugging Face Transformers"
   ]
  },
  {
   "attachments": {},
   "cell_type": "markdown",
   "id": "49a9f0e9-27b4-4fab-ba2f-fdf93515c973",
   "metadata": {},
   "source": [
    "## 0. Read in Data"
   ]
  },
  {
   "cell_type": "code",
   "execution_count": 1,
   "id": "7d180ec6-036c-4758-993f-052df8978175",
   "metadata": {},
   "outputs": [
    {
     "data": {
      "text/html": [
       "<div>\n",
       "<style scoped>\n",
       "    .dataframe tbody tr th:only-of-type {\n",
       "        vertical-align: middle;\n",
       "    }\n",
       "\n",
       "    .dataframe tbody tr th {\n",
       "        vertical-align: top;\n",
       "    }\n",
       "\n",
       "    .dataframe thead th {\n",
       "        text-align: right;\n",
       "    }\n",
       "</style>\n",
       "<table border=\"1\" class=\"dataframe\">\n",
       "  <thead>\n",
       "    <tr style=\"text-align: right;\">\n",
       "      <th></th>\n",
       "      <th>Id</th>\n",
       "      <th>UserId</th>\n",
       "      <th>Rating</th>\n",
       "      <th>Priority</th>\n",
       "      <th>Title</th>\n",
       "      <th>Text</th>\n",
       "      <th>Sentiment_VADER</th>\n",
       "    </tr>\n",
       "  </thead>\n",
       "  <tbody>\n",
       "    <tr>\n",
       "      <th>0</th>\n",
       "      <td>23689</td>\n",
       "      <td>A21SYVGVNG8RAS</td>\n",
       "      <td>5</td>\n",
       "      <td>Low</td>\n",
       "      <td>Yummy snacks!</td>\n",
       "      <td>Popchips are the bomb!!  I use the parmesan garlic to scoop up cottage cheese as a healthy alternative to chips and dip.  My healthy eating program is saved.</td>\n",
       "      <td>0.9244</td>\n",
       "    </tr>\n",
       "    <tr>\n",
       "      <th>1</th>\n",
       "      <td>23690</td>\n",
       "      <td>AQJYXC0MPRQJL</td>\n",
       "      <td>5</td>\n",
       "      <td>Low</td>\n",
       "      <td>Great chip that is different from the rest</td>\n",
       "      <td>I like the puffed nature of this chip that makes it more unique in the chip market.  I ordered the Salt and Vinegar and absolutely love that flavor, hands down my favorite chip ever.  I have tried the cheddar and regular flavors as well.  The cheddar is about a 4/5 and the regular is about a 3/5 because I prefer strong flavors and obviously that would not be the case for the regular.  The Salt and Vinegar is kind of weak compared to some regular S&amp;V chips, but is quite flavorful and makes you wanting to come back for more.</td>\n",
       "      <td>0.7269</td>\n",
       "    </tr>\n",
       "  </tbody>\n",
       "</table>\n",
       "</div>"
      ],
      "text/plain": [
       "      Id          UserId  Rating Priority  \\\n",
       "0  23689  A21SYVGVNG8RAS       5      Low   \n",
       "1  23690   AQJYXC0MPRQJL       5      Low   \n",
       "\n",
       "                                        Title  \\\n",
       "0                               Yummy snacks!   \n",
       "1  Great chip that is different from the rest   \n",
       "\n",
       "                                                                                                                                                                                                                                                                                                                                                                                                                                                                                                                                               Text  \\\n",
       "0                                                                                                                                                                                                                                                                                                                                                                                     Popchips are the bomb!!  I use the parmesan garlic to scoop up cottage cheese as a healthy alternative to chips and dip.  My healthy eating program is saved.   \n",
       "1  I like the puffed nature of this chip that makes it more unique in the chip market.  I ordered the Salt and Vinegar and absolutely love that flavor, hands down my favorite chip ever.  I have tried the cheddar and regular flavors as well.  The cheddar is about a 4/5 and the regular is about a 3/5 because I prefer strong flavors and obviously that would not be the case for the regular.  The Salt and Vinegar is kind of weak compared to some regular S&V chips, but is quite flavorful and makes you wanting to come back for more.   \n",
       "\n",
       "   Sentiment_VADER  \n",
       "0           0.9244  \n",
       "1           0.7269  "
      ]
     },
     "execution_count": 1,
     "metadata": {},
     "output_type": "execute_result"
    }
   ],
   "source": [
    "import pandas as pd\n",
    "\n",
    "# modify the column width\n",
    "pd.set_option('display.max_colwidth', None)\n",
    "\n",
    "# look at a subset of the reviews\n",
    "df = pd.read_excel('../Data/Popchip_Reviews_Sentiment.xlsx').head(30)\n",
    "df.head(2)"
   ]
  },
  {
   "cell_type": "code",
   "execution_count": 2,
   "id": "a19123b2-5a7d-46c0-b57e-6c2ec5cdd953",
   "metadata": {},
   "outputs": [
    {
     "data": {
      "text/plain": [
       "(30, 7)"
      ]
     },
     "execution_count": 2,
     "metadata": {},
     "output_type": "execute_result"
    }
   ],
   "source": [
    "# confirm the number of reviews\n",
    "df.shape"
   ]
  },
  {
   "cell_type": "markdown",
   "id": "9e84e392-c856-4878-b5ac-53a972b09eef",
   "metadata": {},
   "source": [
    "## 1. Sentiment Analysis"
   ]
  },
  {
   "cell_type": "markdown",
   "id": "f7e979d0-7d4a-48e5-bcbf-9be5b1290710",
   "metadata": {},
   "source": [
    "### a. Simple Example"
   ]
  },
  {
   "cell_type": "code",
   "execution_count": 3,
   "id": "f0c09845-af76-4a25-89c3-b2fc0b3cf20e",
   "metadata": {},
   "outputs": [
    {
     "name": "stderr",
     "output_type": "stream",
     "text": [
      "Device set to use cpu\n"
     ]
    }
   ],
   "source": [
    "# sentiment analysis with hugging face\n",
    "from transformers import pipeline\n",
    "\n",
    "sentiment_analyzer = pipeline(\"sentiment-analysis\", # set the task to sentiment analysis\n",
    "                              model=\"distilbert/distilbert-base-uncased-finetuned-sst-2-english\", # specify the default distilbert model\n",
    "                              device=-1) # use the computer's cpu\n",
    "\n",
    "text1 = 'When life gives you lemons, make lemonade! 🙂'\n",
    "text2 = 'A dozen lemons will make a gallon of lemonade.'\n",
    "text3 = 'I didn\\'t like the taste of that lemonade at all.'"
   ]
  },
  {
   "cell_type": "code",
   "execution_count": 4,
   "id": "dbfa46bf-d8a8-4472-99df-cc3c4a12dd42",
   "metadata": {},
   "outputs": [
    {
     "data": {
      "text/plain": [
       "[{'label': 'POSITIVE', 'score': 0.996239423751831}]"
      ]
     },
     "execution_count": 4,
     "metadata": {},
     "output_type": "execute_result"
    }
   ],
   "source": [
    "sentiment_analyzer(text1)"
   ]
  },
  {
   "cell_type": "code",
   "execution_count": 5,
   "id": "9a20c811-dadd-4450-a1a7-39be492ee1d5",
   "metadata": {},
   "outputs": [
    {
     "data": {
      "text/plain": [
       "[{'label': 'POSITIVE', 'score': 0.7781561613082886}]"
      ]
     },
     "execution_count": 5,
     "metadata": {},
     "output_type": "execute_result"
    }
   ],
   "source": [
    "sentiment_analyzer(text2)"
   ]
  },
  {
   "cell_type": "code",
   "execution_count": 6,
   "id": "2547d83b-0e4c-4fbf-ab3f-e42b1c8f236f",
   "metadata": {},
   "outputs": [
    {
     "data": {
      "text/plain": [
       "[{'label': 'NEGATIVE', 'score': 0.9955588579177856}]"
      ]
     },
     "execution_count": 6,
     "metadata": {},
     "output_type": "execute_result"
    }
   ],
   "source": [
    "sentiment_analyzer(text3)"
   ]
  },
  {
   "cell_type": "markdown",
   "id": "80008300-beda-43c0-af55-8bb95771c051",
   "metadata": {},
   "source": [
    "### b. Practical Example"
   ]
  },
  {
   "cell_type": "code",
   "execution_count": 7,
   "id": "1a4cd17b-42ba-4ada-b524-cc2e3e7f9c17",
   "metadata": {},
   "outputs": [
    {
     "name": "stderr",
     "output_type": "stream",
     "text": [
      "Device set to use cpu\n"
     ]
    },
    {
     "data": {
      "text/plain": [
       "0    [{'label': 'POSITIVE', 'score': 0.9935212731361389}]\n",
       "1     [{'label': 'POSITIVE', 'score': 0.999605119228363}]\n",
       "2    [{'label': 'NEGATIVE', 'score': 0.6984862685203552}]\n",
       "3    [{'label': 'NEGATIVE', 'score': 0.9996308088302612}]\n",
       "4    [{'label': 'POSITIVE', 'score': 0.9991814494132996}]\n",
       "Name: Text, dtype: object"
      ]
     },
     "execution_count": 7,
     "metadata": {},
     "output_type": "execute_result"
    }
   ],
   "source": [
    "# calculate the sentiment scores\n",
    "sentiment_analyzer = pipeline(\"sentiment-analysis\",\n",
    "                              model=\"distilbert/distilbert-base-uncased-finetuned-sst-2-english\",\n",
    "                              device=-1,\n",
    "                              truncation=True) # adding truncation here to truncate text before analyzing sentiment\n",
    "\n",
    "sentiment_scores = df['Text'].apply(sentiment_analyzer)\n",
    "sentiment_scores[:5]"
   ]
  },
  {
   "cell_type": "code",
   "execution_count": 8,
   "id": "c0846266-6d86-41f5-8f40-84c9e2d24d59",
   "metadata": {},
   "outputs": [
    {
     "name": "stdout",
     "output_type": "stream",
     "text": [
      "CPU times: user 1min 59s, sys: 8.91 s, total: 2min 8s\n",
      "Wall time: 18 s\n"
     ]
    },
    {
     "data": {
      "text/plain": [
       "0    [{'label': 'POSITIVE', 'score': 0.9935212731361389}]\n",
       "1     [{'label': 'POSITIVE', 'score': 0.999605119228363}]\n",
       "2    [{'label': 'NEGATIVE', 'score': 0.6984862685203552}]\n",
       "3    [{'label': 'NEGATIVE', 'score': 0.9996308088302612}]\n",
       "4    [{'label': 'POSITIVE', 'score': 0.9991814494132996}]\n",
       "Name: Text, dtype: object"
      ]
     },
     "execution_count": 8,
     "metadata": {},
     "output_type": "execute_result"
    }
   ],
   "source": [
    "%%time\n",
    "\n",
    "# add a timer and hide all non-critical warnings\n",
    "from transformers import pipeline, logging\n",
    "\n",
    "logging.set_verbosity_error()\n",
    "\n",
    "sentiment_analyzer = pipeline(\"sentiment-analysis\",\n",
    "                              model=\"distilbert/distilbert-base-uncased-finetuned-sst-2-english\",\n",
    "                              device=-1,\n",
    "                              truncation=True)\n",
    "\n",
    "sentiment_scores = df['Text'].apply(sentiment_analyzer)\n",
    "sentiment_scores[:5]"
   ]
  },
  {
   "cell_type": "code",
   "execution_count": 9,
   "id": "16bccbad-9829-4cea-a008-8493ff0f4c08",
   "metadata": {},
   "outputs": [
    {
     "name": "stdout",
     "output_type": "stream",
     "text": [
      "CPU times: user 926 ms, sys: 231 ms, total: 1.16 s\n",
      "Wall time: 1.44 s\n"
     ]
    },
    {
     "data": {
      "text/plain": [
       "0    [{'label': 'POSITIVE', 'score': 0.9935213923454285}]\n",
       "1     [{'label': 'POSITIVE', 'score': 0.999605119228363}]\n",
       "2    [{'label': 'NEGATIVE', 'score': 0.6984829306602478}]\n",
       "3    [{'label': 'NEGATIVE', 'score': 0.9996308088302612}]\n",
       "4    [{'label': 'POSITIVE', 'score': 0.9991814494132996}]\n",
       "Name: Text, dtype: object"
      ]
     },
     "execution_count": 9,
     "metadata": {},
     "output_type": "execute_result"
    }
   ],
   "source": [
    "%%time\n",
    "\n",
    "# utilize mac's silicon chip (gpu)\n",
    "sentiment_analyzer = pipeline(\"sentiment-analysis\",\n",
    "                              model=\"distilbert/distilbert-base-uncased-finetuned-sst-2-english\",\n",
    "                              device='mps', # update from -1 to mps\n",
    "                              truncation=True)\n",
    "\n",
    "sentiment_scores = df['Text'].apply(sentiment_analyzer)\n",
    "sentiment_scores[:5]"
   ]
  },
  {
   "cell_type": "code",
   "execution_count": 10,
   "id": "71accf91-3dec-45d9-b097-37d3cd71b836",
   "metadata": {},
   "outputs": [
    {
     "data": {
      "text/plain": [
       "'POSITIVE'"
      ]
     },
     "execution_count": 10,
     "metadata": {},
     "output_type": "execute_result"
    }
   ],
   "source": [
    "# extract the label for a single review\n",
    "sentiment_scores[0][0]['label']"
   ]
  },
  {
   "cell_type": "code",
   "execution_count": 11,
   "id": "9be1d558-f676-42f2-bf3e-6068b7a9dcd8",
   "metadata": {},
   "outputs": [
    {
     "data": {
      "text/plain": [
       "0.9935213923454285"
      ]
     },
     "execution_count": 11,
     "metadata": {},
     "output_type": "execute_result"
    }
   ],
   "source": [
    "# extract the score for a single review\n",
    "sentiment_scores[0][0]['score']"
   ]
  },
  {
   "cell_type": "code",
   "execution_count": 12,
   "id": "7e6251bb-c32a-4b62-adfe-c02e1229f80b",
   "metadata": {},
   "outputs": [],
   "source": [
    "# extract the label and score and create a sentiment score for all reviews\n",
    "df['Label_HF'] = sentiment_scores.apply(lambda x: x[0]['label'])\n",
    "df['Score_HF'] = sentiment_scores.apply(lambda x: x[0]['score'])\n",
    "df['Sentiment_HF'] = df.apply(lambda row: row['Score_HF'] if row['Label_HF'] == 'POSITIVE' else -row['Score_HF'], axis=1)"
   ]
  },
  {
   "cell_type": "code",
   "execution_count": 13,
   "id": "faef2a77-16a0-4140-96f5-1f3e1865fe38",
   "metadata": {},
   "outputs": [
    {
     "data": {
      "text/html": [
       "<div>\n",
       "<style scoped>\n",
       "    .dataframe tbody tr th:only-of-type {\n",
       "        vertical-align: middle;\n",
       "    }\n",
       "\n",
       "    .dataframe tbody tr th {\n",
       "        vertical-align: top;\n",
       "    }\n",
       "\n",
       "    .dataframe thead th {\n",
       "        text-align: right;\n",
       "    }\n",
       "</style>\n",
       "<table border=\"1\" class=\"dataframe\">\n",
       "  <thead>\n",
       "    <tr style=\"text-align: right;\">\n",
       "      <th></th>\n",
       "      <th>Rating</th>\n",
       "      <th>Text</th>\n",
       "      <th>Sentiment_VADER</th>\n",
       "      <th>Label_HF</th>\n",
       "      <th>Score_HF</th>\n",
       "      <th>Sentiment_HF</th>\n",
       "    </tr>\n",
       "  </thead>\n",
       "  <tbody>\n",
       "    <tr>\n",
       "      <th>0</th>\n",
       "      <td>5</td>\n",
       "      <td>Popchips are the bomb!!  I use the parmesan garlic to scoop up cottage cheese as a healthy alternative to chips and dip.  My healthy eating program is saved.</td>\n",
       "      <td>0.9244</td>\n",
       "      <td>POSITIVE</td>\n",
       "      <td>0.993521</td>\n",
       "      <td>0.993521</td>\n",
       "    </tr>\n",
       "    <tr>\n",
       "      <th>1</th>\n",
       "      <td>5</td>\n",
       "      <td>I like the puffed nature of this chip that makes it more unique in the chip market.  I ordered the Salt and Vinegar and absolutely love that flavor, hands down my favorite chip ever.  I have tried the cheddar and regular flavors as well.  The cheddar is about a 4/5 and the regular is about a 3/5 because I prefer strong flavors and obviously that would not be the case for the regular.  The Salt and Vinegar is kind of weak compared to some regular S&amp;V chips, but is quite flavorful and makes you wanting to come back for more.</td>\n",
       "      <td>0.7269</td>\n",
       "      <td>POSITIVE</td>\n",
       "      <td>0.999605</td>\n",
       "      <td>0.999605</td>\n",
       "    </tr>\n",
       "    <tr>\n",
       "      <th>2</th>\n",
       "      <td>5</td>\n",
       "      <td>I just love these chips!  I was always a big fan of potato chips, but haven't had one since I discovered popchips.  They are great for dipping or all alone.  I am constantly re-ordering them.  One note however-if you are on a low salt diet these chips are probably not for you. They are high in sodium.  We go through a case every two months.  If you love them it pays to join the subscribe and save program through Amazon.  You save money and stay supplied!</td>\n",
       "      <td>0.9790</td>\n",
       "      <td>NEGATIVE</td>\n",
       "      <td>0.698483</td>\n",
       "      <td>-0.698483</td>\n",
       "    </tr>\n",
       "    <tr>\n",
       "      <th>3</th>\n",
       "      <td>3</td>\n",
       "      <td>These tasted like potatoe stix, that we got in grade school with our lunches usually on pizza day.  They were the bomb then, not so much now.  Won't buy again unless I get them for cheap or free.</td>\n",
       "      <td>0.8689</td>\n",
       "      <td>NEGATIVE</td>\n",
       "      <td>0.999631</td>\n",
       "      <td>-0.999631</td>\n",
       "    </tr>\n",
       "    <tr>\n",
       "      <th>4</th>\n",
       "      <td>5</td>\n",
       "      <td>These chips are great!  They look almost like a flattened rice cake, but taste so much better, more like a potato chip. The bbq flavor is delicious. They are very low in fat and full of flavor. It is easy to eat an entire bag of these!</td>\n",
       "      <td>0.9613</td>\n",
       "      <td>POSITIVE</td>\n",
       "      <td>0.999181</td>\n",
       "      <td>0.999181</td>\n",
       "    </tr>\n",
       "  </tbody>\n",
       "</table>\n",
       "</div>"
      ],
      "text/plain": [
       "   Rating  \\\n",
       "0       5   \n",
       "1       5   \n",
       "2       5   \n",
       "3       3   \n",
       "4       5   \n",
       "\n",
       "                                                                                                                                                                                                                                                                                                                                                                                                                                                                                                                                               Text  \\\n",
       "0                                                                                                                                                                                                                                                                                                                                                                                     Popchips are the bomb!!  I use the parmesan garlic to scoop up cottage cheese as a healthy alternative to chips and dip.  My healthy eating program is saved.   \n",
       "1  I like the puffed nature of this chip that makes it more unique in the chip market.  I ordered the Salt and Vinegar and absolutely love that flavor, hands down my favorite chip ever.  I have tried the cheddar and regular flavors as well.  The cheddar is about a 4/5 and the regular is about a 3/5 because I prefer strong flavors and obviously that would not be the case for the regular.  The Salt and Vinegar is kind of weak compared to some regular S&V chips, but is quite flavorful and makes you wanting to come back for more.   \n",
       "2                                                                        I just love these chips!  I was always a big fan of potato chips, but haven't had one since I discovered popchips.  They are great for dipping or all alone.  I am constantly re-ordering them.  One note however-if you are on a low salt diet these chips are probably not for you. They are high in sodium.  We go through a case every two months.  If you love them it pays to join the subscribe and save program through Amazon.  You save money and stay supplied!   \n",
       "3                                                                                                                                                                                                                                                                                                                                               These tasted like potatoe stix, that we got in grade school with our lunches usually on pizza day.  They were the bomb then, not so much now.  Won't buy again unless I get them for cheap or free.   \n",
       "4                                                                                                                                                                                                                                                                                                       These chips are great!  They look almost like a flattened rice cake, but taste so much better, more like a potato chip. The bbq flavor is delicious. They are very low in fat and full of flavor. It is easy to eat an entire bag of these!   \n",
       "\n",
       "   Sentiment_VADER  Label_HF  Score_HF  Sentiment_HF  \n",
       "0           0.9244  POSITIVE  0.993521      0.993521  \n",
       "1           0.7269  POSITIVE  0.999605      0.999605  \n",
       "2           0.9790  NEGATIVE  0.698483     -0.698483  \n",
       "3           0.8689  NEGATIVE  0.999631     -0.999631  \n",
       "4           0.9613  POSITIVE  0.999181      0.999181  "
      ]
     },
     "execution_count": 13,
     "metadata": {},
     "output_type": "execute_result"
    }
   ],
   "source": [
    "# view the calculations\n",
    "df[['Rating', 'Text', 'Sentiment_VADER', 'Label_HF', 'Score_HF', 'Sentiment_HF']].head()"
   ]
  },
  {
   "cell_type": "code",
   "execution_count": 14,
   "id": "b3b0238a-50cc-434c-be81-aa101cd4f910",
   "metadata": {},
   "outputs": [
    {
     "data": {
      "text/plain": [
       "28    These Pop Chips are incredible. They taste so much better than baked chips and the quantity you get for 2 points is so much more. I buy the variety case and love them all!\n",
       "Name: Text, dtype: object"
      ]
     },
     "execution_count": 14,
     "metadata": {},
     "output_type": "execute_result"
    }
   ],
   "source": [
    "# view the most positive review\n",
    "df.sort_values('Sentiment_HF', ascending=False).head(1).Text"
   ]
  },
  {
   "cell_type": "code",
   "execution_count": 15,
   "id": "d3d6eada-ae5c-49e0-9442-b131c95300eb",
   "metadata": {},
   "outputs": [
    {
     "data": {
      "text/plain": [
       "3    These tasted like potatoe stix, that we got in grade school with our lunches usually on pizza day.  They were the bomb then, not so much now.  Won't buy again unless I get them for cheap or free.\n",
       "Name: Text, dtype: object"
      ]
     },
     "execution_count": 15,
     "metadata": {},
     "output_type": "execute_result"
    }
   ],
   "source": [
    "# view the most negative review\n",
    "df.sort_values('Sentiment_HF', ascending=True).head(1).Text"
   ]
  },
  {
   "cell_type": "markdown",
   "id": "01883fd7-fb13-4473-adf9-18ede4f1b95f",
   "metadata": {},
   "source": [
    "### c. Speed Up Code"
   ]
  },
  {
   "cell_type": "code",
   "execution_count": 16,
   "id": "3b605f9c-81b8-45a4-ae89-52b8214ac3a6",
   "metadata": {},
   "outputs": [
    {
     "name": "stdout",
     "output_type": "stream",
     "text": [
      "CPU times: user 1min 34s, sys: 11.2 s, total: 1min 45s\n",
      "Wall time: 14.9 s\n"
     ]
    },
    {
     "data": {
      "text/plain": [
       "0    [{'label': 'POSITIVE', 'score': 0.9935212731361389}]\n",
       "1     [{'label': 'POSITIVE', 'score': 0.999605119228363}]\n",
       "2    [{'label': 'NEGATIVE', 'score': 0.6984862685203552}]\n",
       "3    [{'label': 'NEGATIVE', 'score': 0.9996308088302612}]\n",
       "4    [{'label': 'POSITIVE', 'score': 0.9991814494132996}]\n",
       "Name: Text, dtype: object"
      ]
     },
     "execution_count": 16,
     "metadata": {},
     "output_type": "execute_result"
    }
   ],
   "source": [
    "%%time\n",
    "\n",
    "# no optimizations\n",
    "from transformers import pipeline\n",
    "\n",
    "sentiment_analyzer = pipeline(\n",
    "    \"sentiment-analysis\",\n",
    "    model=\"distilbert-base-uncased-finetuned-sst-2-english\",\n",
    "    device=-1, # running on CPU\n",
    "    truncation=True\n",
    ")\n",
    "\n",
    "sentiment_scores = df['Text'].apply(sentiment_analyzer)\n",
    "sentiment_scores[:5]"
   ]
  },
  {
   "cell_type": "code",
   "execution_count": 17,
   "id": "675e7956-c378-464a-8efe-236b537f9e2f",
   "metadata": {},
   "outputs": [
    {
     "name": "stdout",
     "output_type": "stream",
     "text": [
      "CPU times: user 18.7 s, sys: 1.73 s, total: 20.4 s\n",
      "Wall time: 2.89 s\n"
     ]
    },
    {
     "data": {
      "text/plain": [
       "0    [{'label': 'POSITIVE', 'score': 0.9935212731361389}]\n",
       "1     [{'label': 'POSITIVE', 'score': 0.999605119228363}]\n",
       "2    [{'label': 'NEGATIVE', 'score': 0.6984862685203552}]\n",
       "3    [{'label': 'NEGATIVE', 'score': 0.9996308088302612}]\n",
       "4    [{'label': 'POSITIVE', 'score': 0.9991814494132996}]\n",
       "Name: Text, dtype: object"
      ]
     },
     "execution_count": 17,
     "metadata": {},
     "output_type": "execute_result"
    }
   ],
   "source": [
    "%%time\n",
    "\n",
    "# four things to try if you can't use GPU\n",
    "from transformers import pipeline\n",
    "\n",
    "sentiment_analyzer = pipeline(\n",
    "    \"sentiment-analysis\",\n",
    "    model=\"distilbert-base-uncased-finetuned-sst-2-english\", # 1. smaller model\n",
    "    device=-1, # running on CPU\n",
    "    truncation=True,\n",
    "    use_fast=True # 2. faster tokenization\n",
    ")\n",
    "\n",
    "import torch\n",
    "torch.set_num_threads(1)  # 3. specify multi-threading\n",
    "\n",
    "with torch.no_grad(): # 4. disable gradients\n",
    "    sentiment_scores = df['Text'].apply(sentiment_analyzer)\n",
    "sentiment_scores[:5]"
   ]
  },
  {
   "cell_type": "markdown",
   "id": "f86bf545-939b-40d9-9766-0952d5e433c5",
   "metadata": {},
   "source": [
    "## 2. Named Entity Recognition"
   ]
  },
  {
   "cell_type": "markdown",
   "id": "85925714-13fb-405f-ab50-d4416ae5d2cc",
   "metadata": {},
   "source": [
    "### a. Simple Example"
   ]
  },
  {
   "cell_type": "code",
   "execution_count": 18,
   "id": "8d3f7e37-f8d0-4026-821d-0d94c1b76e07",
   "metadata": {},
   "outputs": [],
   "source": [
    "# view warning options\n",
    "logging.set_verbosity_warning() # view more warnings\n",
    "logging.set_verbosity_error() # view fewer warnings"
   ]
  },
  {
   "cell_type": "code",
   "execution_count": 19,
   "id": "6f091a0d-28f1-4636-b335-a2aeb8695e35",
   "metadata": {},
   "outputs": [],
   "source": [
    "# ner with hugging face\n",
    "ner_analyzer = pipeline(\"ner\",\n",
    "                        model=\"dbmdz/bert-large-cased-finetuned-conll03-english\",\n",
    "                        device=-1,\n",
    "                        aggregation_strategy='SIMPLE')\n",
    "\n",
    "text4 = \"I ordered an Arnold Palmer at Applebee's in Springfield.\""
   ]
  },
  {
   "cell_type": "code",
   "execution_count": 20,
   "id": "0e711acf-e960-4bc0-8dad-77ca75634ca5",
   "metadata": {},
   "outputs": [
    {
     "data": {
      "text/plain": [
       "[{'entity_group': 'MISC',\n",
       "  'score': np.float32(0.9914088),\n",
       "  'word': 'Arnold Palmer',\n",
       "  'start': 13,\n",
       "  'end': 26},\n",
       " {'entity_group': 'ORG',\n",
       "  'score': np.float32(0.9436141),\n",
       "  'word': \"Applebee ' s\",\n",
       "  'start': 30,\n",
       "  'end': 40},\n",
       " {'entity_group': 'LOC',\n",
       "  'score': np.float32(0.9780036),\n",
       "  'word': 'Springfield',\n",
       "  'start': 44,\n",
       "  'end': 55}]"
      ]
     },
     "execution_count": 20,
     "metadata": {},
     "output_type": "execute_result"
    }
   ],
   "source": [
    "ner_analyzer(text4)"
   ]
  },
  {
   "cell_type": "code",
   "execution_count": 21,
   "id": "f1e52c68-db61-47a2-9f81-1106c9547604",
   "metadata": {},
   "outputs": [],
   "source": [
    "# try a different model\n",
    "ner_analyzer2 = pipeline(\"ner\",\n",
    "                        model=\"dslim/bert-base-NER\",\n",
    "                        device=-1,\n",
    "                        aggregation_strategy='SIMPLE')"
   ]
  },
  {
   "cell_type": "code",
   "execution_count": 22,
   "id": "253433b7-9ec0-4820-b519-b63192333adf",
   "metadata": {},
   "outputs": [
    {
     "data": {
      "text/plain": [
       "[{'entity_group': 'PER',\n",
       "  'score': np.float32(0.87662256),\n",
       "  'word': 'Arnold Palmer',\n",
       "  'start': 13,\n",
       "  'end': 26},\n",
       " {'entity_group': 'ORG',\n",
       "  'score': np.float32(0.70051384),\n",
       "  'word': 'Applebee',\n",
       "  'start': 30,\n",
       "  'end': 38},\n",
       " {'entity_group': 'LOC',\n",
       "  'score': np.float32(0.628926),\n",
       "  'word': \"' s\",\n",
       "  'start': 38,\n",
       "  'end': 40},\n",
       " {'entity_group': 'LOC',\n",
       "  'score': np.float32(0.99173564),\n",
       "  'word': 'Springfield',\n",
       "  'start': 44,\n",
       "  'end': 55}]"
      ]
     },
     "execution_count": 22,
     "metadata": {},
     "output_type": "execute_result"
    }
   ],
   "source": [
    "ner_analyzer2(text4)"
   ]
  },
  {
   "cell_type": "markdown",
   "id": "8cd9f5c3-a87a-41e7-be4e-a37aafe5f25c",
   "metadata": {},
   "source": [
    "### b. Practical Example"
   ]
  },
  {
   "cell_type": "code",
   "execution_count": 23,
   "id": "b6bfda85-a644-4995-889f-b11d8d1599cb",
   "metadata": {},
   "outputs": [],
   "source": [
    "# find the named entities in each review\n",
    "ner_analyzer = pipeline(\"ner\",\n",
    "                        model=\"dbmdz/bert-large-cased-finetuned-conll03-english\",\n",
    "                        device='mps',\n",
    "                        aggregation_strategy='SIMPLE')"
   ]
  },
  {
   "cell_type": "code",
   "execution_count": 24,
   "id": "bb774c30-5c15-49fd-81e8-be7c6a1ec3fe",
   "metadata": {},
   "outputs": [
    {
     "data": {
      "text/plain": [
       "[{'entity_group': 'MISC',\n",
       "  'score': np.float32(0.9149264),\n",
       "  'word': 'Salt and Vinegar',\n",
       "  'start': 99,\n",
       "  'end': 115},\n",
       " {'entity_group': 'MISC',\n",
       "  'score': np.float32(0.7742393),\n",
       "  'word': 'Salt and Vinegar',\n",
       "  'start': 392,\n",
       "  'end': 408},\n",
       " {'entity_group': 'ORG',\n",
       "  'score': np.float32(0.9589692),\n",
       "  'word': 'S & V',\n",
       "  'start': 450,\n",
       "  'end': 453}]"
      ]
     },
     "execution_count": 24,
     "metadata": {},
     "output_type": "execute_result"
    }
   ],
   "source": [
    "# apply to one review\n",
    "ner_analyzer(df.Text[1])"
   ]
  },
  {
   "cell_type": "code",
   "execution_count": 25,
   "id": "c8bcfd5d-c27b-4028-aceb-daaecf7cc615",
   "metadata": {},
   "outputs": [
    {
     "data": {
      "text/plain": [
       "['Salt and Vinegar', 'Salt and Vinegar', 'S & V']"
      ]
     },
     "execution_count": 25,
     "metadata": {},
     "output_type": "execute_result"
    }
   ],
   "source": [
    "# extract the words\n",
    "[entity['word'] for entity in ner_analyzer(df.Text[1])]"
   ]
  },
  {
   "cell_type": "code",
   "execution_count": 26,
   "id": "6ec058ee-75ea-42f9-8225-aa3df7b89a4c",
   "metadata": {},
   "outputs": [],
   "source": [
    "# apply to all reviews\n",
    "df['Named_Entities'] = df['Text'].apply(lambda x: [entity['word'] for entity in ner_analyzer(x)])"
   ]
  },
  {
   "cell_type": "code",
   "execution_count": 27,
   "id": "4bfee5d0-280b-4920-9a87-5435a7570f77",
   "metadata": {},
   "outputs": [
    {
     "data": {
      "text/html": [
       "<div>\n",
       "<style scoped>\n",
       "    .dataframe tbody tr th:only-of-type {\n",
       "        vertical-align: middle;\n",
       "    }\n",
       "\n",
       "    .dataframe tbody tr th {\n",
       "        vertical-align: top;\n",
       "    }\n",
       "\n",
       "    .dataframe thead th {\n",
       "        text-align: right;\n",
       "    }\n",
       "</style>\n",
       "<table border=\"1\" class=\"dataframe\">\n",
       "  <thead>\n",
       "    <tr style=\"text-align: right;\">\n",
       "      <th></th>\n",
       "      <th>Text</th>\n",
       "      <th>Named_Entities</th>\n",
       "    </tr>\n",
       "  </thead>\n",
       "  <tbody>\n",
       "    <tr>\n",
       "      <th>0</th>\n",
       "      <td>Popchips are the bomb!!  I use the parmesan garlic to scoop up cottage cheese as a healthy alternative to chips and dip.  My healthy eating program is saved.</td>\n",
       "      <td>[]</td>\n",
       "    </tr>\n",
       "    <tr>\n",
       "      <th>1</th>\n",
       "      <td>I like the puffed nature of this chip that makes it more unique in the chip market.  I ordered the Salt and Vinegar and absolutely love that flavor, hands down my favorite chip ever.  I have tried the cheddar and regular flavors as well.  The cheddar is about a 4/5 and the regular is about a 3/5 because I prefer strong flavors and obviously that would not be the case for the regular.  The Salt and Vinegar is kind of weak compared to some regular S&amp;V chips, but is quite flavorful and makes you wanting to come back for more.</td>\n",
       "      <td>[Salt and Vinegar, Salt and Vinegar, S &amp; V]</td>\n",
       "    </tr>\n",
       "    <tr>\n",
       "      <th>2</th>\n",
       "      <td>I just love these chips!  I was always a big fan of potato chips, but haven't had one since I discovered popchips.  They are great for dipping or all alone.  I am constantly re-ordering them.  One note however-if you are on a low salt diet these chips are probably not for you. They are high in sodium.  We go through a case every two months.  If you love them it pays to join the subscribe and save program through Amazon.  You save money and stay supplied!</td>\n",
       "      <td>[Amazon]</td>\n",
       "    </tr>\n",
       "    <tr>\n",
       "      <th>3</th>\n",
       "      <td>These tasted like potatoe stix, that we got in grade school with our lunches usually on pizza day.  They were the bomb then, not so much now.  Won't buy again unless I get them for cheap or free.</td>\n",
       "      <td>[]</td>\n",
       "    </tr>\n",
       "    <tr>\n",
       "      <th>4</th>\n",
       "      <td>These chips are great!  They look almost like a flattened rice cake, but taste so much better, more like a potato chip. The bbq flavor is delicious. They are very low in fat and full of flavor. It is easy to eat an entire bag of these!</td>\n",
       "      <td>[]</td>\n",
       "    </tr>\n",
       "  </tbody>\n",
       "</table>\n",
       "</div>"
      ],
      "text/plain": [
       "                                                                                                                                                                                                                                                                                                                                                                                                                                                                                                                                               Text  \\\n",
       "0                                                                                                                                                                                                                                                                                                                                                                                     Popchips are the bomb!!  I use the parmesan garlic to scoop up cottage cheese as a healthy alternative to chips and dip.  My healthy eating program is saved.   \n",
       "1  I like the puffed nature of this chip that makes it more unique in the chip market.  I ordered the Salt and Vinegar and absolutely love that flavor, hands down my favorite chip ever.  I have tried the cheddar and regular flavors as well.  The cheddar is about a 4/5 and the regular is about a 3/5 because I prefer strong flavors and obviously that would not be the case for the regular.  The Salt and Vinegar is kind of weak compared to some regular S&V chips, but is quite flavorful and makes you wanting to come back for more.   \n",
       "2                                                                        I just love these chips!  I was always a big fan of potato chips, but haven't had one since I discovered popchips.  They are great for dipping or all alone.  I am constantly re-ordering them.  One note however-if you are on a low salt diet these chips are probably not for you. They are high in sodium.  We go through a case every two months.  If you love them it pays to join the subscribe and save program through Amazon.  You save money and stay supplied!   \n",
       "3                                                                                                                                                                                                                                                                                                                                               These tasted like potatoe stix, that we got in grade school with our lunches usually on pizza day.  They were the bomb then, not so much now.  Won't buy again unless I get them for cheap or free.   \n",
       "4                                                                                                                                                                                                                                                                                                       These chips are great!  They look almost like a flattened rice cake, but taste so much better, more like a potato chip. The bbq flavor is delicious. They are very low in fat and full of flavor. It is easy to eat an entire bag of these!   \n",
       "\n",
       "                                Named_Entities  \n",
       "0                                           []  \n",
       "1  [Salt and Vinegar, Salt and Vinegar, S & V]  \n",
       "2                                     [Amazon]  \n",
       "3                                           []  \n",
       "4                                           []  "
      ]
     },
     "execution_count": 27,
     "metadata": {},
     "output_type": "execute_result"
    }
   ],
   "source": [
    "# view the named entities\n",
    "df[['Text', 'Named_Entities']].head()"
   ]
  },
  {
   "cell_type": "code",
   "execution_count": 28,
   "id": "735c7eac-03fb-415a-aec2-5bf7f6b296b8",
   "metadata": {},
   "outputs": [
    {
     "data": {
      "text/plain": [
       "['Popchips',\n",
       " 'Ch',\n",
       " '##ar',\n",
       " 'General Mills',\n",
       " 'Chip',\n",
       " '& V',\n",
       " 'S & V',\n",
       " 'Watch',\n",
       " 'Costco',\n",
       " \"Vinegar Pirate ' s Bo\"]"
      ]
     },
     "execution_count": 28,
     "metadata": {},
     "output_type": "execute_result"
    }
   ],
   "source": [
    "# create a unique list of named entities\n",
    "named_entities = list(set(df.Named_Entities.explode().dropna().tolist()))\n",
    "named_entities[:10]"
   ]
  },
  {
   "cell_type": "code",
   "execution_count": 29,
   "id": "07cf30a2-da48-43b8-a267-fed52f591013",
   "metadata": {},
   "outputs": [
    {
     "data": {
      "text/plain": [
       "33"
      ]
     },
     "execution_count": 29,
     "metadata": {},
     "output_type": "execute_result"
    }
   ],
   "source": [
    "# view the number of named entities found\n",
    "len(named_entities)"
   ]
  },
  {
   "cell_type": "code",
   "execution_count": 30,
   "id": "1bcf19b4-b8fe-4996-88fc-06f47089ea03",
   "metadata": {},
   "outputs": [
    {
     "data": {
      "text/plain": [
       "['& V',\n",
       " 'Amazon',\n",
       " 'B',\n",
       " 'COSTCO',\n",
       " 'Ch',\n",
       " 'Cheetos',\n",
       " 'Chip',\n",
       " 'Costco',\n",
       " 'General Mills',\n",
       " 'Lays',\n",
       " 'Miami',\n",
       " 'PopChips',\n",
       " 'Popchi',\n",
       " 'Popchips',\n",
       " 'Popchips B',\n",
       " 'Pringles',\n",
       " 'S',\n",
       " 'S & V',\n",
       " 'Salt',\n",
       " 'Salt and Vinegar',\n",
       " 'Stop and Shop',\n",
       " 'VA',\n",
       " \"Vinegar Pirate ' s Bo\",\n",
       " 'Watch',\n",
       " 'and',\n",
       " 'com']"
      ]
     },
     "execution_count": 30,
     "metadata": {},
     "output_type": "execute_result"
    }
   ],
   "source": [
    "# exclude subwords from the list\n",
    "named_entities_clean = [entity for entity in named_entities if '#' not in entity]\n",
    "sorted(named_entities_clean)"
   ]
  },
  {
   "cell_type": "code",
   "execution_count": 31,
   "id": "1e2d9933-b059-4c76-8b57-50fe7f126f9a",
   "metadata": {},
   "outputs": [
    {
     "data": {
      "text/plain": [
       "26"
      ]
     },
     "execution_count": 31,
     "metadata": {},
     "output_type": "execute_result"
    }
   ],
   "source": [
    "# view the number of named entities found\n",
    "len(named_entities_clean)"
   ]
  },
  {
   "cell_type": "markdown",
   "id": "c689a0bd-fdae-49aa-aaa5-45ce3ee2fc22",
   "metadata": {},
   "source": [
    "## 3. Zero-Shot Classification"
   ]
  },
  {
   "cell_type": "markdown",
   "id": "f4f995c3-d86e-4798-b0a2-b9c8fd98bd05",
   "metadata": {},
   "source": [
    "### a. Simple Example"
   ]
  },
  {
   "cell_type": "code",
   "execution_count": 32,
   "id": "d6cc6a18-233f-4a63-a27c-c31cf6fce58b",
   "metadata": {},
   "outputs": [],
   "source": [
    "# zero-shot classification with hugging face\n",
    "classifier = pipeline(\"zero-shot-classification\",\n",
    "                      model=\"facebook/bart-large-mnli\",\n",
    "                      device=-1)"
   ]
  },
  {
   "cell_type": "code",
   "execution_count": 33,
   "id": "4c207734-7881-4408-9d1f-3b9ee368b1dc",
   "metadata": {},
   "outputs": [
    {
     "data": {
      "text/plain": [
       "('When life gives you lemons, make lemonade! 🙂',\n",
       " \"I ordered an Arnold Palmer at Applebee's in Springfield.\")"
      ]
     },
     "execution_count": 33,
     "metadata": {},
     "output_type": "execute_result"
    }
   ],
   "source": [
    "text1, text4"
   ]
  },
  {
   "cell_type": "code",
   "execution_count": 34,
   "id": "a0e1f8c1-d883-43fa-b374-eeadad98874d",
   "metadata": {},
   "outputs": [
    {
     "data": {
      "text/plain": [
       "{'sequence': 'When life gives you lemons, make lemonade! 🙂',\n",
       " 'labels': ['quote', 'food & drinks', 'technology'],\n",
       " 'scores': [0.9833195209503174, 0.011176466010510921, 0.005504013504832983]}"
      ]
     },
     "execution_count": 34,
     "metadata": {},
     "output_type": "execute_result"
    }
   ],
   "source": [
    "classifier(text1, candidate_labels = ['quote', 'food & drinks', 'technology'])"
   ]
  },
  {
   "cell_type": "code",
   "execution_count": 35,
   "id": "c51b65b5-84bb-4797-a3bc-50bdd68fc0d9",
   "metadata": {},
   "outputs": [
    {
     "data": {
      "text/plain": [
       "{'sequence': \"I ordered an Arnold Palmer at Applebee's in Springfield.\",\n",
       " 'labels': ['food & drinks', 'quote', 'technology'],\n",
       " 'scores': [0.5157099962234497, 0.44382426142692566, 0.040465742349624634]}"
      ]
     },
     "execution_count": 35,
     "metadata": {},
     "output_type": "execute_result"
    }
   ],
   "source": [
    "classifier(text4, candidate_labels = ['quote', 'food & drinks', 'technology'])"
   ]
  },
  {
   "cell_type": "markdown",
   "id": "ec92040a-6d3d-404c-9547-c36dac06ec3b",
   "metadata": {},
   "source": [
    "### b. Practical Example"
   ]
  },
  {
   "cell_type": "code",
   "execution_count": 36,
   "id": "8072a08b-3a64-4acc-8200-ca966a6a130b",
   "metadata": {},
   "outputs": [],
   "source": [
    "# remember our topics from the machine learning section: 'order', 'taste & texture', 'good', 'flavor', 'health'\n",
    "classifier = pipeline(\"zero-shot-classification\",\n",
    "                      model=\"facebook/bart-large-mnli\",\n",
    "                      device='mps')"
   ]
  },
  {
   "cell_type": "code",
   "execution_count": 37,
   "id": "de12f4d5-79aa-4426-9135-5e39133073cb",
   "metadata": {},
   "outputs": [
    {
     "data": {
      "text/plain": [
       "{'sequence': 'Popchips are the bomb!!  I use the parmesan garlic to scoop up cottage cheese as a healthy alternative to chips and dip.  My healthy eating program is saved.',\n",
       " 'labels': ['health', 'good', 'flavor', 'taste & texture', 'order'],\n",
       " 'scores': [0.2693711817264557,\n",
       "  0.2510983645915985,\n",
       "  0.24033670127391815,\n",
       "  0.2068103849887848,\n",
       "  0.03238330036401749]}"
      ]
     },
     "execution_count": 37,
     "metadata": {},
     "output_type": "execute_result"
    }
   ],
   "source": [
    "# try on one review\n",
    "classifier(df.Text[0], ['order', 'taste & texture', 'good', 'flavor', 'health'])"
   ]
  },
  {
   "cell_type": "code",
   "execution_count": 38,
   "id": "0d2be6d3-be89-4b61-9784-ec8ae5d059b6",
   "metadata": {},
   "outputs": [
    {
     "data": {
      "text/plain": [
       "{'sequence': 'I like the puffed nature of this chip that makes it more unique in the chip market.  I ordered the Salt and Vinegar and absolutely love that flavor, hands down my favorite chip ever.  I have tried the cheddar and regular flavors as well.  The cheddar is about a 4/5 and the regular is about a 3/5 because I prefer strong flavors and obviously that would not be the case for the regular.  The Salt and Vinegar is kind of weak compared to some regular S&V chips, but is quite flavorful and makes you wanting to come back for more.',\n",
       " 'labels': ['flavor', 'good', 'taste & texture', 'order', 'health'],\n",
       " 'scores': [0.34008774161338806,\n",
       "  0.27486875653266907,\n",
       "  0.25607454776763916,\n",
       "  0.11652418226003647,\n",
       "  0.012444781139492989]}"
      ]
     },
     "execution_count": 38,
     "metadata": {},
     "output_type": "execute_result"
    }
   ],
   "source": [
    "# try on another review\n",
    "classifier(df.Text[1], ['order', 'taste & texture', 'good', 'flavor', 'health'])"
   ]
  },
  {
   "cell_type": "code",
   "execution_count": 39,
   "id": "38680273-f7f3-48b4-b5f7-c7f8d8b11525",
   "metadata": {},
   "outputs": [
    {
     "data": {
      "text/plain": [
       "'flavor'"
      ]
     },
     "execution_count": 39,
     "metadata": {},
     "output_type": "execute_result"
    }
   ],
   "source": [
    "# extract just the top label\n",
    "classifier(df.Text[1], ['order', 'taste & texture', 'good', 'flavor', 'health'])['labels'][0]"
   ]
  },
  {
   "cell_type": "code",
   "execution_count": 40,
   "id": "4bc85d97-895f-4382-897b-54e7a4eb4c3a",
   "metadata": {},
   "outputs": [],
   "source": [
    "# apply to all reviews\n",
    "df['Category'] = df.Text.apply(lambda x: classifier(x, ['order', 'taste & texture', 'good', 'flavor', 'health'])['labels'][0])"
   ]
  },
  {
   "cell_type": "code",
   "execution_count": 41,
   "id": "aed39d36-924e-4891-b31c-e6091dea5f83",
   "metadata": {},
   "outputs": [
    {
     "data": {
      "text/html": [
       "<div>\n",
       "<style scoped>\n",
       "    .dataframe tbody tr th:only-of-type {\n",
       "        vertical-align: middle;\n",
       "    }\n",
       "\n",
       "    .dataframe tbody tr th {\n",
       "        vertical-align: top;\n",
       "    }\n",
       "\n",
       "    .dataframe thead th {\n",
       "        text-align: right;\n",
       "    }\n",
       "</style>\n",
       "<table border=\"1\" class=\"dataframe\">\n",
       "  <thead>\n",
       "    <tr style=\"text-align: right;\">\n",
       "      <th></th>\n",
       "      <th>Text</th>\n",
       "      <th>Category</th>\n",
       "    </tr>\n",
       "  </thead>\n",
       "  <tbody>\n",
       "    <tr>\n",
       "      <th>0</th>\n",
       "      <td>Popchips are the bomb!!  I use the parmesan garlic to scoop up cottage cheese as a healthy alternative to chips and dip.  My healthy eating program is saved.</td>\n",
       "      <td>health</td>\n",
       "    </tr>\n",
       "    <tr>\n",
       "      <th>1</th>\n",
       "      <td>I like the puffed nature of this chip that makes it more unique in the chip market.  I ordered the Salt and Vinegar and absolutely love that flavor, hands down my favorite chip ever.  I have tried the cheddar and regular flavors as well.  The cheddar is about a 4/5 and the regular is about a 3/5 because I prefer strong flavors and obviously that would not be the case for the regular.  The Salt and Vinegar is kind of weak compared to some regular S&amp;V chips, but is quite flavorful and makes you wanting to come back for more.</td>\n",
       "      <td>flavor</td>\n",
       "    </tr>\n",
       "    <tr>\n",
       "      <th>2</th>\n",
       "      <td>I just love these chips!  I was always a big fan of potato chips, but haven't had one since I discovered popchips.  They are great for dipping or all alone.  I am constantly re-ordering them.  One note however-if you are on a low salt diet these chips are probably not for you. They are high in sodium.  We go through a case every two months.  If you love them it pays to join the subscribe and save program through Amazon.  You save money and stay supplied!</td>\n",
       "      <td>good</td>\n",
       "    </tr>\n",
       "    <tr>\n",
       "      <th>3</th>\n",
       "      <td>These tasted like potatoe stix, that we got in grade school with our lunches usually on pizza day.  They were the bomb then, not so much now.  Won't buy again unless I get them for cheap or free.</td>\n",
       "      <td>taste &amp; texture</td>\n",
       "    </tr>\n",
       "    <tr>\n",
       "      <th>4</th>\n",
       "      <td>These chips are great!  They look almost like a flattened rice cake, but taste so much better, more like a potato chip. The bbq flavor is delicious. They are very low in fat and full of flavor. It is easy to eat an entire bag of these!</td>\n",
       "      <td>taste &amp; texture</td>\n",
       "    </tr>\n",
       "  </tbody>\n",
       "</table>\n",
       "</div>"
      ],
      "text/plain": [
       "                                                                                                                                                                                                                                                                                                                                                                                                                                                                                                                                               Text  \\\n",
       "0                                                                                                                                                                                                                                                                                                                                                                                     Popchips are the bomb!!  I use the parmesan garlic to scoop up cottage cheese as a healthy alternative to chips and dip.  My healthy eating program is saved.   \n",
       "1  I like the puffed nature of this chip that makes it more unique in the chip market.  I ordered the Salt and Vinegar and absolutely love that flavor, hands down my favorite chip ever.  I have tried the cheddar and regular flavors as well.  The cheddar is about a 4/5 and the regular is about a 3/5 because I prefer strong flavors and obviously that would not be the case for the regular.  The Salt and Vinegar is kind of weak compared to some regular S&V chips, but is quite flavorful and makes you wanting to come back for more.   \n",
       "2                                                                        I just love these chips!  I was always a big fan of potato chips, but haven't had one since I discovered popchips.  They are great for dipping or all alone.  I am constantly re-ordering them.  One note however-if you are on a low salt diet these chips are probably not for you. They are high in sodium.  We go through a case every two months.  If you love them it pays to join the subscribe and save program through Amazon.  You save money and stay supplied!   \n",
       "3                                                                                                                                                                                                                                                                                                                                               These tasted like potatoe stix, that we got in grade school with our lunches usually on pizza day.  They were the bomb then, not so much now.  Won't buy again unless I get them for cheap or free.   \n",
       "4                                                                                                                                                                                                                                                                                                       These chips are great!  They look almost like a flattened rice cake, but taste so much better, more like a potato chip. The bbq flavor is delicious. They are very low in fat and full of flavor. It is easy to eat an entire bag of these!   \n",
       "\n",
       "          Category  \n",
       "0           health  \n",
       "1           flavor  \n",
       "2             good  \n",
       "3  taste & texture  \n",
       "4  taste & texture  "
      ]
     },
     "execution_count": 41,
     "metadata": {},
     "output_type": "execute_result"
    }
   ],
   "source": [
    "# view the category labels\n",
    "df[['Text', 'Category']].head()"
   ]
  },
  {
   "cell_type": "markdown",
   "id": "2e2842ae-62c2-49f1-8528-8874dd51640d",
   "metadata": {},
   "source": [
    "## 4. Text Summarization"
   ]
  },
  {
   "cell_type": "markdown",
   "id": "f8f497dc-b714-4aeb-bb3e-f01fbc0f392a",
   "metadata": {},
   "source": [
    "### a. Simple Example"
   ]
  },
  {
   "cell_type": "code",
   "execution_count": 42,
   "id": "8325b9f4-2ca5-4c30-b67b-049f50d40763",
   "metadata": {},
   "outputs": [],
   "source": [
    "# text summarization with hugging face\n",
    "summarizer = pipeline(\"summarization\",\n",
    "                      model=\"facebook/bart-large-cnn\",\n",
    "                      device=-1)\n",
    "\n",
    "text5 = \"\"\"\n",
    "            The lemon tree produces a pointed oval yellow fruit. Botanically this is a hesperidium, \n",
    "            a modified berry with a tough, leathery rind. The rind is divided into an outer colored layer or zest, \n",
    "            which is aromatic with essential oils, and an inner layer of white spongy pith. \n",
    "            Inside are multiple carpels arranged as radial segments. The seeds develop inside the carpels. \n",
    "            The space inside each segment is a locule filled with juice vesicles. \n",
    "            Lemons contain many phytochemicals, including polyphenols, terpenes, and tannins.[3] \n",
    "            Their juice contains slightly more citric acid than lime juice (about 47 g/L), \n",
    "            nearly twice as much as grapefruit juice, and about five times as much as orange juice.[4]\n",
    "        \"\"\""
   ]
  },
  {
   "cell_type": "code",
   "execution_count": 43,
   "id": "35d8f2d4-d99a-4dc6-bc75-fc7cf7838d56",
   "metadata": {},
   "outputs": [
    {
     "data": {
      "text/plain": [
       "[{'summary_text': 'The lemon tree produces a pointed oval yellow fruit. The rind is divided into an outer colored layer or zest, and an inner layer of white spongy pith. Lemons contain many phytochemicals, including polyphenols, terpenes, and tannins.'}]"
      ]
     },
     "execution_count": 43,
     "metadata": {},
     "output_type": "execute_result"
    }
   ],
   "source": [
    "# try it with the default parameters\n",
    "summarizer(text5)"
   ]
  },
  {
   "cell_type": "code",
   "execution_count": 44,
   "id": "a34535ac-979d-4c0a-ad4e-3fa161129917",
   "metadata": {},
   "outputs": [
    {
     "data": {
      "text/plain": [
       "[{'summary_text': 'The lemon tree produces a pointed oval yellow fruit. The rind is divided into an outer colored layer or zest, and an inner layer of white spongy pith. Lemons contain many phytochemicals, including poly'}]"
      ]
     },
     "execution_count": 44,
     "metadata": {},
     "output_type": "execute_result"
    }
   ],
   "source": [
    "# specify the parameters\n",
    "summarizer(text5, min_length=20, max_length=50)"
   ]
  },
  {
   "cell_type": "code",
   "execution_count": 45,
   "id": "2c32d132-4d49-4a93-a69a-e4c14257d2a4",
   "metadata": {},
   "outputs": [
    {
     "data": {
      "text/plain": [
       "[{'summary_text': 'The lemon tree produces a pointed oval yellow fruit. The rind is divided into an outer colored layer or zest, and an inner layer of white spongy pith. Lemons contain many phytochemicals, including poly'}]"
      ]
     },
     "execution_count": 45,
     "metadata": {},
     "output_type": "execute_result"
    }
   ],
   "source": [
    "# will get the same results\n",
    "summarizer(text5, min_length=20, max_length=50)"
   ]
  },
  {
   "cell_type": "code",
   "execution_count": 46,
   "id": "6f8607ca-671e-4a69-8647-7ece0ae63aa8",
   "metadata": {},
   "outputs": [
    {
     "data": {
      "text/plain": [
       "[{'summary_text': 'The lemon tree produces a pointed oval yellow fruit. Lemons contain many phytochemicals, including polyphenols, terpenes, and tannins. Their juice contains slightly more citric acid than lime juice.'}]"
      ]
     },
     "execution_count": 46,
     "metadata": {},
     "output_type": "execute_result"
    }
   ],
   "source": [
    "# will get more random results\n",
    "summarizer(text5, min_length=20, max_length=50, do_sample=True)"
   ]
  },
  {
   "cell_type": "code",
   "execution_count": 47,
   "id": "1b623fa1-011e-4aa4-ad10-8349e337b22c",
   "metadata": {},
   "outputs": [
    {
     "data": {
      "text/plain": [
       "'The lemon tree produces a pointed oval yellow fruit. The rind is divided into an outer colored layer or zest, and an inner layer of white spongy pith. Lemons contain many phytochemicals, including poly'"
      ]
     },
     "execution_count": 47,
     "metadata": {},
     "output_type": "execute_result"
    }
   ],
   "source": [
    "# extract just the text portion\n",
    "summarizer(text5, min_length=20, max_length=50)[0]['summary_text']"
   ]
  },
  {
   "cell_type": "markdown",
   "id": "17053ddb-e4bd-480b-ae18-5d4efb9d838f",
   "metadata": {},
   "source": [
    "### b. Practical Example"
   ]
  },
  {
   "cell_type": "code",
   "execution_count": 48,
   "id": "23a08d3b-2bed-44be-bef2-7865df55e2f7",
   "metadata": {},
   "outputs": [],
   "source": [
    "# load pipelines\n",
    "summarizer = pipeline(\"summarization\", model=\"facebook/bart-large-cnn\", device='mps')\n",
    "sentiment_analyzer = pipeline(\"sentiment-analysis\", model=\"distilbert-base-uncased-finetuned-sst-2-english\", device='mps', truncation=True)"
   ]
  },
  {
   "cell_type": "code",
   "execution_count": 49,
   "id": "7e257bda-c36d-4c5a-a882-f734794e2349",
   "metadata": {},
   "outputs": [
    {
     "data": {
      "text/html": [
       "<div>\n",
       "<style scoped>\n",
       "    .dataframe tbody tr th:only-of-type {\n",
       "        vertical-align: middle;\n",
       "    }\n",
       "\n",
       "    .dataframe tbody tr th {\n",
       "        vertical-align: top;\n",
       "    }\n",
       "\n",
       "    .dataframe thead th {\n",
       "        text-align: right;\n",
       "    }\n",
       "</style>\n",
       "<table border=\"1\" class=\"dataframe\">\n",
       "  <thead>\n",
       "    <tr style=\"text-align: right;\">\n",
       "      <th></th>\n",
       "      <th>Text</th>\n",
       "      <th>Summary</th>\n",
       "    </tr>\n",
       "  </thead>\n",
       "  <tbody>\n",
       "    <tr>\n",
       "      <th>0</th>\n",
       "      <td>Popchips are the bomb!!  I use the parmesan garlic to scoop up cottage cheese as a healthy alternative to chips and dip.  My healthy eating program is saved.</td>\n",
       "      <td>I use the parmesan garlic to scoop up cottage cheese as a healthy alternative to chips and dip. My healthy eating program is saved.</td>\n",
       "    </tr>\n",
       "    <tr>\n",
       "      <th>1</th>\n",
       "      <td>I like the puffed nature of this chip that makes it more unique in the chip market.  I ordered the Salt and Vinegar and absolutely love that flavor, hands down my favorite chip ever.  I have tried the cheddar and regular flavors as well.  The cheddar is about a 4/5 and the regular is about a 3/5 because I prefer strong flavors and obviously that would not be the case for the regular.  The Salt and Vinegar is kind of weak compared to some regular S&amp;V chips, but is quite flavorful and makes you wanting to come back for more.</td>\n",
       "      <td>I like the puffed nature of this chip that makes it more unique in the chip market. The Salt and Vinegar is kind of weak compared to some regular S&amp;V chips, but is quite flavorful and makes you wanting to come</td>\n",
       "    </tr>\n",
       "  </tbody>\n",
       "</table>\n",
       "</div>"
      ],
      "text/plain": [
       "                                                                                                                                                                                                                                                                                                                                                                                                                                                                                                                                               Text  \\\n",
       "0                                                                                                                                                                                                                                                                                                                                                                                     Popchips are the bomb!!  I use the parmesan garlic to scoop up cottage cheese as a healthy alternative to chips and dip.  My healthy eating program is saved.   \n",
       "1  I like the puffed nature of this chip that makes it more unique in the chip market.  I ordered the Salt and Vinegar and absolutely love that flavor, hands down my favorite chip ever.  I have tried the cheddar and regular flavors as well.  The cheddar is about a 4/5 and the regular is about a 3/5 because I prefer strong flavors and obviously that would not be the case for the regular.  The Salt and Vinegar is kind of weak compared to some regular S&V chips, but is quite flavorful and makes you wanting to come back for more.   \n",
       "\n",
       "                                                                                                                                                                                                             Summary  \n",
       "0                                                                                I use the parmesan garlic to scoop up cottage cheese as a healthy alternative to chips and dip. My healthy eating program is saved.  \n",
       "1  I like the puffed nature of this chip that makes it more unique in the chip market. The Salt and Vinegar is kind of weak compared to some regular S&V chips, but is quite flavorful and makes you wanting to come  "
      ]
     },
     "execution_count": 49,
     "metadata": {},
     "output_type": "execute_result"
    }
   ],
   "source": [
    "# step 1: summarize reviews\n",
    "df['Summary'] = df['Text'].apply(lambda x: summarizer(x, min_length=20, max_length=50)[0]['summary_text'])\n",
    "df[['Text', 'Summary']].head(2)"
   ]
  },
  {
   "cell_type": "code",
   "execution_count": 50,
   "id": "6bde900c-7e2b-4843-a8dd-a427f4839b75",
   "metadata": {},
   "outputs": [
    {
     "data": {
      "text/plain": [
       "0    [{'label': 'POSITIVE', 'score': 0.9976533055305481}]\n",
       "1    [{'label': 'POSITIVE', 'score': 0.9991886019706726}]\n",
       "2    [{'label': 'NEGATIVE', 'score': 0.9929706454277039}]\n",
       "3    [{'label': 'NEGATIVE', 'score': 0.9985463619232178}]\n",
       "4    [{'label': 'POSITIVE', 'score': 0.9993218183517456}]\n",
       "Name: Summary, dtype: object"
      ]
     },
     "execution_count": 50,
     "metadata": {},
     "output_type": "execute_result"
    }
   ],
   "source": [
    "# step 2: find sentiment scores\n",
    "sentiment_scores2 = df.Summary.apply(sentiment_analyzer)\n",
    "sentiment_scores2[:5]"
   ]
  },
  {
   "cell_type": "code",
   "execution_count": 51,
   "id": "b73ecf91-a206-4d61-be6a-c0f7fa748ed7",
   "metadata": {},
   "outputs": [],
   "source": [
    "# extract label and score and create a sentiment score\n",
    "df['Label_HF2'] = sentiment_scores2.apply(lambda x: x[0]['label'])\n",
    "df['Score_HF2'] = sentiment_scores2.apply(lambda x: x[0]['score'])\n",
    "df['Sentiment_HF2'] = df.apply(lambda row: row['Score_HF2'] if row['Label_HF2'] == 'POSITIVE' else -row['Score_HF2'], axis=1)"
   ]
  },
  {
   "cell_type": "code",
   "execution_count": 52,
   "id": "5dee4bec-7c71-4ea6-8030-1925f1e86ee7",
   "metadata": {},
   "outputs": [
    {
     "data": {
      "text/html": [
       "<div>\n",
       "<style scoped>\n",
       "    .dataframe tbody tr th:only-of-type {\n",
       "        vertical-align: middle;\n",
       "    }\n",
       "\n",
       "    .dataframe tbody tr th {\n",
       "        vertical-align: top;\n",
       "    }\n",
       "\n",
       "    .dataframe thead th {\n",
       "        text-align: right;\n",
       "    }\n",
       "</style>\n",
       "<table border=\"1\" class=\"dataframe\">\n",
       "  <thead>\n",
       "    <tr style=\"text-align: right;\">\n",
       "      <th></th>\n",
       "      <th>Text</th>\n",
       "      <th>Label_HF2</th>\n",
       "      <th>Score_HF2</th>\n",
       "      <th>Sentiment_HF2</th>\n",
       "    </tr>\n",
       "  </thead>\n",
       "  <tbody>\n",
       "    <tr>\n",
       "      <th>0</th>\n",
       "      <td>Popchips are the bomb!!  I use the parmesan garlic to scoop up cottage cheese as a healthy alternative to chips and dip.  My healthy eating program is saved.</td>\n",
       "      <td>POSITIVE</td>\n",
       "      <td>0.997653</td>\n",
       "      <td>0.997653</td>\n",
       "    </tr>\n",
       "    <tr>\n",
       "      <th>1</th>\n",
       "      <td>I like the puffed nature of this chip that makes it more unique in the chip market.  I ordered the Salt and Vinegar and absolutely love that flavor, hands down my favorite chip ever.  I have tried the cheddar and regular flavors as well.  The cheddar is about a 4/5 and the regular is about a 3/5 because I prefer strong flavors and obviously that would not be the case for the regular.  The Salt and Vinegar is kind of weak compared to some regular S&amp;V chips, but is quite flavorful and makes you wanting to come back for more.</td>\n",
       "      <td>POSITIVE</td>\n",
       "      <td>0.999189</td>\n",
       "      <td>0.999189</td>\n",
       "    </tr>\n",
       "    <tr>\n",
       "      <th>2</th>\n",
       "      <td>I just love these chips!  I was always a big fan of potato chips, but haven't had one since I discovered popchips.  They are great for dipping or all alone.  I am constantly re-ordering them.  One note however-if you are on a low salt diet these chips are probably not for you. They are high in sodium.  We go through a case every two months.  If you love them it pays to join the subscribe and save program through Amazon.  You save money and stay supplied!</td>\n",
       "      <td>NEGATIVE</td>\n",
       "      <td>0.992971</td>\n",
       "      <td>-0.992971</td>\n",
       "    </tr>\n",
       "    <tr>\n",
       "      <th>3</th>\n",
       "      <td>These tasted like potatoe stix, that we got in grade school with our lunches usually on pizza day.  They were the bomb then, not so much now.  Won't buy again unless I get them for cheap or free.</td>\n",
       "      <td>NEGATIVE</td>\n",
       "      <td>0.998546</td>\n",
       "      <td>-0.998546</td>\n",
       "    </tr>\n",
       "    <tr>\n",
       "      <th>4</th>\n",
       "      <td>These chips are great!  They look almost like a flattened rice cake, but taste so much better, more like a potato chip. The bbq flavor is delicious. They are very low in fat and full of flavor. It is easy to eat an entire bag of these!</td>\n",
       "      <td>POSITIVE</td>\n",
       "      <td>0.999322</td>\n",
       "      <td>0.999322</td>\n",
       "    </tr>\n",
       "  </tbody>\n",
       "</table>\n",
       "</div>"
      ],
      "text/plain": [
       "                                                                                                                                                                                                                                                                                                                                                                                                                                                                                                                                               Text  \\\n",
       "0                                                                                                                                                                                                                                                                                                                                                                                     Popchips are the bomb!!  I use the parmesan garlic to scoop up cottage cheese as a healthy alternative to chips and dip.  My healthy eating program is saved.   \n",
       "1  I like the puffed nature of this chip that makes it more unique in the chip market.  I ordered the Salt and Vinegar and absolutely love that flavor, hands down my favorite chip ever.  I have tried the cheddar and regular flavors as well.  The cheddar is about a 4/5 and the regular is about a 3/5 because I prefer strong flavors and obviously that would not be the case for the regular.  The Salt and Vinegar is kind of weak compared to some regular S&V chips, but is quite flavorful and makes you wanting to come back for more.   \n",
       "2                                                                        I just love these chips!  I was always a big fan of potato chips, but haven't had one since I discovered popchips.  They are great for dipping or all alone.  I am constantly re-ordering them.  One note however-if you are on a low salt diet these chips are probably not for you. They are high in sodium.  We go through a case every two months.  If you love them it pays to join the subscribe and save program through Amazon.  You save money and stay supplied!   \n",
       "3                                                                                                                                                                                                                                                                                                                                               These tasted like potatoe stix, that we got in grade school with our lunches usually on pizza day.  They were the bomb then, not so much now.  Won't buy again unless I get them for cheap or free.   \n",
       "4                                                                                                                                                                                                                                                                                                       These chips are great!  They look almost like a flattened rice cake, but taste so much better, more like a potato chip. The bbq flavor is delicious. They are very low in fat and full of flavor. It is easy to eat an entire bag of these!   \n",
       "\n",
       "  Label_HF2  Score_HF2  Sentiment_HF2  \n",
       "0  POSITIVE   0.997653       0.997653  \n",
       "1  POSITIVE   0.999189       0.999189  \n",
       "2  NEGATIVE   0.992971      -0.992971  \n",
       "3  NEGATIVE   0.998546      -0.998546  \n",
       "4  POSITIVE   0.999322       0.999322  "
      ]
     },
     "execution_count": 52,
     "metadata": {},
     "output_type": "execute_result"
    }
   ],
   "source": [
    "# view the calculations\n",
    "df[['Text', 'Label_HF2', 'Score_HF2', 'Sentiment_HF2']].head()"
   ]
  },
  {
   "cell_type": "code",
   "execution_count": 53,
   "id": "0b54974e-b845-4212-996a-1804324f0e59",
   "metadata": {},
   "outputs": [
    {
     "data": {
      "text/html": [
       "<div>\n",
       "<style scoped>\n",
       "    .dataframe tbody tr th:only-of-type {\n",
       "        vertical-align: middle;\n",
       "    }\n",
       "\n",
       "    .dataframe tbody tr th {\n",
       "        vertical-align: top;\n",
       "    }\n",
       "\n",
       "    .dataframe thead th {\n",
       "        text-align: right;\n",
       "    }\n",
       "</style>\n",
       "<table border=\"1\" class=\"dataframe\">\n",
       "  <thead>\n",
       "    <tr style=\"text-align: right;\">\n",
       "      <th></th>\n",
       "      <th>Text</th>\n",
       "      <th>Sentiment_VADER</th>\n",
       "      <th>Sentiment_HF</th>\n",
       "      <th>Sentiment_HF2</th>\n",
       "    </tr>\n",
       "  </thead>\n",
       "  <tbody>\n",
       "    <tr>\n",
       "      <th>0</th>\n",
       "      <td>Popchips are the bomb!!  I use the parmesan garlic to scoop up cottage cheese as a healthy alternative to chips and dip.  My healthy eating program is saved.</td>\n",
       "      <td>0.9244</td>\n",
       "      <td>0.993521</td>\n",
       "      <td>0.997653</td>\n",
       "    </tr>\n",
       "    <tr>\n",
       "      <th>1</th>\n",
       "      <td>I like the puffed nature of this chip that makes it more unique in the chip market.  I ordered the Salt and Vinegar and absolutely love that flavor, hands down my favorite chip ever.  I have tried the cheddar and regular flavors as well.  The cheddar is about a 4/5 and the regular is about a 3/5 because I prefer strong flavors and obviously that would not be the case for the regular.  The Salt and Vinegar is kind of weak compared to some regular S&amp;V chips, but is quite flavorful and makes you wanting to come back for more.</td>\n",
       "      <td>0.7269</td>\n",
       "      <td>0.999605</td>\n",
       "      <td>0.999189</td>\n",
       "    </tr>\n",
       "    <tr>\n",
       "      <th>2</th>\n",
       "      <td>I just love these chips!  I was always a big fan of potato chips, but haven't had one since I discovered popchips.  They are great for dipping or all alone.  I am constantly re-ordering them.  One note however-if you are on a low salt diet these chips are probably not for you. They are high in sodium.  We go through a case every two months.  If you love them it pays to join the subscribe and save program through Amazon.  You save money and stay supplied!</td>\n",
       "      <td>0.9790</td>\n",
       "      <td>-0.698483</td>\n",
       "      <td>-0.992971</td>\n",
       "    </tr>\n",
       "    <tr>\n",
       "      <th>3</th>\n",
       "      <td>These tasted like potatoe stix, that we got in grade school with our lunches usually on pizza day.  They were the bomb then, not so much now.  Won't buy again unless I get them for cheap or free.</td>\n",
       "      <td>0.8689</td>\n",
       "      <td>-0.999631</td>\n",
       "      <td>-0.998546</td>\n",
       "    </tr>\n",
       "    <tr>\n",
       "      <th>4</th>\n",
       "      <td>These chips are great!  They look almost like a flattened rice cake, but taste so much better, more like a potato chip. The bbq flavor is delicious. They are very low in fat and full of flavor. It is easy to eat an entire bag of these!</td>\n",
       "      <td>0.9613</td>\n",
       "      <td>0.999181</td>\n",
       "      <td>0.999322</td>\n",
       "    </tr>\n",
       "  </tbody>\n",
       "</table>\n",
       "</div>"
      ],
      "text/plain": [
       "                                                                                                                                                                                                                                                                                                                                                                                                                                                                                                                                               Text  \\\n",
       "0                                                                                                                                                                                                                                                                                                                                                                                     Popchips are the bomb!!  I use the parmesan garlic to scoop up cottage cheese as a healthy alternative to chips and dip.  My healthy eating program is saved.   \n",
       "1  I like the puffed nature of this chip that makes it more unique in the chip market.  I ordered the Salt and Vinegar and absolutely love that flavor, hands down my favorite chip ever.  I have tried the cheddar and regular flavors as well.  The cheddar is about a 4/5 and the regular is about a 3/5 because I prefer strong flavors and obviously that would not be the case for the regular.  The Salt and Vinegar is kind of weak compared to some regular S&V chips, but is quite flavorful and makes you wanting to come back for more.   \n",
       "2                                                                        I just love these chips!  I was always a big fan of potato chips, but haven't had one since I discovered popchips.  They are great for dipping or all alone.  I am constantly re-ordering them.  One note however-if you are on a low salt diet these chips are probably not for you. They are high in sodium.  We go through a case every two months.  If you love them it pays to join the subscribe and save program through Amazon.  You save money and stay supplied!   \n",
       "3                                                                                                                                                                                                                                                                                                                                               These tasted like potatoe stix, that we got in grade school with our lunches usually on pizza day.  They were the bomb then, not so much now.  Won't buy again unless I get them for cheap or free.   \n",
       "4                                                                                                                                                                                                                                                                                                       These chips are great!  They look almost like a flattened rice cake, but taste so much better, more like a potato chip. The bbq flavor is delicious. They are very low in fat and full of flavor. It is easy to eat an entire bag of these!   \n",
       "\n",
       "   Sentiment_VADER  Sentiment_HF  Sentiment_HF2  \n",
       "0           0.9244      0.993521       0.997653  \n",
       "1           0.7269      0.999605       0.999189  \n",
       "2           0.9790     -0.698483      -0.992971  \n",
       "3           0.8689     -0.999631      -0.998546  \n",
       "4           0.9613      0.999181       0.999322  "
      ]
     },
     "execution_count": 53,
     "metadata": {},
     "output_type": "execute_result"
    }
   ],
   "source": [
    "# compare the sentiment scores\n",
    "df[['Text', 'Sentiment_VADER', 'Sentiment_HF', 'Sentiment_HF2']].head()"
   ]
  },
  {
   "cell_type": "markdown",
   "id": "5bc19fe6-ca76-4d5b-ba1f-1ef797e7e70a",
   "metadata": {},
   "source": [
    "## 5. Text Generation"
   ]
  },
  {
   "cell_type": "code",
   "execution_count": 54,
   "id": "74cf315b-cb4c-439c-9b36-49ae630d9b57",
   "metadata": {},
   "outputs": [],
   "source": [
    "# text generation with hugging face\n",
    "generator = pipeline(\"text-generation\", model=\"gpt2\", max_length=20, device=-1)\n",
    "\n",
    "prompt = \"On a hot summer day, I love to drink cold lemonade because\""
   ]
  },
  {
   "cell_type": "code",
   "execution_count": 55,
   "id": "8bfe0d63-f8c3-482e-8ef2-0ecb17ea9b4e",
   "metadata": {},
   "outputs": [
    {
     "data": {
      "text/plain": [
       "[{'generated_text': \"On a hot summer day, I love to drink cold lemonade because it's so refreshing. I also love to drink cold lemonade because it's so refreshing.\\n\\nI love to drink cold lemonade because it's so refreshing. I also\"}]"
      ]
     },
     "execution_count": 55,
     "metadata": {},
     "output_type": "execute_result"
    }
   ],
   "source": [
    "# set general parameters\n",
    "generator(prompt, max_length=50, num_return_sequences=1, do_sample=False)"
   ]
  },
  {
   "cell_type": "code",
   "execution_count": 56,
   "id": "7878ee50-8f7e-4d02-8c8a-439c52da25d3",
   "metadata": {},
   "outputs": [
    {
     "data": {
      "text/plain": [
       "[{'generated_text': 'On a hot summer day, I love to drink cold lemonade because it makes my mind more flexible. It makes my brain feel better, that I think better of myself, and keeps my eye on my job and my goal of getting an OK.'}]"
      ]
     },
     "execution_count": 56,
     "metadata": {},
     "output_type": "execute_result"
    }
   ],
   "source": [
    "# get a more random output\n",
    "generator(prompt, max_length=50, num_return_sequences=1, do_sample=True)"
   ]
  },
  {
   "cell_type": "code",
   "execution_count": 57,
   "id": "d7c9f97e-b2d9-4086-bc9d-975ece19ab90",
   "metadata": {},
   "outputs": [
    {
     "data": {
      "text/plain": [
       "[{'generated_text': 'On a hot summer day, I love to drink cold lemonade because it gives me a better flow but only as warm as you want, just like I thought I would. I just had to mix my milk and butter and pour in it with a'}]"
      ]
     },
     "execution_count": 57,
     "metadata": {},
     "output_type": "execute_result"
    }
   ],
   "source": [
    "# get a more random output\n",
    "generator(prompt, max_length=50, num_return_sequences=1, do_sample=True)"
   ]
  },
  {
   "cell_type": "markdown",
   "id": "6cbc76e1-9572-480b-8d1f-7fd996b8d7c7",
   "metadata": {},
   "source": [
    "## 6. Document Similarity with Embeddings"
   ]
  },
  {
   "cell_type": "markdown",
   "id": "440e34c1-7f6e-42e2-9795-35a8aaf141d9",
   "metadata": {},
   "source": [
    "### a. Simple Example"
   ]
  },
  {
   "cell_type": "code",
   "execution_count": 58,
   "id": "632375dc-7ec3-4e52-aba8-fb7f47ba1b79",
   "metadata": {},
   "outputs": [],
   "source": [
    "# feature extraction with hugging face\n",
    "feature_extractor = pipeline(\"feature-extraction\",\n",
    "                             model=\"sentence-transformers/all-MiniLM-L6-v2\",\n",
    "                             device=-1)"
   ]
  },
  {
   "cell_type": "code",
   "execution_count": 59,
   "id": "76293423-efb1-43c5-ad22-06c25945c799",
   "metadata": {},
   "outputs": [
    {
     "data": {
      "text/plain": [
       "'When life gives you lemons, make lemonade! 🙂'"
      ]
     },
     "execution_count": 59,
     "metadata": {},
     "output_type": "execute_result"
    }
   ],
   "source": [
    "# view the text\n",
    "text1"
   ]
  },
  {
   "cell_type": "code",
   "execution_count": 60,
   "id": "d20597d5-b53f-4e16-9d6c-e7e2e9b16461",
   "metadata": {},
   "outputs": [
    {
     "data": {
      "text/plain": [
       "[-0.2936323285102844,\n",
       " 0.20775198936462402,\n",
       " 0.11103478074073792,\n",
       " 0.14668866991996765,\n",
       " 0.39885425567626953,\n",
       " 0.31434932351112366,\n",
       " 0.4152563214302063,\n",
       " -0.19369427859783173,\n",
       " 0.11604061722755432,\n",
       " -0.885179340839386]"
      ]
     },
     "execution_count": 60,
     "metadata": {},
     "output_type": "execute_result"
    }
   ],
   "source": [
    "# view the embedding\n",
    "feature_extractor(text1)[0][0][:10]"
   ]
  },
  {
   "cell_type": "code",
   "execution_count": 61,
   "id": "76e03f1b-9f5d-40ad-a3fe-21903505256f",
   "metadata": {},
   "outputs": [
    {
     "data": {
      "text/plain": [
       "384"
      ]
     },
     "execution_count": 61,
     "metadata": {},
     "output_type": "execute_result"
    }
   ],
   "source": [
    "# view the shape\n",
    "len(feature_extractor(text1)[0][0])"
   ]
  },
  {
   "cell_type": "markdown",
   "id": "a33be87f-d834-4214-8456-13d5edc5e587",
   "metadata": {},
   "source": [
    "### b. Practical Example"
   ]
  },
  {
   "cell_type": "markdown",
   "id": "fea79c73-d22a-41cb-8afa-ae6572890a49",
   "metadata": {},
   "source": [
    "#### Step 1: Extract Embeddings"
   ]
  },
  {
   "cell_type": "code",
   "execution_count": 62,
   "id": "68022848-36f9-4f77-a5e1-cc22e9e1dcf5",
   "metadata": {},
   "outputs": [
    {
     "data": {
      "text/html": [
       "<div>\n",
       "<style scoped>\n",
       "    .dataframe tbody tr th:only-of-type {\n",
       "        vertical-align: middle;\n",
       "    }\n",
       "\n",
       "    .dataframe tbody tr th {\n",
       "        vertical-align: top;\n",
       "    }\n",
       "\n",
       "    .dataframe thead th {\n",
       "        text-align: right;\n",
       "    }\n",
       "</style>\n",
       "<table border=\"1\" class=\"dataframe\">\n",
       "  <thead>\n",
       "    <tr style=\"text-align: right;\">\n",
       "      <th></th>\n",
       "      <th>movie_title</th>\n",
       "      <th>rating</th>\n",
       "      <th>genre</th>\n",
       "      <th>in_theaters_date</th>\n",
       "      <th>movie_info</th>\n",
       "      <th>directors</th>\n",
       "      <th>director_gender</th>\n",
       "      <th>tomatometer_rating</th>\n",
       "      <th>audience_rating</th>\n",
       "      <th>critics_consensus</th>\n",
       "    </tr>\n",
       "  </thead>\n",
       "  <tbody>\n",
       "    <tr>\n",
       "      <th>0</th>\n",
       "      <td>A Dog's Journey</td>\n",
       "      <td>PG</td>\n",
       "      <td>Drama, Kids &amp; Family</td>\n",
       "      <td>5/17/19</td>\n",
       "      <td>Bailey (voiced again by Josh Gad) is living th...</td>\n",
       "      <td>Gail Mancuso</td>\n",
       "      <td>female</td>\n",
       "      <td>50</td>\n",
       "      <td>92</td>\n",
       "      <td>A Dog's Journey is as sentimental as one might...</td>\n",
       "    </tr>\n",
       "    <tr>\n",
       "      <th>1</th>\n",
       "      <td>A Dog's Way Home</td>\n",
       "      <td>PG</td>\n",
       "      <td>Drama</td>\n",
       "      <td>1/11/19</td>\n",
       "      <td>Separated from her owner, a dog sets off on an...</td>\n",
       "      <td>Charles Martin Smith</td>\n",
       "      <td>male</td>\n",
       "      <td>60</td>\n",
       "      <td>71</td>\n",
       "      <td>A Dog's Way Home may not quite be a family-fri...</td>\n",
       "    </tr>\n",
       "  </tbody>\n",
       "</table>\n",
       "</div>"
      ],
      "text/plain": [
       "        movie_title rating                 genre in_theaters_date  \\\n",
       "0   A Dog's Journey     PG  Drama, Kids & Family          5/17/19   \n",
       "1  A Dog's Way Home     PG                 Drama          1/11/19   \n",
       "\n",
       "                                          movie_info             directors  \\\n",
       "0  Bailey (voiced again by Josh Gad) is living th...          Gail Mancuso   \n",
       "1  Separated from her owner, a dog sets off on an...  Charles Martin Smith   \n",
       "\n",
       "  director_gender  tomatometer_rating  audience_rating  \\\n",
       "0          female                  50               92   \n",
       "1            male                  60               71   \n",
       "\n",
       "                                   critics_consensus  \n",
       "0  A Dog's Journey is as sentimental as one might...  \n",
       "1  A Dog's Way Home may not quite be a family-fri...  "
      ]
     },
     "execution_count": 62,
     "metadata": {},
     "output_type": "execute_result"
    }
   ],
   "source": [
    "# modify the column width\n",
    "pd.set_option('display.max_colwidth', 50)\n",
    "\n",
    "# read in the movies data\n",
    "movies = pd.read_csv('../Data/movie_reviews.csv')\n",
    "movies.head(2)"
   ]
  },
  {
   "cell_type": "code",
   "execution_count": 63,
   "id": "0a952099-e11d-483e-a03a-69abe086d178",
   "metadata": {},
   "outputs": [
    {
     "data": {
      "text/plain": [
       "0    [-0.3252973258495331, -0.07725150883197784, 0....\n",
       "1    [0.20780158042907715, -0.06860747933387756, 0....\n",
       "Name: movie_info, dtype: object"
      ]
     },
     "execution_count": 63,
     "metadata": {},
     "output_type": "execute_result"
    }
   ],
   "source": [
    "# extract the embedding representation for each review\n",
    "feature_extractor = pipeline(\"feature-extraction\",\n",
    "                             model=\"sentence-transformers/all-MiniLM-L6-v2\",\n",
    "                             device='mps')\n",
    "\n",
    "embeddings = movies['movie_info'].apply(lambda x: feature_extractor(x)[0][0])\n",
    "embeddings.head(2)"
   ]
  },
  {
   "cell_type": "markdown",
   "id": "8d52d5a6-5072-4eb0-9352-98de6c6e4752",
   "metadata": {},
   "source": [
    "#### Step 2: Specify the Captain Marvel Embedding"
   ]
  },
  {
   "cell_type": "code",
   "execution_count": 64,
   "id": "ee0e0b6a-1bc7-42a3-bfc5-39b466243817",
   "metadata": {},
   "outputs": [
    {
     "data": {
      "text/html": [
       "<div>\n",
       "<style scoped>\n",
       "    .dataframe tbody tr th:only-of-type {\n",
       "        vertical-align: middle;\n",
       "    }\n",
       "\n",
       "    .dataframe tbody tr th {\n",
       "        vertical-align: top;\n",
       "    }\n",
       "\n",
       "    .dataframe thead th {\n",
       "        text-align: right;\n",
       "    }\n",
       "</style>\n",
       "<table border=\"1\" class=\"dataframe\">\n",
       "  <thead>\n",
       "    <tr style=\"text-align: right;\">\n",
       "      <th></th>\n",
       "      <th>movie_title</th>\n",
       "      <th>rating</th>\n",
       "      <th>genre</th>\n",
       "      <th>in_theaters_date</th>\n",
       "      <th>movie_info</th>\n",
       "      <th>directors</th>\n",
       "      <th>director_gender</th>\n",
       "      <th>tomatometer_rating</th>\n",
       "      <th>audience_rating</th>\n",
       "      <th>critics_consensus</th>\n",
       "    </tr>\n",
       "  </thead>\n",
       "  <tbody>\n",
       "    <tr>\n",
       "      <th>25</th>\n",
       "      <td>Captain Marvel</td>\n",
       "      <td>PG-13</td>\n",
       "      <td>Action &amp; Adventure, Science Fiction &amp; Fantasy</td>\n",
       "      <td>3/8/19</td>\n",
       "      <td>The story follows Carol Danvers as she becomes...</td>\n",
       "      <td>Anna Boden, Ryan Fleck</td>\n",
       "      <td>female</td>\n",
       "      <td>78</td>\n",
       "      <td>53</td>\n",
       "      <td>Packed with action, humor, and visual thrills,...</td>\n",
       "    </tr>\n",
       "  </tbody>\n",
       "</table>\n",
       "</div>"
      ],
      "text/plain": [
       "       movie_title rating                                          genre  \\\n",
       "25  Captain Marvel  PG-13  Action & Adventure, Science Fiction & Fantasy   \n",
       "\n",
       "   in_theaters_date                                         movie_info  \\\n",
       "25           3/8/19  The story follows Carol Danvers as she becomes...   \n",
       "\n",
       "                 directors director_gender  tomatometer_rating  \\\n",
       "25  Anna Boden, Ryan Fleck          female                  78   \n",
       "\n",
       "    audience_rating                                  critics_consensus  \n",
       "25               53  Packed with action, humor, and visual thrills,...  "
      ]
     },
     "execution_count": 64,
     "metadata": {},
     "output_type": "execute_result"
    }
   ],
   "source": [
    "# view one movie - Captain Marvel\n",
    "movies[movies.movie_title == 'Captain Marvel']"
   ]
  },
  {
   "cell_type": "code",
   "execution_count": 65,
   "id": "d6784dc1-27d7-4885-a857-84813fe60a6e",
   "metadata": {},
   "outputs": [
    {
     "data": {
      "text/plain": [
       "(1, 384)"
      ]
     },
     "execution_count": 65,
     "metadata": {},
     "output_type": "execute_result"
    }
   ],
   "source": [
    "# save the embedding for that movie\n",
    "import numpy as np\n",
    "\n",
    "embedding_cm = np.array(embeddings[25]).reshape(1, -1)\n",
    "embedding_cm.shape"
   ]
  },
  {
   "cell_type": "markdown",
   "id": "47bbee39-d05a-4342-ac78-2092e4055c25",
   "metadata": {},
   "source": [
    "#### Step 3: Specify the Embeddings for All Movies"
   ]
  },
  {
   "cell_type": "code",
   "execution_count": 66,
   "id": "05da8aa9-2d23-4075-b742-5c807bbd5069",
   "metadata": {},
   "outputs": [
    {
     "data": {
      "text/plain": [
       "(166, 384)"
      ]
     },
     "execution_count": 66,
     "metadata": {},
     "output_type": "execute_result"
    }
   ],
   "source": [
    "# save the embeddings for all movies\n",
    "embeddings_movies = np.vstack(embeddings)\n",
    "embeddings_movies.shape"
   ]
  },
  {
   "cell_type": "markdown",
   "id": "9106c8e5-ad4e-4de2-a636-f9a1433f58e2",
   "metadata": {},
   "source": [
    "#### Step 4: Calculate Cosine Similarity Scores"
   ]
  },
  {
   "cell_type": "code",
   "execution_count": 67,
   "id": "23c952c8-3bb5-497f-a247-5680add0f719",
   "metadata": {
    "scrolled": true
   },
   "outputs": [
    {
     "data": {
      "text/plain": [
       "0    0.749577\n",
       "1    0.684320\n",
       "2    0.599276\n",
       "3    0.673823\n",
       "4    0.724890\n",
       "Name: similarity_score, dtype: float64"
      ]
     },
     "execution_count": 67,
     "metadata": {},
     "output_type": "execute_result"
    }
   ],
   "source": [
    "# calculate the cosine similarity scores\n",
    "from sklearn.metrics.pairwise import cosine_similarity\n",
    "\n",
    "similarity_scores_cm = cosine_similarity(embedding_cm, embeddings_movies)\n",
    "similarity_scores_cm_series = pd.Series(similarity_scores_cm.flatten(), name='similarity_score')\n",
    "similarity_scores_cm_series.head()"
   ]
  },
  {
   "cell_type": "code",
   "execution_count": 68,
   "id": "a3838ec2-d503-4a35-9fb9-5ea44917cd08",
   "metadata": {},
   "outputs": [
    {
     "data": {
      "text/html": [
       "<div>\n",
       "<style scoped>\n",
       "    .dataframe tbody tr th:only-of-type {\n",
       "        vertical-align: middle;\n",
       "    }\n",
       "\n",
       "    .dataframe tbody tr th {\n",
       "        vertical-align: top;\n",
       "    }\n",
       "\n",
       "    .dataframe thead th {\n",
       "        text-align: right;\n",
       "    }\n",
       "</style>\n",
       "<table border=\"1\" class=\"dataframe\">\n",
       "  <thead>\n",
       "    <tr style=\"text-align: right;\">\n",
       "      <th></th>\n",
       "      <th>movie_title</th>\n",
       "      <th>movie_info</th>\n",
       "      <th>similarity_score</th>\n",
       "    </tr>\n",
       "  </thead>\n",
       "  <tbody>\n",
       "    <tr>\n",
       "      <th>0</th>\n",
       "      <td>A Dog's Journey</td>\n",
       "      <td>Bailey (voiced again by Josh Gad) is living th...</td>\n",
       "      <td>0.749577</td>\n",
       "    </tr>\n",
       "    <tr>\n",
       "      <th>1</th>\n",
       "      <td>A Dog's Way Home</td>\n",
       "      <td>Separated from her owner, a dog sets off on an...</td>\n",
       "      <td>0.684320</td>\n",
       "    </tr>\n",
       "    <tr>\n",
       "      <th>2</th>\n",
       "      <td>A Tuba to Cuba</td>\n",
       "      <td>The leader of New Orleans' famed Preservation ...</td>\n",
       "      <td>0.599276</td>\n",
       "    </tr>\n",
       "    <tr>\n",
       "      <th>3</th>\n",
       "      <td>A Vigilante</td>\n",
       "      <td>A once abused woman, Sadie (Olivia Wilde), dev...</td>\n",
       "      <td>0.673823</td>\n",
       "    </tr>\n",
       "    <tr>\n",
       "      <th>4</th>\n",
       "      <td>After</td>\n",
       "      <td>Based on Anna Todd's best-selling novel which ...</td>\n",
       "      <td>0.724890</td>\n",
       "    </tr>\n",
       "  </tbody>\n",
       "</table>\n",
       "</div>"
      ],
      "text/plain": [
       "        movie_title                                         movie_info  \\\n",
       "0   A Dog's Journey  Bailey (voiced again by Josh Gad) is living th...   \n",
       "1  A Dog's Way Home  Separated from her owner, a dog sets off on an...   \n",
       "2    A Tuba to Cuba  The leader of New Orleans' famed Preservation ...   \n",
       "3       A Vigilante  A once abused woman, Sadie (Olivia Wilde), dev...   \n",
       "4             After  Based on Anna Todd's best-selling novel which ...   \n",
       "\n",
       "   similarity_score  \n",
       "0          0.749577  \n",
       "1          0.684320  \n",
       "2          0.599276  \n",
       "3          0.673823  \n",
       "4          0.724890  "
      ]
     },
     "execution_count": 68,
     "metadata": {},
     "output_type": "execute_result"
    }
   ],
   "source": [
    "# combine movie titles, descriptions and scores\n",
    "similarity_scores_cm_df = pd.concat([movies[['movie_title', 'movie_info']], similarity_scores_cm_series], axis=1)\n",
    "similarity_scores_cm_df.head()"
   ]
  },
  {
   "cell_type": "code",
   "execution_count": 69,
   "id": "d9c61047-6e1e-42c3-bdd2-74383c6a239e",
   "metadata": {},
   "outputs": [
    {
     "data": {
      "text/html": [
       "<div>\n",
       "<style scoped>\n",
       "    .dataframe tbody tr th:only-of-type {\n",
       "        vertical-align: middle;\n",
       "    }\n",
       "\n",
       "    .dataframe tbody tr th {\n",
       "        vertical-align: top;\n",
       "    }\n",
       "\n",
       "    .dataframe thead th {\n",
       "        text-align: right;\n",
       "    }\n",
       "</style>\n",
       "<table border=\"1\" class=\"dataframe\">\n",
       "  <thead>\n",
       "    <tr style=\"text-align: right;\">\n",
       "      <th></th>\n",
       "      <th>movie_title</th>\n",
       "      <th>movie_info</th>\n",
       "      <th>similarity_score</th>\n",
       "    </tr>\n",
       "  </thead>\n",
       "  <tbody>\n",
       "    <tr>\n",
       "      <th>25</th>\n",
       "      <td>Captain Marvel</td>\n",
       "      <td>The story follows Carol Danvers as she becomes...</td>\n",
       "      <td>1.000000</td>\n",
       "    </tr>\n",
       "    <tr>\n",
       "      <th>45</th>\n",
       "      <td>Fast &amp; Furious Presents: Hobbs &amp; Shaw</td>\n",
       "      <td>Ever since hulking lawman Hobbs (Dwayne Johnso...</td>\n",
       "      <td>0.819661</td>\n",
       "    </tr>\n",
       "    <tr>\n",
       "      <th>18</th>\n",
       "      <td>Avengers: Endgame</td>\n",
       "      <td>The grave course of events set in motion by Th...</td>\n",
       "      <td>0.794008</td>\n",
       "    </tr>\n",
       "    <tr>\n",
       "      <th>131</th>\n",
       "      <td>The LEGO Movie 2: The Second Part</td>\n",
       "      <td>The much-anticipated sequel to the critically ...</td>\n",
       "      <td>0.792253</td>\n",
       "    </tr>\n",
       "    <tr>\n",
       "      <th>6</th>\n",
       "      <td>Alita: Battle Angel</td>\n",
       "      <td>From visionary filmmakers James Cameron (AVATA...</td>\n",
       "      <td>0.789453</td>\n",
       "    </tr>\n",
       "  </tbody>\n",
       "</table>\n",
       "</div>"
      ],
      "text/plain": [
       "                               movie_title  \\\n",
       "25                          Captain Marvel   \n",
       "45   Fast & Furious Presents: Hobbs & Shaw   \n",
       "18                       Avengers: Endgame   \n",
       "131      The LEGO Movie 2: The Second Part   \n",
       "6                      Alita: Battle Angel   \n",
       "\n",
       "                                            movie_info  similarity_score  \n",
       "25   The story follows Carol Danvers as she becomes...          1.000000  \n",
       "45   Ever since hulking lawman Hobbs (Dwayne Johnso...          0.819661  \n",
       "18   The grave course of events set in motion by Th...          0.794008  \n",
       "131  The much-anticipated sequel to the critically ...          0.792253  \n",
       "6    From visionary filmmakers James Cameron (AVATA...          0.789453  "
      ]
     },
     "execution_count": 69,
     "metadata": {},
     "output_type": "execute_result"
    }
   ],
   "source": [
    "# view the top 5 most similar movies\n",
    "similarity_scores_cm_df.sort_values('similarity_score', ascending=False).head()"
   ]
  },
  {
   "cell_type": "markdown",
   "id": "ebfe118e-0802-4d4e-a894-4b931f085803",
   "metadata": {},
   "source": [
    "#### DEMO: Create a function to find the most similar movie"
   ]
  },
  {
   "cell_type": "code",
   "execution_count": 70,
   "id": "5580bbdb-fea3-46bb-b054-c6440539253a",
   "metadata": {},
   "outputs": [],
   "source": [
    "# step 1: specify our feature extraction model\n",
    "feature_extractor = pipeline('feature-extraction',\n",
    "                     model='sentence-transformers/all-MiniLM-L6-v2',\n",
    "                     device='mps')"
   ]
  },
  {
   "cell_type": "code",
   "execution_count": 71,
   "id": "f7096f0b-0677-4e30-bec6-a5785fbbbd24",
   "metadata": {},
   "outputs": [
    {
     "data": {
      "text/plain": [
       "(166, 384)"
      ]
     },
     "execution_count": 71,
     "metadata": {},
     "output_type": "execute_result"
    }
   ],
   "source": [
    "# step 2: create a movies x embeddings array (166 x 384)\n",
    "embeddings = movies.movie_info.apply(lambda row: feature_extractor(row)[0][0])\n",
    "embeddings_movies = np.vstack(embeddings)\n",
    "embeddings_movies.shape"
   ]
  },
  {
   "cell_type": "code",
   "execution_count": 72,
   "id": "71090c8a-29d6-4870-a2b8-6b171bb6a54b",
   "metadata": {},
   "outputs": [],
   "source": [
    "# step 3: create a get_similar_movies function with the inputs: embeddings, movie_index, movie_details, top_n\n",
    "def get_similar_movies(embeddings, movie_index, movie_details, top_n=3):\n",
    "\n",
    "    # create movie embedding for movie_index\n",
    "    m_embedding = np.array(embeddings[movie_index]).reshape(1, -1)\n",
    "    \n",
    "    # calculate similarity scores\n",
    "    similarity_scores = cosine_similarity(m_embedding, embeddings)\n",
    "    similarity_scores_series = pd.Series(similarity_scores.flatten(), name='similarity_score')\n",
    "    \n",
    "    # bring in movie info\n",
    "    movies_similarity_scores_df = pd.concat([movie_details, similarity_scores_series], axis=1)\n",
    "\n",
    "    # display movie recs\n",
    "    return movies_similarity_scores_df.sort_values('similarity_score', ascending=False).iloc[0:top_n+1]"
   ]
  },
  {
   "cell_type": "code",
   "execution_count": 73,
   "id": "15b327cf-617e-4d39-9ced-9a9815242082",
   "metadata": {},
   "outputs": [],
   "source": [
    "# modify the column width\n",
    "pd.set_option('display.max_colwidth', None)"
   ]
  },
  {
   "cell_type": "code",
   "execution_count": 74,
   "id": "25617a89-a052-48c8-9afd-38c5bb168936",
   "metadata": {},
   "outputs": [
    {
     "data": {
      "text/html": [
       "<div>\n",
       "<style scoped>\n",
       "    .dataframe tbody tr th:only-of-type {\n",
       "        vertical-align: middle;\n",
       "    }\n",
       "\n",
       "    .dataframe tbody tr th {\n",
       "        vertical-align: top;\n",
       "    }\n",
       "\n",
       "    .dataframe thead th {\n",
       "        text-align: right;\n",
       "    }\n",
       "</style>\n",
       "<table border=\"1\" class=\"dataframe\">\n",
       "  <thead>\n",
       "    <tr style=\"text-align: right;\">\n",
       "      <th></th>\n",
       "      <th>movie_title</th>\n",
       "      <th>movie_info</th>\n",
       "      <th>similarity_score</th>\n",
       "    </tr>\n",
       "  </thead>\n",
       "  <tbody>\n",
       "    <tr>\n",
       "      <th>25</th>\n",
       "      <td>Captain Marvel</td>\n",
       "      <td>The story follows Carol Danvers as she becomes one of the universe's most powerful heroes when Earth is caught in the middle of a galactic war between two alien races. Set in the 1990s, Captain Marvel is an all-new adventure from a previously unseen period in the history of the Marvel Cinematic Universe.</td>\n",
       "      <td>1.000000</td>\n",
       "    </tr>\n",
       "    <tr>\n",
       "      <th>45</th>\n",
       "      <td>Fast &amp; Furious Presents: Hobbs &amp; Shaw</td>\n",
       "      <td>Ever since hulking lawman Hobbs (Dwayne Johnson), a loyal agent of America's Diplomatic Security Service, and lawless outcast Shaw (Jason Statham), a former British military elite operative, first faced off in 2015's Furious 7, the duo have swapped smack talk and body blows as they've tried to take each other down. But when cyber-genetically enhanced anarchist Brixton (Idris Elba) gains control of an insidious bio-threat that could alter humanity forever--and bests a brilliant and fearless rogue MI6 agent (The Crown's Vanessa Kirby), who just happens to be Shaw's sister--these two sworn enemies will have to partner up to bring down the only guy who might be badder than themselves.</td>\n",
       "      <td>0.819661</td>\n",
       "    </tr>\n",
       "    <tr>\n",
       "      <th>18</th>\n",
       "      <td>Avengers: Endgame</td>\n",
       "      <td>The grave course of events set in motion by Thanos that wiped out half the universe and fractured the Avengers ranks compels the remaining Avengers to take one final stand in Marvel Studios' grand conclusion to twenty-two films, \"Avengers: Endgame.\"</td>\n",
       "      <td>0.794008</td>\n",
       "    </tr>\n",
       "    <tr>\n",
       "      <th>131</th>\n",
       "      <td>The LEGO Movie 2: The Second Part</td>\n",
       "      <td>The much-anticipated sequel to the critically acclaimed, global box office phenomenon that started it all, \"The LEGO (R) Movie 2: The Second Part,\" reunites the heroes of Bricksburg in an all new action-packed adventure to save their beloved city. It's been five years since everything was awesome and the citizens are now facing a huge new threat: LEGO DUPLO (R) invaders from outer space, wrecking everything faster than it can be rebuilt. The battle to defeat the invaders and restore harmony to the LEGO universe will take Emmet (Chris Pratt), Lucy (Elizabeth Banks), Batman (Will Arnett) and their friends to faraway, unexplored worlds, including a strange galaxy where everything is a musical. It will test their courage, creativity and Master Building skills, and reveal just how special they really are.</td>\n",
       "      <td>0.792253</td>\n",
       "    </tr>\n",
       "  </tbody>\n",
       "</table>\n",
       "</div>"
      ],
      "text/plain": [
       "                               movie_title  \\\n",
       "25                          Captain Marvel   \n",
       "45   Fast & Furious Presents: Hobbs & Shaw   \n",
       "18                       Avengers: Endgame   \n",
       "131      The LEGO Movie 2: The Second Part   \n",
       "\n",
       "                                                                                                                                                                                                                                                                                                                                                                                                                                                                                                                                                                                                                                                                                                                                                                                                                                      movie_info  \\\n",
       "25                                                                                                                                                                                                                                                                                                                                                                                                                                                                                                                             The story follows Carol Danvers as she becomes one of the universe's most powerful heroes when Earth is caught in the middle of a galactic war between two alien races. Set in the 1990s, Captain Marvel is an all-new adventure from a previously unseen period in the history of the Marvel Cinematic Universe.   \n",
       "45                                                                                                                             Ever since hulking lawman Hobbs (Dwayne Johnson), a loyal agent of America's Diplomatic Security Service, and lawless outcast Shaw (Jason Statham), a former British military elite operative, first faced off in 2015's Furious 7, the duo have swapped smack talk and body blows as they've tried to take each other down. But when cyber-genetically enhanced anarchist Brixton (Idris Elba) gains control of an insidious bio-threat that could alter humanity forever--and bests a brilliant and fearless rogue MI6 agent (The Crown's Vanessa Kirby), who just happens to be Shaw's sister--these two sworn enemies will have to partner up to bring down the only guy who might be badder than themselves.   \n",
       "18                                                                                                                                                                                                                                                                                                                                                                                                                                                                                                                                                                                     The grave course of events set in motion by Thanos that wiped out half the universe and fractured the Avengers ranks compels the remaining Avengers to take one final stand in Marvel Studios' grand conclusion to twenty-two films, \"Avengers: Endgame.\"   \n",
       "131  The much-anticipated sequel to the critically acclaimed, global box office phenomenon that started it all, \"The LEGO (R) Movie 2: The Second Part,\" reunites the heroes of Bricksburg in an all new action-packed adventure to save their beloved city. It's been five years since everything was awesome and the citizens are now facing a huge new threat: LEGO DUPLO (R) invaders from outer space, wrecking everything faster than it can be rebuilt. The battle to defeat the invaders and restore harmony to the LEGO universe will take Emmet (Chris Pratt), Lucy (Elizabeth Banks), Batman (Will Arnett) and their friends to faraway, unexplored worlds, including a strange galaxy where everything is a musical. It will test their courage, creativity and Master Building skills, and reveal just how special they really are.   \n",
       "\n",
       "     similarity_score  \n",
       "25           1.000000  \n",
       "45           0.819661  \n",
       "18           0.794008  \n",
       "131          0.792253  "
      ]
     },
     "execution_count": 74,
     "metadata": {},
     "output_type": "execute_result"
    }
   ],
   "source": [
    "# find movies similar to Captain Marvel\n",
    "get_similar_movies(embeddings_movies, 25, movies[['movie_title', 'movie_info']])"
   ]
  },
  {
   "cell_type": "code",
   "execution_count": 75,
   "id": "e79b36ea-ca02-4189-a2b8-247e4a2903d2",
   "metadata": {},
   "outputs": [
    {
     "data": {
      "text/html": [
       "<div>\n",
       "<style scoped>\n",
       "    .dataframe tbody tr th:only-of-type {\n",
       "        vertical-align: middle;\n",
       "    }\n",
       "\n",
       "    .dataframe tbody tr th {\n",
       "        vertical-align: top;\n",
       "    }\n",
       "\n",
       "    .dataframe thead th {\n",
       "        text-align: right;\n",
       "    }\n",
       "</style>\n",
       "<table border=\"1\" class=\"dataframe\">\n",
       "  <thead>\n",
       "    <tr style=\"text-align: right;\">\n",
       "      <th></th>\n",
       "      <th>movie_title</th>\n",
       "      <th>movie_info</th>\n",
       "      <th>rating</th>\n",
       "      <th>similarity_score</th>\n",
       "    </tr>\n",
       "  </thead>\n",
       "  <tbody>\n",
       "    <tr>\n",
       "      <th>131</th>\n",
       "      <td>The LEGO Movie 2: The Second Part</td>\n",
       "      <td>The much-anticipated sequel to the critically acclaimed, global box office phenomenon that started it all, \"The LEGO (R) Movie 2: The Second Part,\" reunites the heroes of Bricksburg in an all new action-packed adventure to save their beloved city. It's been five years since everything was awesome and the citizens are now facing a huge new threat: LEGO DUPLO (R) invaders from outer space, wrecking everything faster than it can be rebuilt. The battle to defeat the invaders and restore harmony to the LEGO universe will take Emmet (Chris Pratt), Lucy (Elizabeth Banks), Batman (Will Arnett) and their friends to faraway, unexplored worlds, including a strange galaxy where everything is a musical. It will test their courage, creativity and Master Building skills, and reveal just how special they really are.</td>\n",
       "      <td>PG</td>\n",
       "      <td>1.000000</td>\n",
       "    </tr>\n",
       "    <tr>\n",
       "      <th>151</th>\n",
       "      <td>Toy Story 4</td>\n",
       "      <td>Woody (voice of Tom Hanks) has always been confident about his place in the world, and that his priority is taking care of his kid, whether that's Andy or Bonnie. So when Bonnie's beloved new craft-project-turned-toy, Forky (voice of Tony Hale), declares himself as \"trash\" and not a toy, Woody takes it upon himself to show Forky why he should embrace being a toy. But when Bonnie takes the whole gang on her family's road trip excursion, Woody ends up on an unexpected detour that includes a reunion with his long-lost friend Bo Peep (voice of Annie Potts). After years of being on her own, Bo's adventurous spirit and life on the road belie her delicate porcelain exterior. As Woody and Bo realize they're worlds apart when it comes to life as a toy, they soon come to find that's the least of their worries.</td>\n",
       "      <td>G</td>\n",
       "      <td>0.831060</td>\n",
       "    </tr>\n",
       "    <tr>\n",
       "      <th>32</th>\n",
       "      <td>Dolemite Is My Name</td>\n",
       "      <td>Stung by a string of showbiz failures, floundering comedian Rudy Ray Moore (Academy Award nominee Eddie Murphy) has an epiphany that turns him into a word-of-mouth sensation: step onstage as someone else. Borrowing from the street mythology of 1970s Los Angeles, Moore assumes the persona of Dolemite, a pimp with a cane and an arsenal of obscene fables. However, his ambitions exceed selling bootleg records deemed too racy for mainstream radio stations to play. Moore convinces a social justice-minded dramatist (Keegan-Michael Key) to write his alter ego a film, incorporating kung fu, car chases, and Lady Reed (Da'Vine Joy Randolph), an ex-backup singer who becomes his unexpected comedic foil. Despite clashing with his pretentious director, D'Urville Martin (Wesley Snipes), and countless production hurdles at their studio in the dilapidated Dunbar Hotel, Moore's Dolemite becomes a runaway box office smash and a defining movie of the Blaxploitation era.</td>\n",
       "      <td>R</td>\n",
       "      <td>0.826733</td>\n",
       "    </tr>\n",
       "    <tr>\n",
       "      <th>154</th>\n",
       "      <td>Triple Threat</td>\n",
       "      <td>TRIPLE THREAT, the newest feature from Johnson, is an adrenaline fueled and gritty action thriller starring some of the biggest names in action today. Michael Jai White (BLACK DYNAMITE; UNDISPUTED 2: LAST MAN STANDING), Scott Adkins (Marvel's DOCTOR STRANGE; THE EXPENDABLES 2), Michael Bisping (xXx: RETURN OF XANDER CAGE) star as a group of professional assassins hired to take out a billionaire's daughter who is intent on bringing down a major crime syndicate. A down and out team of mercenaries, played by Tony Jaa (ONG BAK TRILOGY; xXx: RETURN OF XANDER CAGE), Iko Uwais (THE RAID 1 &amp; 2; STAR WARS: THE FORCE AWAKENS) and Tiger Chen (MAN OF TAI CHI), must take on the assassins and stop them before they kill their target. The film co-stars JeeJa Yanin (CHOCOLATE) Michael Wong (Cold War) and Celina Jade (WOLF WARRIOR 2).</td>\n",
       "      <td>R</td>\n",
       "      <td>0.818383</td>\n",
       "    </tr>\n",
       "    <tr>\n",
       "      <th>36</th>\n",
       "      <td>Dumbo</td>\n",
       "      <td>From Disney and visionary director Tim Burton, the all-new grand live-action adventure \"Dumbo\" expands on the beloved classic story where differences are celebrated, family is cherished and dreams take flight. Circus owner Max Medici (Danny DeVito) enlists former star Holt Farrier (Colin Farrell) and his children Milly (Nico Parker) and Joe (Finley Hobbins) to care for a newborn elephant whose oversized ears make him a laughingstock in an already struggling circus. But when they discover that Dumbo can fly, the circus makes an incredible comeback, attracting persuasive entrepreneur V.A. Vandevere (Michael Keaton), who recruits the peculiar pachyderm for his newest, larger-than-life entertainment venture, Dreamland. Dumbo soars to new heights alongside a charming and spectacular aerial artist, Colette Marchant (Eva Green), until Holt learns that beneath its shiny veneer, Dreamland is full of dark secrets.</td>\n",
       "      <td>PG</td>\n",
       "      <td>0.818338</td>\n",
       "    </tr>\n",
       "    <tr>\n",
       "      <th>45</th>\n",
       "      <td>Fast &amp; Furious Presents: Hobbs &amp; Shaw</td>\n",
       "      <td>Ever since hulking lawman Hobbs (Dwayne Johnson), a loyal agent of America's Diplomatic Security Service, and lawless outcast Shaw (Jason Statham), a former British military elite operative, first faced off in 2015's Furious 7, the duo have swapped smack talk and body blows as they've tried to take each other down. But when cyber-genetically enhanced anarchist Brixton (Idris Elba) gains control of an insidious bio-threat that could alter humanity forever--and bests a brilliant and fearless rogue MI6 agent (The Crown's Vanessa Kirby), who just happens to be Shaw's sister--these two sworn enemies will have to partner up to bring down the only guy who might be badder than themselves.</td>\n",
       "      <td>PG-13</td>\n",
       "      <td>0.816315</td>\n",
       "    </tr>\n",
       "  </tbody>\n",
       "</table>\n",
       "</div>"
      ],
      "text/plain": [
       "                               movie_title  \\\n",
       "131      The LEGO Movie 2: The Second Part   \n",
       "151                            Toy Story 4   \n",
       "32                     Dolemite Is My Name   \n",
       "154                          Triple Threat   \n",
       "36                                   Dumbo   \n",
       "45   Fast & Furious Presents: Hobbs & Shaw   \n",
       "\n",
       "                                                                                                                                                                                                                                                                                                                                                                                                                                                                                                                                                                                                                                                                                                                                                                                                                                                                                                                                                                                              movie_info  \\\n",
       "131                                                                                                                                                          The much-anticipated sequel to the critically acclaimed, global box office phenomenon that started it all, \"The LEGO (R) Movie 2: The Second Part,\" reunites the heroes of Bricksburg in an all new action-packed adventure to save their beloved city. It's been five years since everything was awesome and the citizens are now facing a huge new threat: LEGO DUPLO (R) invaders from outer space, wrecking everything faster than it can be rebuilt. The battle to defeat the invaders and restore harmony to the LEGO universe will take Emmet (Chris Pratt), Lucy (Elizabeth Banks), Batman (Will Arnett) and their friends to faraway, unexplored worlds, including a strange galaxy where everything is a musical. It will test their courage, creativity and Master Building skills, and reveal just how special they really are.   \n",
       "151                                                                                                                                                          Woody (voice of Tom Hanks) has always been confident about his place in the world, and that his priority is taking care of his kid, whether that's Andy or Bonnie. So when Bonnie's beloved new craft-project-turned-toy, Forky (voice of Tony Hale), declares himself as \"trash\" and not a toy, Woody takes it upon himself to show Forky why he should embrace being a toy. But when Bonnie takes the whole gang on her family's road trip excursion, Woody ends up on an unexpected detour that includes a reunion with his long-lost friend Bo Peep (voice of Annie Potts). After years of being on her own, Bo's adventurous spirit and life on the road belie her delicate porcelain exterior. As Woody and Bo realize they're worlds apart when it comes to life as a toy, they soon come to find that's the least of their worries.   \n",
       "32   Stung by a string of showbiz failures, floundering comedian Rudy Ray Moore (Academy Award nominee Eddie Murphy) has an epiphany that turns him into a word-of-mouth sensation: step onstage as someone else. Borrowing from the street mythology of 1970s Los Angeles, Moore assumes the persona of Dolemite, a pimp with a cane and an arsenal of obscene fables. However, his ambitions exceed selling bootleg records deemed too racy for mainstream radio stations to play. Moore convinces a social justice-minded dramatist (Keegan-Michael Key) to write his alter ego a film, incorporating kung fu, car chases, and Lady Reed (Da'Vine Joy Randolph), an ex-backup singer who becomes his unexpected comedic foil. Despite clashing with his pretentious director, D'Urville Martin (Wesley Snipes), and countless production hurdles at their studio in the dilapidated Dunbar Hotel, Moore's Dolemite becomes a runaway box office smash and a defining movie of the Blaxploitation era.   \n",
       "154                                                                                                                                         TRIPLE THREAT, the newest feature from Johnson, is an adrenaline fueled and gritty action thriller starring some of the biggest names in action today. Michael Jai White (BLACK DYNAMITE; UNDISPUTED 2: LAST MAN STANDING), Scott Adkins (Marvel's DOCTOR STRANGE; THE EXPENDABLES 2), Michael Bisping (xXx: RETURN OF XANDER CAGE) star as a group of professional assassins hired to take out a billionaire's daughter who is intent on bringing down a major crime syndicate. A down and out team of mercenaries, played by Tony Jaa (ONG BAK TRILOGY; xXx: RETURN OF XANDER CAGE), Iko Uwais (THE RAID 1 & 2; STAR WARS: THE FORCE AWAKENS) and Tiger Chen (MAN OF TAI CHI), must take on the assassins and stop them before they kill their target. The film co-stars JeeJa Yanin (CHOCOLATE) Michael Wong (Cold War) and Celina Jade (WOLF WARRIOR 2).   \n",
       "36                                                 From Disney and visionary director Tim Burton, the all-new grand live-action adventure \"Dumbo\" expands on the beloved classic story where differences are celebrated, family is cherished and dreams take flight. Circus owner Max Medici (Danny DeVito) enlists former star Holt Farrier (Colin Farrell) and his children Milly (Nico Parker) and Joe (Finley Hobbins) to care for a newborn elephant whose oversized ears make him a laughingstock in an already struggling circus. But when they discover that Dumbo can fly, the circus makes an incredible comeback, attracting persuasive entrepreneur V.A. Vandevere (Michael Keaton), who recruits the peculiar pachyderm for his newest, larger-than-life entertainment venture, Dreamland. Dumbo soars to new heights alongside a charming and spectacular aerial artist, Colette Marchant (Eva Green), until Holt learns that beneath its shiny veneer, Dreamland is full of dark secrets.   \n",
       "45                                                                                                                                                                                                                                                                                     Ever since hulking lawman Hobbs (Dwayne Johnson), a loyal agent of America's Diplomatic Security Service, and lawless outcast Shaw (Jason Statham), a former British military elite operative, first faced off in 2015's Furious 7, the duo have swapped smack talk and body blows as they've tried to take each other down. But when cyber-genetically enhanced anarchist Brixton (Idris Elba) gains control of an insidious bio-threat that could alter humanity forever--and bests a brilliant and fearless rogue MI6 agent (The Crown's Vanessa Kirby), who just happens to be Shaw's sister--these two sworn enemies will have to partner up to bring down the only guy who might be badder than themselves.   \n",
       "\n",
       "    rating  similarity_score  \n",
       "131     PG          1.000000  \n",
       "151      G          0.831060  \n",
       "32       R          0.826733  \n",
       "154      R          0.818383  \n",
       "36      PG          0.818338  \n",
       "45   PG-13          0.816315  "
      ]
     },
     "execution_count": 75,
     "metadata": {},
     "output_type": "execute_result"
    }
   ],
   "source": [
    "# find movies similar to The LEGO Movie 2\n",
    "get_similar_movies(embeddings_movies, 131, movies[['movie_title', 'movie_info', 'rating']], top_n=5)"
   ]
  },
  {
   "cell_type": "code",
   "execution_count": null,
   "id": "e92a5265-2122-42d3-9d9e-c9b5ceeae115",
   "metadata": {},
   "outputs": [],
   "source": []
  }
 ],
 "metadata": {
  "kernelspec": {
   "display_name": "Python 3 (ipykernel)",
   "language": "python",
   "name": "python3"
  },
  "language_info": {
   "codemirror_mode": {
    "name": "ipython",
    "version": 3
   },
   "file_extension": ".py",
   "mimetype": "text/x-python",
   "name": "python",
   "nbconvert_exporter": "python",
   "pygments_lexer": "ipython3",
   "version": "3.13.2"
  }
 },
 "nbformat": 4,
 "nbformat_minor": 5
}
