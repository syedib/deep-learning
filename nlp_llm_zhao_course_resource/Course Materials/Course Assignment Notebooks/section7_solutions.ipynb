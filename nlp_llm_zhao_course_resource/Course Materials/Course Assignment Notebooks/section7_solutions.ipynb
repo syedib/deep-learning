{
 "cells": [
  {
   "cell_type": "markdown",
   "id": "0b6039fe-058d-4ca8-b777-55c9015008dd",
   "metadata": {},
   "source": [
    "# Hugging Face Transformers Assignment Solutions"
   ]
  },
  {
   "cell_type": "markdown",
   "id": "f7d81df7-d7dc-43c4-8405-8ca24db5459e",
   "metadata": {},
   "source": [
    "## 0. Create a New Environment"
   ]
  },
  {
   "cell_type": "markdown",
   "id": "b9e8ae59-98c6-4731-b0a5-2f5511412298",
   "metadata": {},
   "source": [
    "Command line code to execute in the Terminal (Mac) or Anaconda Prompt (PC):\n",
    "\n",
    "#### 1. view, create and switch environments\n",
    "```\n",
    "conda env list\n",
    "conda create --name nlp_transformers\n",
    "conda env list\n",
    "conda activate nlp_transformers\n",
    "```\n",
    "\n",
    "#### 2. install and view packages\n",
    "```\n",
    "conda install python jupyter notebook pandas numpy scikit-learn openpyxl transformers pytorch\n",
    "conda list\n",
    "```"
   ]
  },
  {
   "cell_type": "markdown",
   "id": "51453f5a-a9d1-451e-a0cf-caddf8392d87",
   "metadata": {},
   "source": [
    "## 1. Sentiment Analysis"
   ]
  },
  {
   "cell_type": "markdown",
   "id": "b91bb8c1-a0d3-4c7a-ba3a-cc4bbaa05f3f",
   "metadata": {},
   "source": [
    "1. Create a new _nlp_transformers_ environment\n",
    "2. Launch Jupyter Notebook\n",
    "3. Read in the movie reviews data set including the VADER sentiment scores (_movie_reviews_sentiment.csv_)\n",
    "4. Apply sentiment analysis to the _movie_info_ column using transformers\n",
    "5. Compare the transformers sentiment scores with the VADER sentiment scores"
   ]
  },
  {
   "cell_type": "code",
   "execution_count": 1,
   "id": "214cf43d-fbef-4d4e-b9ee-29195a958ef3",
   "metadata": {},
   "outputs": [
    {
     "data": {
      "text/html": [
       "<div>\n",
       "<style scoped>\n",
       "    .dataframe tbody tr th:only-of-type {\n",
       "        vertical-align: middle;\n",
       "    }\n",
       "\n",
       "    .dataframe tbody tr th {\n",
       "        vertical-align: top;\n",
       "    }\n",
       "\n",
       "    .dataframe thead th {\n",
       "        text-align: right;\n",
       "    }\n",
       "</style>\n",
       "<table border=\"1\" class=\"dataframe\">\n",
       "  <thead>\n",
       "    <tr style=\"text-align: right;\">\n",
       "      <th></th>\n",
       "      <th>movie_title</th>\n",
       "      <th>rating</th>\n",
       "      <th>genre</th>\n",
       "      <th>in_theaters_date</th>\n",
       "      <th>movie_info</th>\n",
       "      <th>directors</th>\n",
       "      <th>director_gender</th>\n",
       "      <th>tomatometer_rating</th>\n",
       "      <th>audience_rating</th>\n",
       "      <th>critics_consensus</th>\n",
       "      <th>sentiment_vader</th>\n",
       "    </tr>\n",
       "  </thead>\n",
       "  <tbody>\n",
       "    <tr>\n",
       "      <th>0</th>\n",
       "      <td>A Dog's Journey</td>\n",
       "      <td>PG</td>\n",
       "      <td>Drama, Kids &amp; Family</td>\n",
       "      <td>5/17/19</td>\n",
       "      <td>Bailey (voiced again by Josh Gad) is living th...</td>\n",
       "      <td>Gail Mancuso</td>\n",
       "      <td>female</td>\n",
       "      <td>50</td>\n",
       "      <td>92</td>\n",
       "      <td>A Dog's Journey is as sentimental as one might...</td>\n",
       "      <td>0.9837</td>\n",
       "    </tr>\n",
       "    <tr>\n",
       "      <th>1</th>\n",
       "      <td>A Dog's Way Home</td>\n",
       "      <td>PG</td>\n",
       "      <td>Drama</td>\n",
       "      <td>1/11/19</td>\n",
       "      <td>Separated from her owner, a dog sets off on an...</td>\n",
       "      <td>Charles Martin Smith</td>\n",
       "      <td>male</td>\n",
       "      <td>60</td>\n",
       "      <td>71</td>\n",
       "      <td>A Dog's Way Home may not quite be a family-fri...</td>\n",
       "      <td>0.9237</td>\n",
       "    </tr>\n",
       "  </tbody>\n",
       "</table>\n",
       "</div>"
      ],
      "text/plain": [
       "        movie_title rating                 genre in_theaters_date  \\\n",
       "0   A Dog's Journey     PG  Drama, Kids & Family          5/17/19   \n",
       "1  A Dog's Way Home     PG                 Drama          1/11/19   \n",
       "\n",
       "                                          movie_info             directors  \\\n",
       "0  Bailey (voiced again by Josh Gad) is living th...          Gail Mancuso   \n",
       "1  Separated from her owner, a dog sets off on an...  Charles Martin Smith   \n",
       "\n",
       "  director_gender  tomatometer_rating  audience_rating  \\\n",
       "0          female                  50               92   \n",
       "1            male                  60               71   \n",
       "\n",
       "                                   critics_consensus  sentiment_vader  \n",
       "0  A Dog's Journey is as sentimental as one might...           0.9837  \n",
       "1  A Dog's Way Home may not quite be a family-fri...           0.9237  "
      ]
     },
     "execution_count": 1,
     "metadata": {},
     "output_type": "execute_result"
    }
   ],
   "source": [
    "# view movie reviews with vader sentiment scores\n",
    "import pandas as pd\n",
    "\n",
    "movies = pd.read_csv('../Data/movie_reviews_sentiment.csv')\n",
    "movies.head(2)"
   ]
  },
  {
   "cell_type": "code",
   "execution_count": 2,
   "id": "73c88aef-ecb5-4902-aa02-d86f7e3c587e",
   "metadata": {},
   "outputs": [
    {
     "name": "stdout",
     "output_type": "stream",
     "text": [
      "CPU times: user 4.73 s, sys: 809 ms, total: 5.54 s\n",
      "Wall time: 7.38 s\n"
     ]
    },
    {
     "data": {
      "text/plain": [
       "0      [{'label': 'POSITIVE', 'score': 0.998246908187...\n",
       "1      [{'label': 'POSITIVE', 'score': 0.999533653259...\n",
       "2      [{'label': 'POSITIVE', 'score': 0.999443471431...\n",
       "3      [{'label': 'POSITIVE', 'score': 0.999460160732...\n",
       "4      [{'label': 'POSITIVE', 'score': 0.997202277183...\n",
       "                             ...                        \n",
       "161    [{'label': 'POSITIVE', 'score': 0.998772561550...\n",
       "162    [{'label': 'POSITIVE', 'score': 0.998496770858...\n",
       "163    [{'label': 'POSITIVE', 'score': 0.998909831047...\n",
       "164    [{'label': 'POSITIVE', 'score': 0.991357326507...\n",
       "165    [{'label': 'NEGATIVE', 'score': 0.998446881771...\n",
       "Name: movie_info, Length: 166, dtype: object"
      ]
     },
     "execution_count": 2,
     "metadata": {},
     "output_type": "execute_result"
    }
   ],
   "source": [
    "%%time\n",
    "# GPU approach (if available)\n",
    "\n",
    "from transformers import pipeline, logging\n",
    "\n",
    "logging.set_verbosity_error()\n",
    "\n",
    "sentiment_analyzer = pipeline(\n",
    "    \"sentiment-analysis\",\n",
    "    model=\"distilbert/distilbert-base-uncased-finetuned-sst-2-english\",\n",
    "    device='mps' # mps for newer macs, cuda for gaming pcs\n",
    ")\n",
    "\n",
    "sentiment_scores = movies.movie_info.apply(sentiment_analyzer)\n",
    "sentiment_scores"
   ]
  },
  {
   "cell_type": "code",
   "execution_count": 3,
   "id": "4b85db1f-4d83-4b4f-a376-a9fc219cd0b8",
   "metadata": {},
   "outputs": [
    {
     "name": "stdout",
     "output_type": "stream",
     "text": [
      "CPU times: user 2min 11s, sys: 4.69 s, total: 2min 16s\n",
      "Wall time: 19.4 s\n"
     ]
    },
    {
     "data": {
      "text/plain": [
       "0      [{'label': 'POSITIVE', 'score': 0.998246908187...\n",
       "1      [{'label': 'POSITIVE', 'score': 0.999533653259...\n",
       "2      [{'label': 'POSITIVE', 'score': 0.999443471431...\n",
       "3      [{'label': 'POSITIVE', 'score': 0.999460160732...\n",
       "4      [{'label': 'POSITIVE', 'score': 0.997202277183...\n",
       "                             ...                        \n",
       "161    [{'label': 'POSITIVE', 'score': 0.998772561550...\n",
       "162    [{'label': 'POSITIVE', 'score': 0.998496770858...\n",
       "163    [{'label': 'POSITIVE', 'score': 0.998909831047...\n",
       "164    [{'label': 'POSITIVE', 'score': 0.991357326507...\n",
       "165    [{'label': 'NEGATIVE', 'score': 0.998446881771...\n",
       "Name: movie_info, Length: 166, dtype: object"
      ]
     },
     "execution_count": 3,
     "metadata": {},
     "output_type": "execute_result"
    }
   ],
   "source": [
    "%%time\n",
    "# potential CPU approach (if GPU unavailable) -- review pro tip: speed up transformers code lesson for more options\n",
    "\n",
    "from transformers import pipeline, logging\n",
    "\n",
    "logging.set_verbosity_error()\n",
    "\n",
    "sentiment_analyzer = pipeline(\n",
    "    \"sentiment-analysis\",\n",
    "    model=\"distilbert/distilbert-base-uncased-finetuned-sst-2-english\",\n",
    "    device=-1 # cpu\n",
    ")\n",
    "\n",
    "import torch\n",
    "torch.set_num_threads(1)\n",
    "\n",
    "sentiment_scores = movies.movie_info.apply(sentiment_analyzer)\n",
    "sentiment_scores"
   ]
  },
  {
   "cell_type": "code",
   "execution_count": 4,
   "id": "f574662d-e4c6-48ed-a2f7-8c51a5581d08",
   "metadata": {},
   "outputs": [],
   "source": [
    "# extract the label and score and create a sentiment score\n",
    "pd.set_option('display.max_colwidth', None)\n",
    "\n",
    "movies['label_hf'] = sentiment_scores.apply(lambda x: x[0]['label'])\n",
    "movies['score_hf'] = sentiment_scores.apply(lambda x: x[0]['score'])\n",
    "movies['sentiment_hf'] = movies.apply(lambda row: row['score_hf'] if row['label_hf'] == 'POSITIVE' else -row['score_hf'], axis=1)"
   ]
  },
  {
   "cell_type": "code",
   "execution_count": 5,
   "id": "b9c0e7fc-85c6-4170-873d-b87cce428d67",
   "metadata": {},
   "outputs": [
    {
     "data": {
      "text/html": [
       "<div>\n",
       "<style scoped>\n",
       "    .dataframe tbody tr th:only-of-type {\n",
       "        vertical-align: middle;\n",
       "    }\n",
       "\n",
       "    .dataframe tbody tr th {\n",
       "        vertical-align: top;\n",
       "    }\n",
       "\n",
       "    .dataframe thead th {\n",
       "        text-align: right;\n",
       "    }\n",
       "</style>\n",
       "<table border=\"1\" class=\"dataframe\">\n",
       "  <thead>\n",
       "    <tr style=\"text-align: right;\">\n",
       "      <th></th>\n",
       "      <th>movie_title</th>\n",
       "      <th>movie_info</th>\n",
       "      <th>sentiment_vader</th>\n",
       "      <th>sentiment_hf</th>\n",
       "    </tr>\n",
       "  </thead>\n",
       "  <tbody>\n",
       "    <tr>\n",
       "      <th>22</th>\n",
       "      <td>Braid</td>\n",
       "      <td>Two wanted women decide to rob their wealthy yet mentally unstable friend who lives in a fantasy world they all created as children. To take her money, the girls must take part in a deadly and perverse game of make believe throughout a sprawling yet decaying estate. As things become increasingly violent and hallucinatory, they realize that obtaining the money may be the least of their concerns.</td>\n",
       "      <td>-0.8316</td>\n",
       "      <td>-0.999203</td>\n",
       "    </tr>\n",
       "    <tr>\n",
       "      <th>103</th>\n",
       "      <td>Spider-Man: Far From Home</td>\n",
       "      <td>Peter Parker returns in Spider-Man: Far From Home, the next chapter of the Spider-Man: Homecoming series! Our friendly neighborhood Super Hero decides to join his best friends Ned, MJ, and the rest of the gang on a European vacation. However, Peter's plan to leave super heroics behind for a few weeks are quickly scrapped when he begrudgingly agrees to help Nick Fury uncover the mystery of several elemental creature attacks, creating havoc across the continent!</td>\n",
       "      <td>0.9722</td>\n",
       "      <td>-0.998805</td>\n",
       "    </tr>\n",
       "    <tr>\n",
       "      <th>34</th>\n",
       "      <td>Dragged Across Concrete</td>\n",
       "      <td>DRAGGED ACROSS CONCRETE follows two police detectives who find themselves suspended when a video of their strong-arm tactics is leaked to the media. With little money and no options, the embittered policemen descend into the criminal underworld and find more than they wanted waiting in the shadows.</td>\n",
       "      <td>-0.9015</td>\n",
       "      <td>-0.998734</td>\n",
       "    </tr>\n",
       "    <tr>\n",
       "      <th>165</th>\n",
       "      <td>Yesterday</td>\n",
       "      <td>Jack Malik (Himesh Patel, BBC's Eastenders) is a struggling singer-songwriter in a tiny English seaside town whose dreams of fame are rapidly fading, despite the fierce devotion and support of his childhood best friend, Ellie (Lily James, Mamma Mia! Here We Go Again). Then, after a freak bus accident during a mysterious global blackout, Jack wakes up to discover that The Beatles have never existed... and he finds himself with a very complicated problem, indeed.</td>\n",
       "      <td>0.1365</td>\n",
       "      <td>-0.998447</td>\n",
       "    </tr>\n",
       "    <tr>\n",
       "      <th>102</th>\n",
       "      <td>Skin</td>\n",
       "      <td>A white supremacist reforms his life after falling in love but saying goodbye to his skinhead life isn't a clean process. He must betray his former gang and work alongside the FBI in order to remove the body ink that has represented his identity for so long, as well as the burden of the gang's crimes he has carried.</td>\n",
       "      <td>-0.8377</td>\n",
       "      <td>-0.996846</td>\n",
       "    </tr>\n",
       "  </tbody>\n",
       "</table>\n",
       "</div>"
      ],
      "text/plain": [
       "                   movie_title  \\\n",
       "22                       Braid   \n",
       "103  Spider-Man: Far From Home   \n",
       "34     Dragged Across Concrete   \n",
       "165                  Yesterday   \n",
       "102                       Skin   \n",
       "\n",
       "                                                                                                                                                                                                                                                                                                                                                                                                                                                                            movie_info  \\\n",
       "22                                                                       Two wanted women decide to rob their wealthy yet mentally unstable friend who lives in a fantasy world they all created as children. To take her money, the girls must take part in a deadly and perverse game of make believe throughout a sprawling yet decaying estate. As things become increasingly violent and hallucinatory, they realize that obtaining the money may be the least of their concerns.   \n",
       "103   Peter Parker returns in Spider-Man: Far From Home, the next chapter of the Spider-Man: Homecoming series! Our friendly neighborhood Super Hero decides to join his best friends Ned, MJ, and the rest of the gang on a European vacation. However, Peter's plan to leave super heroics behind for a few weeks are quickly scrapped when he begrudgingly agrees to help Nick Fury uncover the mystery of several elemental creature attacks, creating havoc across the continent!   \n",
       "34                                                                                                                                                                         DRAGGED ACROSS CONCRETE follows two police detectives who find themselves suspended when a video of their strong-arm tactics is leaked to the media. With little money and no options, the embittered policemen descend into the criminal underworld and find more than they wanted waiting in the shadows.   \n",
       "165  Jack Malik (Himesh Patel, BBC's Eastenders) is a struggling singer-songwriter in a tiny English seaside town whose dreams of fame are rapidly fading, despite the fierce devotion and support of his childhood best friend, Ellie (Lily James, Mamma Mia! Here We Go Again). Then, after a freak bus accident during a mysterious global blackout, Jack wakes up to discover that The Beatles have never existed... and he finds himself with a very complicated problem, indeed.   \n",
       "102                                                                                                                                                      A white supremacist reforms his life after falling in love but saying goodbye to his skinhead life isn't a clean process. He must betray his former gang and work alongside the FBI in order to remove the body ink that has represented his identity for so long, as well as the burden of the gang's crimes he has carried.   \n",
       "\n",
       "     sentiment_vader  sentiment_hf  \n",
       "22           -0.8316     -0.999203  \n",
       "103           0.9722     -0.998805  \n",
       "34           -0.9015     -0.998734  \n",
       "165           0.1365     -0.998447  \n",
       "102          -0.8377     -0.996846  "
      ]
     },
     "execution_count": 5,
     "metadata": {},
     "output_type": "execute_result"
    }
   ],
   "source": [
    "# compare sentiment scores\n",
    "movies[['movie_title', 'movie_info', 'sentiment_vader', 'sentiment_hf']].sort_values('sentiment_hf').head()"
   ]
  },
  {
   "cell_type": "code",
   "execution_count": 6,
   "id": "9d3d2f98-60c5-42ac-84e1-a615dc8fa127",
   "metadata": {},
   "outputs": [],
   "source": [
    "# observations\n",
    "# for rows 1, 3 & 5, both sentiment scores are similar\n",
    "# for rows 2 & 4, the sentiment scores differ:\n",
    "# - row 2 (spiderman): vader labeled it as very positive and hf's transformers as very negative - the actual text seems mixed\n",
    "# - row 4 (yesterday): vader labeled it as neutral and hf's transformers as very negative - the actual text seems somewhat negative"
   ]
  },
  {
   "cell_type": "markdown",
   "id": "9d93a908-11dd-4554-9c2a-cc987938f253",
   "metadata": {},
   "source": [
    "## 2. Named Entity Recognition"
   ]
  },
  {
   "cell_type": "markdown",
   "id": "60338a9b-0adc-47a5-9cfe-7074da9edca6",
   "metadata": {},
   "source": [
    "1. Read in the children's books data set (_childrens_books.csv_)\n",
    "2. Apply NER to the Description column\n",
    "3. Create a list of all named entities\n",
    "4. Only include the people (PER)\n",
    "5. _Extra credit:_ Exclude the authors as well"
   ]
  },
  {
   "cell_type": "code",
   "execution_count": 7,
   "id": "3d4233a5-525a-45e0-a482-744a7afc0265",
   "metadata": {},
   "outputs": [
    {
     "data": {
      "text/html": [
       "<div>\n",
       "<style scoped>\n",
       "    .dataframe tbody tr th:only-of-type {\n",
       "        vertical-align: middle;\n",
       "    }\n",
       "\n",
       "    .dataframe tbody tr th {\n",
       "        vertical-align: top;\n",
       "    }\n",
       "\n",
       "    .dataframe thead th {\n",
       "        text-align: right;\n",
       "    }\n",
       "</style>\n",
       "<table border=\"1\" class=\"dataframe\">\n",
       "  <thead>\n",
       "    <tr style=\"text-align: right;\">\n",
       "      <th></th>\n",
       "      <th>Ranking</th>\n",
       "      <th>Title</th>\n",
       "      <th>Author</th>\n",
       "      <th>Year</th>\n",
       "      <th>Rating</th>\n",
       "      <th>Description</th>\n",
       "    </tr>\n",
       "  </thead>\n",
       "  <tbody>\n",
       "    <tr>\n",
       "      <th>0</th>\n",
       "      <td>1</td>\n",
       "      <td>Where the Wild Things Are</td>\n",
       "      <td>Maurice Sendak</td>\n",
       "      <td>1963</td>\n",
       "      <td>4.25</td>\n",
       "      <td>Where the Wild Things Are follows Max, a young boy who, after being sent to his room for misbehaving, imagines sailing to an island filled with wild creatures. As their king, Max tames the beasts and eventually returns home to find his supper waiting for him. This iconic book explores themes of imagination, adventure, and the complex emotions of childhood, all captured through Sendak's whimsical illustrations and story.</td>\n",
       "    </tr>\n",
       "    <tr>\n",
       "      <th>1</th>\n",
       "      <td>2</td>\n",
       "      <td>The Very Hungry Caterpillar</td>\n",
       "      <td>Eric Carle</td>\n",
       "      <td>1969</td>\n",
       "      <td>4.34</td>\n",
       "      <td>The Very Hungry Caterpillar tells the story of a caterpillar who eats through a variety of foods before eventually becoming a butterfly. Eric Carle’s use of colorful collage illustrations and rhythmic text has made this book a beloved classic for young readers. The simple, engaging story introduces children to days of the week, counting, and the concept of metamorphosis. It’s a staple in early childhood education.</td>\n",
       "    </tr>\n",
       "  </tbody>\n",
       "</table>\n",
       "</div>"
      ],
      "text/plain": [
       "   Ranking                        Title          Author  Year Rating  \\\n",
       "0        1    Where the Wild Things Are  Maurice Sendak  1963   4.25   \n",
       "1        2  The Very Hungry Caterpillar      Eric Carle  1969   4.34   \n",
       "\n",
       "                                                                                                                                                                                                                                                                                                                                                                                                                               Description  \n",
       "0  Where the Wild Things Are follows Max, a young boy who, after being sent to his room for misbehaving, imagines sailing to an island filled with wild creatures. As their king, Max tames the beasts and eventually returns home to find his supper waiting for him. This iconic book explores themes of imagination, adventure, and the complex emotions of childhood, all captured through Sendak's whimsical illustrations and story.  \n",
       "1        The Very Hungry Caterpillar tells the story of a caterpillar who eats through a variety of foods before eventually becoming a butterfly. Eric Carle’s use of colorful collage illustrations and rhythmic text has made this book a beloved classic for young readers. The simple, engaging story introduces children to days of the week, counting, and the concept of metamorphosis. It’s a staple in early childhood education.  "
      ]
     },
     "execution_count": 7,
     "metadata": {},
     "output_type": "execute_result"
    }
   ],
   "source": [
    "# view the childrens books\n",
    "books = pd.read_csv('../Data/childrens_books.csv')\n",
    "books.head(2)"
   ]
  },
  {
   "cell_type": "code",
   "execution_count": 8,
   "id": "2c49beb4-d70e-406d-9bef-846805936739",
   "metadata": {},
   "outputs": [],
   "source": [
    "# find the named entities in each description\n",
    "ner_analyzer = pipeline(\"ner\",\n",
    "                        model=\"dbmdz/bert-large-cased-finetuned-conll03-english\",\n",
    "                        device='mps',\n",
    "                        aggregation_strategy='SIMPLE')"
   ]
  },
  {
   "cell_type": "code",
   "execution_count": 9,
   "id": "bb0ee966-564b-44ae-af78-549335d837e5",
   "metadata": {},
   "outputs": [
    {
     "data": {
      "text/plain": [
       "[{'entity_group': 'MISC',\n",
       "  'score': np.float32(0.9462517),\n",
       "  'word': 'Where the Wild Things Are',\n",
       "  'start': 0,\n",
       "  'end': 25},\n",
       " {'entity_group': 'PER',\n",
       "  'score': np.float32(0.9990614),\n",
       "  'word': 'Max',\n",
       "  'start': 34,\n",
       "  'end': 37},\n",
       " {'entity_group': 'PER',\n",
       "  'score': np.float32(0.9984414),\n",
       "  'word': 'Max',\n",
       "  'start': 175,\n",
       "  'end': 178},\n",
       " {'entity_group': 'PER',\n",
       "  'score': np.float32(0.97894603),\n",
       "  'word': 'Sendak',\n",
       "  'start': 380,\n",
       "  'end': 386}]"
      ]
     },
     "execution_count": 9,
     "metadata": {},
     "output_type": "execute_result"
    }
   ],
   "source": [
    "# apply to a single book\n",
    "ner_analyzer(books.Description[0])"
   ]
  },
  {
   "cell_type": "code",
   "execution_count": 10,
   "id": "78b91158-4662-4b97-bb4d-d764797634a3",
   "metadata": {},
   "outputs": [
    {
     "data": {
      "text/plain": [
       "['Max', 'Max', 'Sendak']"
      ]
     },
     "execution_count": 10,
     "metadata": {},
     "output_type": "execute_result"
    }
   ],
   "source": [
    "# extract the people only\n",
    "[entity['word'] for entity in ner_analyzer(books.Description[0]) if entity['entity_group'] == 'PER']"
   ]
  },
  {
   "cell_type": "code",
   "execution_count": 11,
   "id": "fe4900ae-de21-4284-a796-fba1c826b92c",
   "metadata": {},
   "outputs": [],
   "source": [
    "# apply to all books\n",
    "named_entities = books['Description'].apply(lambda row: [entity['word']\n",
    "                                                         for entity in ner_analyzer(row)\n",
    "                                                         if entity['entity_group'] == 'PER'])"
   ]
  },
  {
   "cell_type": "code",
   "execution_count": 12,
   "id": "4b4b9e6f-8da4-46bd-b911-916cfaa2c08c",
   "metadata": {},
   "outputs": [
    {
     "data": {
      "text/plain": [
       "['Jess Aarons',\n",
       " 'Ramona',\n",
       " 'Silverstein',\n",
       " 'C',\n",
       " 'Grover',\n",
       " 'Arnold Lobel',\n",
       " 'Sachar',\n",
       " 'Clifford',\n",
       " '##per',\n",
       " 'Meg Murry']"
      ]
     },
     "execution_count": 12,
     "metadata": {},
     "output_type": "execute_result"
    }
   ],
   "source": [
    "# create a unique list of named entities\n",
    "named_entities = list(set(named_entities.explode().dropna().tolist()))\n",
    "named_entities[:10]"
   ]
  },
  {
   "cell_type": "code",
   "execution_count": 13,
   "id": "d0779150-f4e7-4b1f-b667-c678ec6171aa",
   "metadata": {},
   "outputs": [
    {
     "data": {
      "text/plain": [
       "165"
      ]
     },
     "execution_count": 13,
     "metadata": {},
     "output_type": "execute_result"
    }
   ],
   "source": [
    "# view the number of entities\n",
    "len(named_entities)"
   ]
  },
  {
   "cell_type": "code",
   "execution_count": 14,
   "id": "5172491f-0cec-4a27-a94d-eef11d04413e",
   "metadata": {},
   "outputs": [
    {
     "data": {
      "text/plain": [
       "['Doreen Cronin',\n",
       " 'Janette Sebring Lowrey',\n",
       " 'Margaret Wise Brown',\n",
       " 'Beatrix Potter',\n",
       " 'L.M. Montgomery',\n",
       " 'Laura Joffe Numeroff',\n",
       " 'Eric Carle',\n",
       " 'J.K. Rowling',\n",
       " 'E.L. Konigsburg',\n",
       " 'C.S. Lewis']"
      ]
     },
     "execution_count": 14,
     "metadata": {},
     "output_type": "execute_result"
    }
   ],
   "source": [
    "# create a unique list of authors\n",
    "authors = list(set(books.Author.tolist()))\n",
    "authors[:10]"
   ]
  },
  {
   "cell_type": "code",
   "execution_count": 15,
   "id": "3ae7b1b6-182d-448c-9dd9-aa368f036b21",
   "metadata": {},
   "outputs": [
    {
     "data": {
      "text/plain": [
       "72"
      ]
     },
     "execution_count": 15,
     "metadata": {},
     "output_type": "execute_result"
    }
   ],
   "source": [
    "# view the number of authors\n",
    "len(authors)"
   ]
  },
  {
   "cell_type": "code",
   "execution_count": 16,
   "id": "9ebe1706-ada5-4d8c-bfca-d7f990787d42",
   "metadata": {},
   "outputs": [
    {
     "data": {
      "text/plain": [
       "['Jess Aarons',\n",
       " 'Ramona',\n",
       " 'Silverstein',\n",
       " 'C',\n",
       " 'Grover',\n",
       " 'Sachar',\n",
       " 'Clifford',\n",
       " 'Meg Murry',\n",
       " 'Laura Ingalls',\n",
       " 'Basil E. Frankweiler']"
      ]
     },
     "execution_count": 16,
     "metadata": {},
     "output_type": "execute_result"
    }
   ],
   "source": [
    "# exclude subwords and authors from the named entity list to create a final list of characters\n",
    "named_entities_clean = [entity for entity in named_entities if entity not in authors and '#' not in entity]\n",
    "named_entities_clean[:10]"
   ]
  },
  {
   "cell_type": "code",
   "execution_count": 17,
   "id": "279f4024-3d9b-40c4-b7f8-84374eb88d15",
   "metadata": {},
   "outputs": [
    {
     "data": {
      "text/plain": [
       "145"
      ]
     },
     "execution_count": 17,
     "metadata": {},
     "output_type": "execute_result"
    }
   ],
   "source": [
    "# view the number of final characters\n",
    "len(named_entities_clean)"
   ]
  },
  {
   "cell_type": "code",
   "execution_count": 18,
   "id": "6559ad2e-804e-4e08-b01e-c27754ca39f8",
   "metadata": {},
   "outputs": [],
   "source": [
    "# comments\n",
    "# 1. named_entities_clean is not fully clean - Galdone is an author / illustrator, not a character and slipped\n",
    "#    through the cracks here, but this is common during text analysis since text data is rarely perfectly clean\n",
    "# 2. the order of the entities in the solution in this notebook is different than the order of the entities in\n",
    "#    the video solution because we used 'set', which removes duplicates but does not preserve order, resulting\n",
    "#    in potentially different output orders with each run"
   ]
  },
  {
   "cell_type": "markdown",
   "id": "a8ff2723-9560-4bf4-ade7-53cbb6503b61",
   "metadata": {},
   "source": [
    "## 3. Zero-Shot Classification"
   ]
  },
  {
   "cell_type": "markdown",
   "id": "4bf9f8ed-6b81-4f45-a19d-97287de8d3cb",
   "metadata": {},
   "source": [
    "1. Apply zero-shot classification to the Description column using these five categories:\n",
    "* adventure & fantasy\n",
    "* animals & nature\n",
    "* mystery\n",
    "* humor\n",
    "* non-fiction\n",
    "2. Find the number of books in each category and check a few to see if the results make sense"
   ]
  },
  {
   "cell_type": "code",
   "execution_count": 19,
   "id": "0f13d049-8bdc-4b96-91bb-06fb92443d19",
   "metadata": {},
   "outputs": [],
   "source": [
    "# find the category of each description\n",
    "classifier = pipeline(\"zero-shot-classification\",\n",
    "                      model=\"facebook/bart-large-mnli\",\n",
    "                      device='mps')"
   ]
  },
  {
   "cell_type": "code",
   "execution_count": 20,
   "id": "35332d28-17d2-4444-8bef-0ac1e4ce44cb",
   "metadata": {},
   "outputs": [
    {
     "data": {
      "text/plain": [
       "{'sequence': \"Where the Wild Things Are\\xa0follows Max, a young boy who, after being sent to his room for misbehaving, imagines sailing to an island filled with wild creatures. As their king, Max tames the beasts and eventually returns home to find his supper waiting for him. This iconic book explores themes of imagination, adventure, and the complex emotions of childhood, all captured through Sendak's whimsical illustrations and story.\",\n",
       " 'labels': ['adventure & fantasy',\n",
       "  'animals & nature',\n",
       "  'humor',\n",
       "  'mystery',\n",
       "  'non-fiction'],\n",
       " 'scores': [0.40190133452415466,\n",
       "  0.30649277567863464,\n",
       "  0.14998996257781982,\n",
       "  0.07116316258907318,\n",
       "  0.07045280188322067]}"
      ]
     },
     "execution_count": 20,
     "metadata": {},
     "output_type": "execute_result"
    }
   ],
   "source": [
    "# apply to a single book\n",
    "classifier(books.Description[0], ['adventure & fantasy', 'animals & nature', 'mystery', 'humor', 'non-fiction'])"
   ]
  },
  {
   "cell_type": "code",
   "execution_count": 21,
   "id": "29bab02a-1c68-4223-a899-d5628cc96d94",
   "metadata": {},
   "outputs": [
    {
     "data": {
      "text/plain": [
       "'adventure & fantasy'"
      ]
     },
     "execution_count": 21,
     "metadata": {},
     "output_type": "execute_result"
    }
   ],
   "source": [
    "# extract just the top category\n",
    "classifier(books.Description[0], ['adventure & fantasy', 'animals & nature', 'mystery', 'humor', 'non-fiction'])['labels'][0]"
   ]
  },
  {
   "cell_type": "code",
   "execution_count": 22,
   "id": "341c9949-2336-41dd-bc19-3bf70cf7ab04",
   "metadata": {},
   "outputs": [],
   "source": [
    "# apply category labels to the books\n",
    "books['Category'] = (books['Description'].apply(lambda x:\n",
    "                      classifier(x, candidate_labels=['adventure & fantasy', 'animals & nature', 'mystery',\n",
    "                                                      'humor', 'non-fiction'])['labels'][0]))"
   ]
  },
  {
   "cell_type": "code",
   "execution_count": 23,
   "id": "30be9f8b-f703-4c74-9e96-d02ae9237dc4",
   "metadata": {},
   "outputs": [
    {
     "data": {
      "text/plain": [
       "Category\n",
       "humor                  42\n",
       "adventure & fantasy    18\n",
       "non-fiction            15\n",
       "animals & nature       13\n",
       "mystery                12\n",
       "Name: count, dtype: int64"
      ]
     },
     "execution_count": 23,
     "metadata": {},
     "output_type": "execute_result"
    }
   ],
   "source": [
    "# view the number of books in each category\n",
    "books.Category.value_counts()"
   ]
  },
  {
   "cell_type": "code",
   "execution_count": 24,
   "id": "fae2cc6e-473b-4794-aeca-28dfbefa8b78",
   "metadata": {},
   "outputs": [
    {
     "data": {
      "text/html": [
       "<div>\n",
       "<style scoped>\n",
       "    .dataframe tbody tr th:only-of-type {\n",
       "        vertical-align: middle;\n",
       "    }\n",
       "\n",
       "    .dataframe tbody tr th {\n",
       "        vertical-align: top;\n",
       "    }\n",
       "\n",
       "    .dataframe thead th {\n",
       "        text-align: right;\n",
       "    }\n",
       "</style>\n",
       "<table border=\"1\" class=\"dataframe\">\n",
       "  <thead>\n",
       "    <tr style=\"text-align: right;\">\n",
       "      <th></th>\n",
       "      <th>Title</th>\n",
       "      <th>Description</th>\n",
       "      <th>Category</th>\n",
       "    </tr>\n",
       "  </thead>\n",
       "  <tbody>\n",
       "    <tr>\n",
       "      <th>3</th>\n",
       "      <td>Green Eggs and Ham</td>\n",
       "      <td>In Green Eggs and Ham, Sam-I-Am tries to convince a reluctant character to try a dish of green eggs and ham, despite his resistance. Through repetition and rhyme, Dr. Seuss’s classic story about being open to new experiences encourages children to be adventurous and try things outside their comfort zone. The playful illustrations and humorous dialogue make it a fun and educational read for young readers.</td>\n",
       "      <td>humor</td>\n",
       "    </tr>\n",
       "    <tr>\n",
       "      <th>5</th>\n",
       "      <td>Charlotte’s Web</td>\n",
       "      <td>Charlotte’s Web tells the story of a pig named Wilbur and his friendship with Charlotte, a clever spider who saves his life. Set on a farm, the novel explores themes of friendship, loyalty, and the cycle of life. Through Charlotte’s wise words and actions, Wilbur learns about love and sacrifice. White’s writing is filled with warmth and humor, and it’s a perfect read for both children and adults, dealing with timeless themes.</td>\n",
       "      <td>humor</td>\n",
       "    </tr>\n",
       "  </tbody>\n",
       "</table>\n",
       "</div>"
      ],
      "text/plain": [
       "                Title  \\\n",
       "3  Green Eggs and Ham   \n",
       "5     Charlotte’s Web   \n",
       "\n",
       "                                                                                                                                                                                                                                                                                                                                                                                                                                     Description  \\\n",
       "3                        In Green Eggs and Ham, Sam-I-Am tries to convince a reluctant character to try a dish of green eggs and ham, despite his resistance. Through repetition and rhyme, Dr. Seuss’s classic story about being open to new experiences encourages children to be adventurous and try things outside their comfort zone. The playful illustrations and humorous dialogue make it a fun and educational read for young readers.   \n",
       "5  Charlotte’s Web tells the story of a pig named Wilbur and his friendship with Charlotte, a clever spider who saves his life. Set on a farm, the novel explores themes of friendship, loyalty, and the cycle of life. Through Charlotte’s wise words and actions, Wilbur learns about love and sacrifice. White’s writing is filled with warmth and humor, and it’s a perfect read for both children and adults, dealing with timeless themes.   \n",
       "\n",
       "  Category  \n",
       "3    humor  \n",
       "5    humor  "
      ]
     },
     "execution_count": 24,
     "metadata": {},
     "output_type": "execute_result"
    }
   ],
   "source": [
    "# humor books\n",
    "books[['Title', 'Description', 'Category']][books.Category == 'humor'].head(2)"
   ]
  },
  {
   "cell_type": "code",
   "execution_count": 25,
   "id": "2468a277-1e7f-4eef-b3f6-3d76faf1a416",
   "metadata": {},
   "outputs": [
    {
     "data": {
      "text/html": [
       "<div>\n",
       "<style scoped>\n",
       "    .dataframe tbody tr th:only-of-type {\n",
       "        vertical-align: middle;\n",
       "    }\n",
       "\n",
       "    .dataframe tbody tr th {\n",
       "        vertical-align: top;\n",
       "    }\n",
       "\n",
       "    .dataframe thead th {\n",
       "        text-align: right;\n",
       "    }\n",
       "</style>\n",
       "<table border=\"1\" class=\"dataframe\">\n",
       "  <thead>\n",
       "    <tr style=\"text-align: right;\">\n",
       "      <th></th>\n",
       "      <th>Title</th>\n",
       "      <th>Description</th>\n",
       "      <th>Category</th>\n",
       "    </tr>\n",
       "  </thead>\n",
       "  <tbody>\n",
       "    <tr>\n",
       "      <th>0</th>\n",
       "      <td>Where the Wild Things Are</td>\n",
       "      <td>Where the Wild Things Are follows Max, a young boy who, after being sent to his room for misbehaving, imagines sailing to an island filled with wild creatures. As their king, Max tames the beasts and eventually returns home to find his supper waiting for him. This iconic book explores themes of imagination, adventure, and the complex emotions of childhood, all captured through Sendak's whimsical illustrations and story.</td>\n",
       "      <td>adventure &amp; fantasy</td>\n",
       "    </tr>\n",
       "    <tr>\n",
       "      <th>12</th>\n",
       "      <td>Madeline</td>\n",
       "      <td>Madeline follows the adventures of a brave and spirited little girl living in a convent in Paris. When she falls ill, she shows resilience and courage, never losing her sense of adventure. Bemelmans' charming illustrations and engaging storytelling make Madeline a beloved character in children’s literature. Themes of independence, courage, and friendship make this a timeless classic.</td>\n",
       "      <td>adventure &amp; fantasy</td>\n",
       "    </tr>\n",
       "  </tbody>\n",
       "</table>\n",
       "</div>"
      ],
      "text/plain": [
       "                        Title  \\\n",
       "0   Where the Wild Things Are   \n",
       "12                   Madeline   \n",
       "\n",
       "                                                                                                                                                                                                                                                                                                                                                                                                                                Description  \\\n",
       "0   Where the Wild Things Are follows Max, a young boy who, after being sent to his room for misbehaving, imagines sailing to an island filled with wild creatures. As their king, Max tames the beasts and eventually returns home to find his supper waiting for him. This iconic book explores themes of imagination, adventure, and the complex emotions of childhood, all captured through Sendak's whimsical illustrations and story.   \n",
       "12                                       Madeline follows the adventures of a brave and spirited little girl living in a convent in Paris. When she falls ill, she shows resilience and courage, never losing her sense of adventure. Bemelmans' charming illustrations and engaging storytelling make Madeline a beloved character in children’s literature. Themes of independence, courage, and friendship make this a timeless classic.   \n",
       "\n",
       "               Category  \n",
       "0   adventure & fantasy  \n",
       "12  adventure & fantasy  "
      ]
     },
     "execution_count": 25,
     "metadata": {},
     "output_type": "execute_result"
    }
   ],
   "source": [
    "# adventure & fantasy books\n",
    "books[['Title', 'Description', 'Category']][books.Category == 'adventure & fantasy'].head(2)"
   ]
  },
  {
   "cell_type": "code",
   "execution_count": 26,
   "id": "986f5b23-0c63-43d9-a019-1a0420de5edf",
   "metadata": {},
   "outputs": [
    {
     "data": {
      "text/html": [
       "<div>\n",
       "<style scoped>\n",
       "    .dataframe tbody tr th:only-of-type {\n",
       "        vertical-align: middle;\n",
       "    }\n",
       "\n",
       "    .dataframe tbody tr th {\n",
       "        vertical-align: top;\n",
       "    }\n",
       "\n",
       "    .dataframe thead th {\n",
       "        text-align: right;\n",
       "    }\n",
       "</style>\n",
       "<table border=\"1\" class=\"dataframe\">\n",
       "  <thead>\n",
       "    <tr style=\"text-align: right;\">\n",
       "      <th></th>\n",
       "      <th>Title</th>\n",
       "      <th>Description</th>\n",
       "      <th>Category</th>\n",
       "    </tr>\n",
       "  </thead>\n",
       "  <tbody>\n",
       "    <tr>\n",
       "      <th>2</th>\n",
       "      <td>The Giving Tree</td>\n",
       "      <td>The Giving Tree is a touching and bittersweet story about a tree that gives everything it has to a boy over the course of his life. As the boy grows up, he takes more from the tree, and the tree continues to give, even when it has little left. Silverstein’s minimalist text and illustrations convey deep themes of unconditional love, selflessness, and the passage of time. It has sparked much discussion about relationships and sacrifice.</td>\n",
       "      <td>non-fiction</td>\n",
       "    </tr>\n",
       "    <tr>\n",
       "      <th>9</th>\n",
       "      <td>Love You Forever</td>\n",
       "      <td>Love You Forever tells the heartwarming story of a mother’s enduring love for her son as he grows from a baby to an adult. Despite the passage of time and changing circumstances, the mother’s love remains constant. This book explores themes of unconditional love and the bond between parent and child, making it a perfect book for sharing at bedtime or during moments of reflection.</td>\n",
       "      <td>non-fiction</td>\n",
       "    </tr>\n",
       "  </tbody>\n",
       "</table>\n",
       "</div>"
      ],
      "text/plain": [
       "              Title  \\\n",
       "2   The Giving Tree   \n",
       "9  Love You Forever   \n",
       "\n",
       "                                                                                                                                                                                                                                                                                                                                                                                                                                              Description  \\\n",
       "2  The Giving Tree is a touching and bittersweet story about a tree that gives everything it has to a boy over the course of his life. As the boy grows up, he takes more from the tree, and the tree continues to give, even when it has little left. Silverstein’s minimalist text and illustrations convey deep themes of unconditional love, selflessness, and the passage of time. It has sparked much discussion about relationships and sacrifice.   \n",
       "9                                                          Love You Forever tells the heartwarming story of a mother’s enduring love for her son as he grows from a baby to an adult. Despite the passage of time and changing circumstances, the mother’s love remains constant. This book explores themes of unconditional love and the bond between parent and child, making it a perfect book for sharing at bedtime or during moments of reflection.   \n",
       "\n",
       "      Category  \n",
       "2  non-fiction  \n",
       "9  non-fiction  "
      ]
     },
     "execution_count": 26,
     "metadata": {},
     "output_type": "execute_result"
    }
   ],
   "source": [
    "# non-fiction books\n",
    "books[['Title', 'Description', 'Category']][books.Category == 'non-fiction'].head(2)"
   ]
  },
  {
   "cell_type": "code",
   "execution_count": 27,
   "id": "6d25a621-f459-4619-ab10-a1da8d3dcbf6",
   "metadata": {},
   "outputs": [
    {
     "data": {
      "text/html": [
       "<div>\n",
       "<style scoped>\n",
       "    .dataframe tbody tr th:only-of-type {\n",
       "        vertical-align: middle;\n",
       "    }\n",
       "\n",
       "    .dataframe tbody tr th {\n",
       "        vertical-align: top;\n",
       "    }\n",
       "\n",
       "    .dataframe thead th {\n",
       "        text-align: right;\n",
       "    }\n",
       "</style>\n",
       "<table border=\"1\" class=\"dataframe\">\n",
       "  <thead>\n",
       "    <tr style=\"text-align: right;\">\n",
       "      <th></th>\n",
       "      <th>Title</th>\n",
       "      <th>Description</th>\n",
       "      <th>Category</th>\n",
       "    </tr>\n",
       "  </thead>\n",
       "  <tbody>\n",
       "    <tr>\n",
       "      <th>1</th>\n",
       "      <td>The Very Hungry Caterpillar</td>\n",
       "      <td>The Very Hungry Caterpillar tells the story of a caterpillar who eats through a variety of foods before eventually becoming a butterfly. Eric Carle’s use of colorful collage illustrations and rhythmic text has made this book a beloved classic for young readers. The simple, engaging story introduces children to days of the week, counting, and the concept of metamorphosis. It’s a staple in early childhood education.</td>\n",
       "      <td>animals &amp; nature</td>\n",
       "    </tr>\n",
       "    <tr>\n",
       "      <th>4</th>\n",
       "      <td>Goodnight Moon</td>\n",
       "      <td>Goodnight Moon is a gentle, rhythmic bedtime story where a little bunny says goodnight to everything in his room, from the moon to the \"quiet old lady whispering hush.\" Its repetitive structure and comforting tone make it ideal for young children. The simple illustrations by Clement Hurd complement the soothing nature of the story, making it a beloved classic for sleep-time reading.</td>\n",
       "      <td>animals &amp; nature</td>\n",
       "    </tr>\n",
       "  </tbody>\n",
       "</table>\n",
       "</div>"
      ],
      "text/plain": [
       "                         Title  \\\n",
       "1  The Very Hungry Caterpillar   \n",
       "4               Goodnight Moon   \n",
       "\n",
       "                                                                                                                                                                                                                                                                                                                                                                                                                         Description  \\\n",
       "1  The Very Hungry Caterpillar tells the story of a caterpillar who eats through a variety of foods before eventually becoming a butterfly. Eric Carle’s use of colorful collage illustrations and rhythmic text has made this book a beloved classic for young readers. The simple, engaging story introduces children to days of the week, counting, and the concept of metamorphosis. It’s a staple in early childhood education.   \n",
       "4                                  Goodnight Moon is a gentle, rhythmic bedtime story where a little bunny says goodnight to everything in his room, from the moon to the \"quiet old lady whispering hush.\" Its repetitive structure and comforting tone make it ideal for young children. The simple illustrations by Clement Hurd complement the soothing nature of the story, making it a beloved classic for sleep-time reading.   \n",
       "\n",
       "           Category  \n",
       "1  animals & nature  \n",
       "4  animals & nature  "
      ]
     },
     "execution_count": 27,
     "metadata": {},
     "output_type": "execute_result"
    }
   ],
   "source": [
    "# animals & nature books\n",
    "books[['Title', 'Description', 'Category']][books.Category == 'animals & nature'].head(2)"
   ]
  },
  {
   "cell_type": "code",
   "execution_count": 28,
   "id": "4c91c562-60aa-49a1-b644-39cdddd002aa",
   "metadata": {},
   "outputs": [
    {
     "data": {
      "text/html": [
       "<div>\n",
       "<style scoped>\n",
       "    .dataframe tbody tr th:only-of-type {\n",
       "        vertical-align: middle;\n",
       "    }\n",
       "\n",
       "    .dataframe tbody tr th {\n",
       "        vertical-align: top;\n",
       "    }\n",
       "\n",
       "    .dataframe thead th {\n",
       "        text-align: right;\n",
       "    }\n",
       "</style>\n",
       "<table border=\"1\" class=\"dataframe\">\n",
       "  <thead>\n",
       "    <tr style=\"text-align: right;\">\n",
       "      <th></th>\n",
       "      <th>Title</th>\n",
       "      <th>Description</th>\n",
       "      <th>Category</th>\n",
       "    </tr>\n",
       "  </thead>\n",
       "  <tbody>\n",
       "    <tr>\n",
       "      <th>13</th>\n",
       "      <td>Harry Potter and the Sorcerer's Stone (Harry Potter, #1)</td>\n",
       "      <td>Harry Potter and the Sorcerer’s Stone introduces readers to Harry Potter, an orphan who discovers that he is a wizard and attends the magical Hogwarts School of Witchcraft and Wizardry. Along with his new friends, Harry uncovers mysteries surrounding his past and the dark wizard who killed his parents. This book starts the beloved series and sets the stage for Harry’s journey, filled with magic, adventure, and friendship.</td>\n",
       "      <td>mystery</td>\n",
       "    </tr>\n",
       "    <tr>\n",
       "      <th>20</th>\n",
       "      <td>The Little Prince</td>\n",
       "      <td>The Little Prince is a philosophical novella that tells the story of a young prince who travels from planet to planet, learning about life, love, and human nature. Through encounters with various characters, he discovers that the most important things in life are invisible to the eye. The story’s allegorical messages about childhood innocence and adult perspective have made it a timeless classic, appealing to both children and adults alike.</td>\n",
       "      <td>mystery</td>\n",
       "    </tr>\n",
       "  </tbody>\n",
       "</table>\n",
       "</div>"
      ],
      "text/plain": [
       "                                                       Title  \\\n",
       "13  Harry Potter and the Sorcerer's Stone (Harry Potter, #1)   \n",
       "20                                         The Little Prince   \n",
       "\n",
       "                                                                                                                                                                                                                                                                                                                                                                                                                                                     Description  \\\n",
       "13                     Harry Potter and the Sorcerer’s Stone introduces readers to Harry Potter, an orphan who discovers that he is a wizard and attends the magical Hogwarts School of Witchcraft and Wizardry. Along with his new friends, Harry uncovers mysteries surrounding his past and the dark wizard who killed his parents. This book starts the beloved series and sets the stage for Harry’s journey, filled with magic, adventure, and friendship.   \n",
       "20  The Little Prince is a philosophical novella that tells the story of a young prince who travels from planet to planet, learning about life, love, and human nature. Through encounters with various characters, he discovers that the most important things in life are invisible to the eye. The story’s allegorical messages about childhood innocence and adult perspective have made it a timeless classic, appealing to both children and adults alike.   \n",
       "\n",
       "   Category  \n",
       "13  mystery  \n",
       "20  mystery  "
      ]
     },
     "execution_count": 28,
     "metadata": {},
     "output_type": "execute_result"
    }
   ],
   "source": [
    "# mystery books\n",
    "books[['Title', 'Description', 'Category']][books.Category == 'mystery'].head(2)"
   ]
  },
  {
   "cell_type": "code",
   "execution_count": 29,
   "id": "70fb6f06-426b-41d6-a028-00be0b59576e",
   "metadata": {},
   "outputs": [],
   "source": [
    "# observations\n",
    "# humor, adventure & fantasy, and animals & nature books all make a lot of sense\n",
    "# non-fiction books make sense, but they're not truly non-fiction, so maybe rename as 'stories about growing up'\n",
    "# mystery books make sense, and can maybe rename as 'books for older kids'"
   ]
  },
  {
   "cell_type": "markdown",
   "id": "cf88784f-2446-421f-922c-4fe7df80784b",
   "metadata": {},
   "source": [
    "## 4. Text Summarization"
   ]
  },
  {
   "cell_type": "markdown",
   "id": "c858cc66-2baf-447d-b482-c31f674c3873",
   "metadata": {},
   "source": [
    "1. Apply text summarization to the Description column\n",
    "2. Review the results to see if they make sense"
   ]
  },
  {
   "cell_type": "code",
   "execution_count": 30,
   "id": "1d4da9d3-61e7-4dff-bedf-f8e86a700088",
   "metadata": {},
   "outputs": [],
   "source": [
    "# summarize each book description\n",
    "summarizer = pipeline(\"summarization\",\n",
    "                      model=\"facebook/bart-large-cnn\",\n",
    "                      device='mps')"
   ]
  },
  {
   "cell_type": "code",
   "execution_count": 31,
   "id": "18530657-94c5-4187-924f-fa6765ab7254",
   "metadata": {},
   "outputs": [
    {
     "data": {
      "text/plain": [
       "[{'summary_text': \"Where the Wild Things Are follows Max, a young boy who, after being sent to his room for misbehaving, imagines sailing to an island filled with wild creatures. This iconic book explores themes of imagination, adventure, and the complex emotions of childhood, all captured through Sendak's whimsical illustrations and story.\"}]"
      ]
     },
     "execution_count": 31,
     "metadata": {},
     "output_type": "execute_result"
    }
   ],
   "source": [
    "# summarize a single book description\n",
    "summarizer(books.Description[0])"
   ]
  },
  {
   "cell_type": "code",
   "execution_count": 32,
   "id": "e7767494-c732-4400-8a9f-22205c65a98d",
   "metadata": {},
   "outputs": [
    {
     "data": {
      "text/plain": [
       "[{'summary_text': 'Where the Wild Things Are follows Max, a young boy who imagines sailing to an island filled with wild creatures. This iconic book explores themes of imagination, adventure, and the complex emotions of childhood.'}]"
      ]
     },
     "execution_count": 32,
     "metadata": {},
     "output_type": "execute_result"
    }
   ],
   "source": [
    "# tweak the parameters\n",
    "summarizer(books.Description[0], min_length=10, max_length=50, early_stopping=True, length_penalty=.8)"
   ]
  },
  {
   "cell_type": "code",
   "execution_count": 33,
   "id": "138f3e39-09ff-4f0e-b91b-e64a1fc4acc5",
   "metadata": {},
   "outputs": [
    {
     "data": {
      "text/plain": [
       "'Where the Wild Things Are follows Max, a young boy who imagines sailing to an island filled with wild creatures. This iconic book explores themes of imagination, adventure, and the complex emotions of childhood.'"
      ]
     },
     "execution_count": 33,
     "metadata": {},
     "output_type": "execute_result"
    }
   ],
   "source": [
    "# extract just the summary\n",
    "summarizer(books.Description[0], min_length=10, max_length=50, early_stopping=True, length_penalty=.8)[0]['summary_text']"
   ]
  },
  {
   "cell_type": "code",
   "execution_count": 34,
   "id": "07b1e9e0-053f-4d74-a275-1cc6b87caa90",
   "metadata": {},
   "outputs": [],
   "source": [
    "# apply to all books\n",
    "books['Summary'] = books.Description.apply(lambda row: summarizer(row,\n",
    "                                           min_length=10, max_length=50,\n",
    "                                           early_stopping=True, length_penalty=.8)[0]['summary_text'])"
   ]
  },
  {
   "cell_type": "code",
   "execution_count": 35,
   "id": "765dae0a-bb49-4684-9c82-009115c69a04",
   "metadata": {},
   "outputs": [
    {
     "data": {
      "text/html": [
       "<div>\n",
       "<style scoped>\n",
       "    .dataframe tbody tr th:only-of-type {\n",
       "        vertical-align: middle;\n",
       "    }\n",
       "\n",
       "    .dataframe tbody tr th {\n",
       "        vertical-align: top;\n",
       "    }\n",
       "\n",
       "    .dataframe thead th {\n",
       "        text-align: right;\n",
       "    }\n",
       "</style>\n",
       "<table border=\"1\" class=\"dataframe\">\n",
       "  <thead>\n",
       "    <tr style=\"text-align: right;\">\n",
       "      <th></th>\n",
       "      <th>Title</th>\n",
       "      <th>Description</th>\n",
       "      <th>Summary</th>\n",
       "    </tr>\n",
       "  </thead>\n",
       "  <tbody>\n",
       "    <tr>\n",
       "      <th>0</th>\n",
       "      <td>Where the Wild Things Are</td>\n",
       "      <td>Where the Wild Things Are follows Max, a young boy who, after being sent to his room for misbehaving, imagines sailing to an island filled with wild creatures. As their king, Max tames the beasts and eventually returns home to find his supper waiting for him. This iconic book explores themes of imagination, adventure, and the complex emotions of childhood, all captured through Sendak's whimsical illustrations and story.</td>\n",
       "      <td>Where the Wild Things Are follows Max, a young boy who imagines sailing to an island filled with wild creatures. This iconic book explores themes of imagination, adventure, and the complex emotions of childhood.</td>\n",
       "    </tr>\n",
       "    <tr>\n",
       "      <th>1</th>\n",
       "      <td>The Very Hungry Caterpillar</td>\n",
       "      <td>The Very Hungry Caterpillar tells the story of a caterpillar who eats through a variety of foods before eventually becoming a butterfly. Eric Carle’s use of colorful collage illustrations and rhythmic text has made this book a beloved classic for young readers. The simple, engaging story introduces children to days of the week, counting, and the concept of metamorphosis. It’s a staple in early childhood education.</td>\n",
       "      <td>Eric Carle’s use of colorful collage illustrations and rhythmic text has made this book a beloved classic for young readers. The simple, engaging story introduces children to days of the week, counting, and the concept of met</td>\n",
       "    </tr>\n",
       "    <tr>\n",
       "      <th>2</th>\n",
       "      <td>The Giving Tree</td>\n",
       "      <td>The Giving Tree is a touching and bittersweet story about a tree that gives everything it has to a boy over the course of his life. As the boy grows up, he takes more from the tree, and the tree continues to give, even when it has little left. Silverstein’s minimalist text and illustrations convey deep themes of unconditional love, selflessness, and the passage of time. It has sparked much discussion about relationships and sacrifice.</td>\n",
       "      <td>Silverstein’s minimalist text and illustrations convey deep themes of unconditional love, selflessness, and the passage of time. It has sparked much discussion about relationships and sacrifice.</td>\n",
       "    </tr>\n",
       "    <tr>\n",
       "      <th>3</th>\n",
       "      <td>Green Eggs and Ham</td>\n",
       "      <td>In Green Eggs and Ham, Sam-I-Am tries to convince a reluctant character to try a dish of green eggs and ham, despite his resistance. Through repetition and rhyme, Dr. Seuss’s classic story about being open to new experiences encourages children to be adventurous and try things outside their comfort zone. The playful illustrations and humorous dialogue make it a fun and educational read for young readers.</td>\n",
       "      <td>Dr. Seuss’s classic story encourages children to be adventurous and try things outside their comfort zone. The playful illustrations and humorous dialogue make it a fun and educational read for young readers.</td>\n",
       "    </tr>\n",
       "    <tr>\n",
       "      <th>4</th>\n",
       "      <td>Goodnight Moon</td>\n",
       "      <td>Goodnight Moon is a gentle, rhythmic bedtime story where a little bunny says goodnight to everything in his room, from the moon to the \"quiet old lady whispering hush.\" Its repetitive structure and comforting tone make it ideal for young children. The simple illustrations by Clement Hurd complement the soothing nature of the story, making it a beloved classic for sleep-time reading.</td>\n",
       "      <td>Goodnight Moon is a gentle, rhythmic bedtime story. The simple illustrations by Clement Hurd complement the soothing nature of the story.</td>\n",
       "    </tr>\n",
       "  </tbody>\n",
       "</table>\n",
       "</div>"
      ],
      "text/plain": [
       "                         Title  \\\n",
       "0    Where the Wild Things Are   \n",
       "1  The Very Hungry Caterpillar   \n",
       "2              The Giving Tree   \n",
       "3           Green Eggs and Ham   \n",
       "4               Goodnight Moon   \n",
       "\n",
       "                                                                                                                                                                                                                                                                                                                                                                                                                                              Description  \\\n",
       "0                 Where the Wild Things Are follows Max, a young boy who, after being sent to his room for misbehaving, imagines sailing to an island filled with wild creatures. As their king, Max tames the beasts and eventually returns home to find his supper waiting for him. This iconic book explores themes of imagination, adventure, and the complex emotions of childhood, all captured through Sendak's whimsical illustrations and story.   \n",
       "1                       The Very Hungry Caterpillar tells the story of a caterpillar who eats through a variety of foods before eventually becoming a butterfly. Eric Carle’s use of colorful collage illustrations and rhythmic text has made this book a beloved classic for young readers. The simple, engaging story introduces children to days of the week, counting, and the concept of metamorphosis. It’s a staple in early childhood education.   \n",
       "2  The Giving Tree is a touching and bittersweet story about a tree that gives everything it has to a boy over the course of his life. As the boy grows up, he takes more from the tree, and the tree continues to give, even when it has little left. Silverstein’s minimalist text and illustrations convey deep themes of unconditional love, selflessness, and the passage of time. It has sparked much discussion about relationships and sacrifice.   \n",
       "3                                 In Green Eggs and Ham, Sam-I-Am tries to convince a reluctant character to try a dish of green eggs and ham, despite his resistance. Through repetition and rhyme, Dr. Seuss’s classic story about being open to new experiences encourages children to be adventurous and try things outside their comfort zone. The playful illustrations and humorous dialogue make it a fun and educational read for young readers.   \n",
       "4                                                       Goodnight Moon is a gentle, rhythmic bedtime story where a little bunny says goodnight to everything in his room, from the moon to the \"quiet old lady whispering hush.\" Its repetitive structure and comforting tone make it ideal for young children. The simple illustrations by Clement Hurd complement the soothing nature of the story, making it a beloved classic for sleep-time reading.   \n",
       "\n",
       "                                                                                                                                                                                                                             Summary  \n",
       "0                Where the Wild Things Are follows Max, a young boy who imagines sailing to an island filled with wild creatures. This iconic book explores themes of imagination, adventure, and the complex emotions of childhood.  \n",
       "1  Eric Carle’s use of colorful collage illustrations and rhythmic text has made this book a beloved classic for young readers. The simple, engaging story introduces children to days of the week, counting, and the concept of met  \n",
       "2                                 Silverstein’s minimalist text and illustrations convey deep themes of unconditional love, selflessness, and the passage of time. It has sparked much discussion about relationships and sacrifice.  \n",
       "3                   Dr. Seuss’s classic story encourages children to be adventurous and try things outside their comfort zone. The playful illustrations and humorous dialogue make it a fun and educational read for young readers.  \n",
       "4                                                                                          Goodnight Moon is a gentle, rhythmic bedtime story. The simple illustrations by Clement Hurd complement the soothing nature of the story.  "
      ]
     },
     "execution_count": 35,
     "metadata": {},
     "output_type": "execute_result"
    }
   ],
   "source": [
    "# view the summaries\n",
    "books[['Title', 'Description', 'Summary']].head()"
   ]
  },
  {
   "cell_type": "code",
   "execution_count": 36,
   "id": "812c786e-6834-471b-9980-33a721f6e837",
   "metadata": {},
   "outputs": [],
   "source": [
    "# most of these summaries look great and make sense, although the second one had an incomplete, cutoff last sentence"
   ]
  },
  {
   "cell_type": "markdown",
   "id": "26fa8877-e5a1-42f1-a157-c116513fd29a",
   "metadata": {},
   "source": [
    "## 5. Document Similarity"
   ]
  },
  {
   "cell_type": "markdown",
   "id": "b269ed9a-b4fb-4cc4-b32e-118469b88f79",
   "metadata": {},
   "source": [
    "1. Turn the Description column into embeddings using feature extraction\n",
    "2. Compare the cosine similarity of Harry Potter and the Sorcerer’s Stone compared to all other books\n",
    "3. Return the top 5 most similar books"
   ]
  },
  {
   "cell_type": "code",
   "execution_count": 37,
   "id": "22265e59-30bd-426b-97d2-f707a2d7eb87",
   "metadata": {},
   "outputs": [
    {
     "data": {
      "text/plain": [
       "(100, 384)"
      ]
     },
     "execution_count": 37,
     "metadata": {},
     "output_type": "execute_result"
    }
   ],
   "source": [
    "# specify our model\n",
    "import numpy as np\n",
    "\n",
    "feature_extractor = pipeline(\"feature-extraction\",\n",
    "                             model=\"sentence-transformers/all-MiniLM-L6-v2\",\n",
    "                             device='mps')\n",
    "\n",
    "# extract the embeddings\n",
    "embeddings = books['Description'].apply(lambda x: feature_extractor(x)[0][0])\n",
    "embeddings_books = np.vstack(embeddings)\n",
    "embeddings_books.shape"
   ]
  },
  {
   "cell_type": "code",
   "execution_count": 38,
   "id": "e8f91d97-41ea-4c63-8ea3-0ad77571b567",
   "metadata": {},
   "outputs": [],
   "source": [
    "# create a function to get book recommendations\n",
    "from sklearn.metrics.pairwise import cosine_similarity\n",
    "\n",
    "def get_similar_books(embeddings, book_index, book_details, top_n=3):\n",
    "    \n",
    "    # specify the book\n",
    "    b_embedding = np.array(embeddings[book_index]).reshape(1, -1)\n",
    "    \n",
    "    # calculate cosine similarity scores\n",
    "    similarity_scores = cosine_similarity(b_embedding, embeddings)\n",
    "    similarity_scores_series = pd.Series(similarity_scores.flatten(), name='similarity_score')\n",
    "    \n",
    "    # combine with book info and their similarity scores\n",
    "    similarity_df = pd.concat([book_details, similarity_scores_series], axis=1)\n",
    "    \n",
    "    # sort and return top n most similar books\n",
    "    return similarity_df.sort_values('similarity_score', ascending=False).iloc[0:top_n+1]"
   ]
  },
  {
   "cell_type": "code",
   "execution_count": 39,
   "id": "34ee3d7c-ce37-4b80-934b-ca07cb826b95",
   "metadata": {},
   "outputs": [
    {
     "data": {
      "text/plain": [
       "13       Harry Potter and the Sorcerer's Stone (Harry Potter, #1)\n",
       "97    Harry Potter and the Prisoner of Azkaban (Harry Potter, #3)\n",
       "98     Harry Potter and the Chamber of Secrets (Harry Potter, #2)\n",
       "Name: Title, dtype: object"
      ]
     },
     "execution_count": 39,
     "metadata": {},
     "output_type": "execute_result"
    }
   ],
   "source": [
    "# find the harry potter book index\n",
    "books.Title[books.Title.str.contains('harry potter', case=False)]"
   ]
  },
  {
   "cell_type": "code",
   "execution_count": 40,
   "id": "c9c03b39-ad09-4b87-96bc-a8b1121fae9e",
   "metadata": {},
   "outputs": [
    {
     "data": {
      "text/html": [
       "<div>\n",
       "<style scoped>\n",
       "    .dataframe tbody tr th:only-of-type {\n",
       "        vertical-align: middle;\n",
       "    }\n",
       "\n",
       "    .dataframe tbody tr th {\n",
       "        vertical-align: top;\n",
       "    }\n",
       "\n",
       "    .dataframe thead th {\n",
       "        text-align: right;\n",
       "    }\n",
       "</style>\n",
       "<table border=\"1\" class=\"dataframe\">\n",
       "  <thead>\n",
       "    <tr style=\"text-align: right;\">\n",
       "      <th></th>\n",
       "      <th>Title</th>\n",
       "      <th>Description</th>\n",
       "      <th>Rating</th>\n",
       "      <th>similarity_score</th>\n",
       "    </tr>\n",
       "  </thead>\n",
       "  <tbody>\n",
       "    <tr>\n",
       "      <th>13</th>\n",
       "      <td>Harry Potter and the Sorcerer's Stone (Harry Potter, #1)</td>\n",
       "      <td>Harry Potter and the Sorcerer’s Stone introduces readers to Harry Potter, an orphan who discovers that he is a wizard and attends the magical Hogwarts School of Witchcraft and Wizardry. Along with his new friends, Harry uncovers mysteries surrounding his past and the dark wizard who killed his parents. This book starts the beloved series and sets the stage for Harry’s journey, filled with magic, adventure, and friendship.</td>\n",
       "      <td>4.47</td>\n",
       "      <td>1.000000</td>\n",
       "    </tr>\n",
       "    <tr>\n",
       "      <th>97</th>\n",
       "      <td>Harry Potter and the Prisoner of Azkaban (Harry Potter, #3)</td>\n",
       "      <td>Harry Potter and the Prisoner of Azkaban is the third book in the Harry Potter series, where Harry returns to Hogwarts for his third year and uncovers secrets about his past. With the arrival of the mysterious Sirius Black, Harry must navigate dark truths and face his fears. This thrilling installment explores themes of loyalty, friendship, and identity, marking a turning point in the magical world of Harry Potter.</td>\n",
       "      <td>4.58</td>\n",
       "      <td>0.872638</td>\n",
       "    </tr>\n",
       "    <tr>\n",
       "      <th>98</th>\n",
       "      <td>Harry Potter and the Chamber of Secrets (Harry Potter, #2)</td>\n",
       "      <td>Harry Potter and the Chamber of Secrets is the second book in the Harry Potter series, where Harry returns to Hogwarts for his second year and uncovers a hidden chamber within the school. As mysterious events unfold, Harry and his friends Ron and Hermione uncover dark secrets about the school’s past. Themes of courage, friendship, and standing up for what’s right are explored in this gripping magical adventure.</td>\n",
       "      <td>4.43</td>\n",
       "      <td>0.855368</td>\n",
       "    </tr>\n",
       "    <tr>\n",
       "      <th>63</th>\n",
       "      <td>The Witches</td>\n",
       "      <td>The Witches tells the story of a young boy and his grandmother who uncover a secret society of witches who despise children and plot to turn them all into mice. With the help of his grandmother, the boy must outwit the witches and save the children. The book is known for its dark humor, thrilling suspense, and memorable characters. Though it can be a bit scary, it is beloved for its unique blend of fear, adventure, and courage.</td>\n",
       "      <td>4.18</td>\n",
       "      <td>0.799051</td>\n",
       "    </tr>\n",
       "    <tr>\n",
       "      <th>55</th>\n",
       "      <td>The Wonderful Wizard of Oz (Oz, #1)</td>\n",
       "      <td>The Wonderful Wizard of Oz is the first book in Baum's Oz series and tells the story of Dorothy, a young girl from Kansas who is swept away to the magical land of Oz. Along with her new friends—the Scarecrow, Tin Man, and Cowardly Lion—Dorothy embarks on a journey to meet the Wizard and find her way home. The book is filled with themes of friendship, courage, and the belief in oneself, and has become an iconic tale in American literature.</td>\n",
       "      <td>4.00</td>\n",
       "      <td>0.788523</td>\n",
       "    </tr>\n",
       "    <tr>\n",
       "      <th>42</th>\n",
       "      <td>The Hobbit, or There and Back Again (The Lord of the Rings, #0)</td>\n",
       "      <td>The Hobbit follows the journey of Bilbo Baggins, a hobbit who is thrust into an epic adventure with dwarves and the wizard Gandalf. Together, they set out to reclaim treasure guarded by the dragon Smaug. Along the way, Bilbo grows in courage, wisdom, and leadership. The book introduces readers to Tolkien's richly imagined world of Middle-earth and is the prelude to the Lord of the Rings trilogy, blending adventure, fantasy, and heroism.</td>\n",
       "      <td>4.29</td>\n",
       "      <td>0.773417</td>\n",
       "    </tr>\n",
       "  </tbody>\n",
       "</table>\n",
       "</div>"
      ],
      "text/plain": [
       "                                                              Title  \\\n",
       "13         Harry Potter and the Sorcerer's Stone (Harry Potter, #1)   \n",
       "97      Harry Potter and the Prisoner of Azkaban (Harry Potter, #3)   \n",
       "98       Harry Potter and the Chamber of Secrets (Harry Potter, #2)   \n",
       "63                                                      The Witches   \n",
       "55                              The Wonderful Wizard of Oz (Oz, #1)   \n",
       "42  The Hobbit, or There and Back Again (The Lord of the Rings, #0)   \n",
       "\n",
       "                                                                                                                                                                                                                                                                                                                                                                                                                                                   Description  \\\n",
       "13                   Harry Potter and the Sorcerer’s Stone introduces readers to Harry Potter, an orphan who discovers that he is a wizard and attends the magical Hogwarts School of Witchcraft and Wizardry. Along with his new friends, Harry uncovers mysteries surrounding his past and the dark wizard who killed his parents. This book starts the beloved series and sets the stage for Harry’s journey, filled with magic, adventure, and friendship.   \n",
       "97                          Harry Potter and the Prisoner of Azkaban is the third book in the Harry Potter series, where Harry returns to Hogwarts for his third year and uncovers secrets about his past. With the arrival of the mysterious Sirius Black, Harry must navigate dark truths and face his fears. This thrilling installment explores themes of loyalty, friendship, and identity, marking a turning point in the magical world of Harry Potter.   \n",
       "98                              Harry Potter and the Chamber of Secrets is the second book in the Harry Potter series, where Harry returns to Hogwarts for his second year and uncovers a hidden chamber within the school. As mysterious events unfold, Harry and his friends Ron and Hermione uncover dark secrets about the school’s past. Themes of courage, friendship, and standing up for what’s right are explored in this gripping magical adventure.   \n",
       "63             The Witches tells the story of a young boy and his grandmother who uncover a secret society of witches who despise children and plot to turn them all into mice. With the help of his grandmother, the boy must outwit the witches and save the children. The book is known for its dark humor, thrilling suspense, and memorable characters. Though it can be a bit scary, it is beloved for its unique blend of fear, adventure, and courage.   \n",
       "55  The Wonderful Wizard of Oz is the first book in Baum's Oz series and tells the story of Dorothy, a young girl from Kansas who is swept away to the magical land of Oz. Along with her new friends—the Scarecrow, Tin Man, and Cowardly Lion—Dorothy embarks on a journey to meet the Wizard and find her way home. The book is filled with themes of friendship, courage, and the belief in oneself, and has become an iconic tale in American literature.   \n",
       "42    The Hobbit follows the journey of Bilbo Baggins, a hobbit who is thrust into an epic adventure with dwarves and the wizard Gandalf. Together, they set out to reclaim treasure guarded by the dragon Smaug. Along the way, Bilbo grows in courage, wisdom, and leadership. The book introduces readers to Tolkien's richly imagined world of Middle-earth and is the prelude to the Lord of the Rings trilogy, blending adventure, fantasy, and heroism.   \n",
       "\n",
       "   Rating  similarity_score  \n",
       "13   4.47          1.000000  \n",
       "97   4.58          0.872638  \n",
       "98   4.43          0.855368  \n",
       "63   4.18          0.799051  \n",
       "55   4.00          0.788523  \n",
       "42   4.29          0.773417  "
      ]
     },
     "execution_count": 40,
     "metadata": {},
     "output_type": "execute_result"
    }
   ],
   "source": [
    "# get book recommendations\n",
    "get_similar_books(embeddings_books, 13, books[['Title', 'Description', 'Rating']], top_n=5)"
   ]
  },
  {
   "cell_type": "code",
   "execution_count": 41,
   "id": "125778f5-9d8c-44a4-8306-4f9b414552eb",
   "metadata": {},
   "outputs": [],
   "source": [
    "# these outputs are all about wizards and witches, which make a lot of sense!"
   ]
  },
  {
   "cell_type": "code",
   "execution_count": null,
   "id": "f374f7a2-e67f-4484-adaf-735f28e7aa19",
   "metadata": {},
   "outputs": [],
   "source": []
  }
 ],
 "metadata": {
  "kernelspec": {
   "display_name": "Python 3 (ipykernel)",
   "language": "python",
   "name": "python3"
  },
  "language_info": {
   "codemirror_mode": {
    "name": "ipython",
    "version": 3
   },
   "file_extension": ".py",
   "mimetype": "text/x-python",
   "name": "python",
   "nbconvert_exporter": "python",
   "pygments_lexer": "ipython3",
   "version": "3.13.2"
  }
 },
 "nbformat": 4,
 "nbformat_minor": 5
}
