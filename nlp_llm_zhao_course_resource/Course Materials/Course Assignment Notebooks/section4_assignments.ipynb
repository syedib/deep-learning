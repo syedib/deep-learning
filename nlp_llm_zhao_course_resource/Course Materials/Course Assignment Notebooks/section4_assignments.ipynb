{
 "cells": [
  {
   "cell_type": "markdown",
   "id": "219a0aa9-8444-4b37-b051-9171645dddd1",
   "metadata": {},
   "source": [
    "# NLP with Machine Learning Assignments"
   ]
  },
  {
   "cell_type": "markdown",
   "id": "5fabb240-becb-4e0d-9769-88f536d29493",
   "metadata": {},
   "source": [
    "## 1. Sentiment Analysis"
   ]
  },
  {
   "cell_type": "markdown",
   "id": "fd961b40-a9d1-4374-be33-d1398c10cca1",
   "metadata": {},
   "source": [
    "1. Create a new _nlp_machine_learning_ environment\n",
    "2. Launch Jupyter Notebook\n",
    "3. Read in the _movie_reviews.csv_ file\n",
    "4. Apply sentiment analysis to the _movie_info_ column\n",
    "5. Sort the sentiment scores to return the top 10 and bottom 10 sentiment scores and their corresponding movie titles"
   ]
  },
  {
   "cell_type": "code",
   "execution_count": null,
   "id": "45bb5d81-5f18-48cc-95cc-ae5f214c275d",
   "metadata": {},
   "outputs": [],
   "source": []
  },
  {
   "cell_type": "code",
   "execution_count": null,
   "id": "c3547acf-43e7-4b39-ada7-6fc399bc9ff9",
   "metadata": {},
   "outputs": [],
   "source": []
  },
  {
   "cell_type": "code",
   "execution_count": null,
   "id": "fe256ba2-5e02-4e66-a297-040141ff1e0e",
   "metadata": {},
   "outputs": [],
   "source": []
  },
  {
   "cell_type": "markdown",
   "id": "5c175eeb-1c81-4bd7-a25e-2ad335fbd3d3",
   "metadata": {},
   "source": [
    "## 2. Text Classification"
   ]
  },
  {
   "cell_type": "markdown",
   "id": "2a1996d5-dba7-4358-98c6-2ef3e751dc58",
   "metadata": {},
   "source": [
    "1. Clean and normalize the _movie_info_ column using the _maven_text_preprocessing.py_ module\n",
    "2. Create a Count Vectorizer\n",
    "* Remove stop words\n",
    "* Set the minimum document frequency to 10%\n",
    "3. Create a Naïve Bayes model and a Logistic Regression model to predict which movies are directed by women vs men using the CV\n",
    "4. Compare their accuracy scores and classification reports\n",
    "5. Using the better performing model, return the top 5 movies that the model predicts are most likely directed by a women"
   ]
  },
  {
   "cell_type": "code",
   "execution_count": null,
   "id": "d95876e3-83ea-448b-951c-95c0e2ec8283",
   "metadata": {},
   "outputs": [],
   "source": []
  },
  {
   "cell_type": "code",
   "execution_count": null,
   "id": "824b3543-f219-4af8-9c80-25e157b59406",
   "metadata": {},
   "outputs": [],
   "source": []
  },
  {
   "cell_type": "code",
   "execution_count": null,
   "id": "0c921203-0281-40f3-94f1-ec4f7344f6e9",
   "metadata": {},
   "outputs": [],
   "source": []
  },
  {
   "cell_type": "markdown",
   "id": "fd3fc5ba-9184-4b75-b851-7cc02857ffe2",
   "metadata": {},
   "source": [
    "## 3. Topic Modeling"
   ]
  },
  {
   "cell_type": "markdown",
   "id": "2e04a6a5-d049-4ba9-9dda-4a0ad6bed2f2",
   "metadata": {},
   "source": [
    "1. Using the same preprocessed data as the last assignment, create a Tfidf Vectorizer\n",
    "* Remove stop words\n",
    "* Start with min_df = 0.05 and max_df=0.2\n",
    "2. Create an NMF model to find the main topics in the movie descriptions\n",
    "* Start with n_components=2\n",
    "3. Tweak the model by updating the Tfidf Vectorizer parameters and number of topics\n",
    "4. Interpret and name the topics\n",
    "5. For two of the topics, return the top movies that contain the topic"
   ]
  },
  {
   "cell_type": "code",
   "execution_count": null,
   "id": "cfe275a1-09d3-448c-80fe-5ab771230712",
   "metadata": {},
   "outputs": [],
   "source": []
  },
  {
   "cell_type": "code",
   "execution_count": null,
   "id": "1aa63a29-a616-481f-88f3-35394d54100e",
   "metadata": {},
   "outputs": [],
   "source": []
  },
  {
   "cell_type": "code",
   "execution_count": null,
   "id": "07cbba4d-b1ea-430a-ba22-1b226a42bc1c",
   "metadata": {},
   "outputs": [],
   "source": []
  }
 ],
 "metadata": {
  "kernelspec": {
   "display_name": "Python 3 (ipykernel)",
   "language": "python",
   "name": "python3"
  },
  "language_info": {
   "codemirror_mode": {
    "name": "ipython",
    "version": 3
   },
   "file_extension": ".py",
   "mimetype": "text/x-python",
   "name": "python",
   "nbconvert_exporter": "python",
   "pygments_lexer": "ipython3",
   "version": "3.12.9"
  }
 },
 "nbformat": 4,
 "nbformat_minor": 5
}
