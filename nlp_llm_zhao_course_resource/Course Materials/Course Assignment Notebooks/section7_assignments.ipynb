{
 "cells": [
  {
   "cell_type": "markdown",
   "id": "0b6039fe-058d-4ca8-b777-55c9015008dd",
   "metadata": {},
   "source": [
    "# Hugging Face Transformers Assignments"
   ]
  },
  {
   "cell_type": "markdown",
   "id": "51453f5a-a9d1-451e-a0cf-caddf8392d87",
   "metadata": {},
   "source": [
    "## 1. Sentiment Analysis"
   ]
  },
  {
   "cell_type": "markdown",
   "id": "b91bb8c1-a0d3-4c7a-ba3a-cc4bbaa05f3f",
   "metadata": {},
   "source": [
    "1. Create a new _nlp_transformers_ environment\n",
    "2. Launch Jupyter Notebook\n",
    "3. Read in the movie reviews data set including the VADER sentiment scores (_movie_reviews_sentiment.csv_)\n",
    "4. Apply sentiment analysis to the _movie_info_ column using transformers\n",
    "5. Compare the transformers sentiment scores with the VADER sentiment scores"
   ]
  },
  {
   "cell_type": "code",
   "execution_count": null,
   "id": "fafc4e89-3ec3-49da-bfba-673f47635b38",
   "metadata": {},
   "outputs": [],
   "source": []
  },
  {
   "cell_type": "code",
   "execution_count": null,
   "id": "8c707bfa-02c2-4cdd-a283-26d3f3986008",
   "metadata": {},
   "outputs": [],
   "source": []
  },
  {
   "cell_type": "markdown",
   "id": "9d93a908-11dd-4554-9c2a-cc987938f253",
   "metadata": {},
   "source": [
    "## 2. Named Entity Recognition"
   ]
  },
  {
   "cell_type": "markdown",
   "id": "60338a9b-0adc-47a5-9cfe-7074da9edca6",
   "metadata": {},
   "source": [
    "1. Read in the children's books data set (_childrens_books.csv_)\n",
    "2. Apply NER to the Description column\n",
    "3. Create a list of all named entities\n",
    "4. Only include the people (PER)\n",
    "5. _Extra credit:_ Exclude the authors as well"
   ]
  },
  {
   "cell_type": "code",
   "execution_count": null,
   "id": "30b32023-448f-4517-8841-c6dfa7c8268b",
   "metadata": {},
   "outputs": [],
   "source": []
  },
  {
   "cell_type": "code",
   "execution_count": null,
   "id": "be505570-3bb1-4ba8-9ed5-1d50a3c53ab3",
   "metadata": {},
   "outputs": [],
   "source": []
  },
  {
   "cell_type": "markdown",
   "id": "a8ff2723-9560-4bf4-ade7-53cbb6503b61",
   "metadata": {},
   "source": [
    "## 3. Zero-Shot Classification"
   ]
  },
  {
   "cell_type": "markdown",
   "id": "4bf9f8ed-6b81-4f45-a19d-97287de8d3cb",
   "metadata": {},
   "source": [
    "1. Apply zero-shot classification to the Description column using these five categories:\n",
    "* adventure & fantasy\n",
    "* animals & nature\n",
    "* mystery\n",
    "* humor\n",
    "* non-fiction\n",
    "2. Find the number of books in each category and check a few to see if the results make sense"
   ]
  },
  {
   "cell_type": "code",
   "execution_count": null,
   "id": "7a1a7ac1-4cba-4d76-8b87-cb48099e2418",
   "metadata": {},
   "outputs": [],
   "source": []
  },
  {
   "cell_type": "code",
   "execution_count": null,
   "id": "46bc040f-478b-4aaa-b339-70c761594cd4",
   "metadata": {},
   "outputs": [],
   "source": []
  },
  {
   "cell_type": "markdown",
   "id": "cf88784f-2446-421f-922c-4fe7df80784b",
   "metadata": {},
   "source": [
    "## 4. Text Summarization"
   ]
  },
  {
   "cell_type": "markdown",
   "id": "c858cc66-2baf-447d-b482-c31f674c3873",
   "metadata": {},
   "source": [
    "1. Apply text summarization to the Description column\n",
    "2. Review the results to see if they make sense"
   ]
  },
  {
   "cell_type": "code",
   "execution_count": null,
   "id": "88646853-5b75-4348-b9e9-e0b7571c5606",
   "metadata": {},
   "outputs": [],
   "source": []
  },
  {
   "cell_type": "code",
   "execution_count": null,
   "id": "1ba1b877-d685-4e9b-9e1a-09df4032ad0b",
   "metadata": {},
   "outputs": [],
   "source": []
  },
  {
   "cell_type": "markdown",
   "id": "26fa8877-e5a1-42f1-a157-c116513fd29a",
   "metadata": {},
   "source": [
    "## 5. Document Similarity"
   ]
  },
  {
   "cell_type": "markdown",
   "id": "b269ed9a-b4fb-4cc4-b32e-118469b88f79",
   "metadata": {},
   "source": [
    "1. Turn the Description column into embeddings using feature extraction\n",
    "2. Compare the cosine similarity of Harry Potter and the Sorcerer’s Stone compared to all other books\n",
    "3. Return the top 5 most similar books"
   ]
  },
  {
   "cell_type": "code",
   "execution_count": null,
   "id": "64677635-ab0c-44b4-a46e-41265bf902e0",
   "metadata": {},
   "outputs": [],
   "source": []
  },
  {
   "cell_type": "code",
   "execution_count": null,
   "id": "125778f5-9d8c-44a4-8306-4f9b414552eb",
   "metadata": {},
   "outputs": [],
   "source": []
  }
 ],
 "metadata": {
  "kernelspec": {
   "display_name": "Python 3 (ipykernel)",
   "language": "python",
   "name": "python3"
  },
  "language_info": {
   "codemirror_mode": {
    "name": "ipython",
    "version": 3
   },
   "file_extension": ".py",
   "mimetype": "text/x-python",
   "name": "python",
   "nbconvert_exporter": "python",
   "pygments_lexer": "ipython3",
   "version": "3.13.2"
  }
 },
 "nbformat": 4,
 "nbformat_minor": 5
}
